{
 "cells": [
  {
   "cell_type": "code",
   "execution_count": 3,
   "metadata": {
    "collapsed": true
   },
   "outputs": [],
   "source": [
    "from matplotlib import rc\n",
    "rc('font',**{'family':'sans-serif','sans-serif':['Helvetica']})\n",
    "rc('text', usetex=True)"
   ]
  },
  {
   "cell_type": "code",
   "execution_count": 4,
   "metadata": {},
   "outputs": [
    {
     "data": {
      "image/png": "[encoded data removed]",
      "text/plain": [
       "<matplotlib.figure.Figure at 0x10801f750>"
      ]
     },
     "metadata": {},
     "output_type": "display_data"
    }
   ],
   "source": [
    "# list of points \n",
    "from __future__ import print_function \n",
    "\n",
    "import numpy as np \n",
    "import matplotlib.pyplot as plt\n",
    "from matplotlib.backends.backend_pdf import PdfPages\n",
    "np.random.seed(22)\n",
    "\n",
    "means = [[2, 2], [4, 2]]\n",
    "cov = [[.3, .2], [.2, .3]]\n",
    "N = 10\n",
    "\n",
    "X0 = np.array([.5, .75, 1, 1.25, 1.5, 1.75, 2, 2.5, 3, 3.5])\n",
    "y0 = np.zeros_like(X0)\n",
    "\n",
    "X1 = np.array([1.75, 2.25, 2.75, 3.25, 4, 4.25, 4.5, 4.75, 5, 5.5])\n",
    "y1 = np.ones_like(X1)\n",
    "filename = 'ex1.pdf'\n",
    "with PdfPages(filename) as pdf:\n",
    "\n",
    "    plt.plot(X0, y0, 'ro', markersize = 8)\n",
    "    plt.plot(X1, y1, 'bs', markersize = 8)\n",
    "\n",
    "    plt.axis([0, 6, -.5, 1.5])\n",
    "    cur_axes = plt.gca()\n",
    "    plt.xlabel('hours studying', fontsize = 14)\n",
    "    plt.ylabel('fail(0) / pass(1)', fontsize = 14)\n",
    "    cur_axes.axes.get_yaxis().set_ticks([0, 1])\n",
    "    plt.axes().set_aspect('equal')\n",
    "    plt.tick_params(axis='both', which='major', labelsize=14)\n",
    "    \n",
    "    pdf.savefig(bbox_inches='tight')\n",
    "    plt.show()\n"
   ]
  },
  {
   "cell_type": "code",
   "execution_count": 24,
   "metadata": {},
   "outputs": [
    {
     "data": {
      "image/png": "[encoded data removed]",
      "text/plain": [
       "<matplotlib.figure.Figure at 0x10c7654d0>"
      ]
     },
     "metadata": {},
     "output_type": "display_data"
    }
   ],
   "source": [
    "# list of points \n",
    "import numpy as np \n",
    "import matplotlib.pyplot as plt\n",
    "from scipy.spatial.distance import cdist\n",
    "np.random.seed(22)\n",
    "\n",
    "# means = [[2, 2], [4, 2]]\n",
    "# cov = [[.3, .2], [.2, .3]]\n",
    "# N = 10\n",
    "# X0 = np.random.multivariate_normal(means[0], cov, N)\n",
    "# X1 = np.random.multivariate_normal(means[1], cov, N)\n",
    "\n",
    "x = np.linspace(-5, 5, 1000)\n",
    "y1 = (np.sign(x) +1)/2\n",
    "y2 = 1./(1 + np.exp(-x))\n",
    "y3 = np.exp(x) /(np.exp(x) + np.exp(-x))\n",
    "\n",
    "filename = 'activation.pdf'\n",
    "with PdfPages(filename) as pdf:\n",
    "\n",
    "    l1, = plt.plot(x, y1, 'r', linewidth = 2, label = \"hard threshold\")\n",
    "    l2, = plt.plot(x, y2, 'b', linewidth = 2, label = \"$f(s) = \\\\frac{1}{1 + e^{-s}}$\")\n",
    "    l3, = plt.plot(x, y3, 'g', linewidth = 2, label = \"$f(s) = \\\\frac{e^{s}}{e^{s} + e^{-s}}$\")\n",
    "    l4, = plt.plot([-1, 1], [-1, 2], 'y', linewidth = 2, label = \"linear\")\n",
    "    plt.plot([-4, 0], [1, 1], 'k--')\n",
    "\n",
    "    # handles, labels = ax.get_legend_handles_labels()\n",
    "    plt.legend(handles = [l1, l2, l3, l4], fontsize = 12)\n",
    "\n",
    "    cur_axes = plt.gca()\n",
    "    cur_axes.axes.get_xaxis().set_ticks([])\n",
    "    cur_axes.axes.get_yaxis().set_ticks([0, 1])\n",
    "\n",
    "    plt.axis([-3, 5, -.6, 1.6])\n",
    "    plt.axes().set_aspect('equal')\n",
    "    plt.tick_params(labelsize=14)\n",
    "    # plt.savefig('activation.png', bbox_inches='tight', dpi = 300)\n",
    "    pdf.savefig(bbox_inches='tight')\n",
    "    plt.show()\n",
    "\n",
    "    plt.close(\"all\")"
   ]
  },
  {
   "cell_type": "markdown",
   "metadata": {},
   "source": [
    "## 3. Ví dụ với Python\n",
    "### Ví dụ với dữ liệu 1 chiều\n",
    "Quay trở lại với ví dụ nêu ở phần Giới thiệu. Trước tiên ta cần khai báo vài thư viện và tạo dữ liệu:"
   ]
  },
  {
   "cell_type": "code",
   "execution_count": 84,
   "metadata": {
    "collapsed": true
   },
   "outputs": [],
   "source": [
    "# To support both python 2 and python 3\n",
    "from __future__ import division, print_function, unicode_literals\n",
    "import numpy as np \n",
    "import matplotlib.pyplot as plt\n",
    "np.random.seed(2)\n",
    "\n",
    "X = np.array([[0.50, 0.75, 1.00, 1.25, 1.50, 1.75, 1.75, 2.00, 2.25, 2.50, \n",
    "              2.75, 3.00, 3.25, 3.50, 4.00, 4.25, 4.50, 4.75, 5.00, 5.50]])\n",
    "y = np.array([0, 0, 0, 0, 0, 0, 1, 0, 1, 0, 1, 0, 1, 0, 1, 1, 1, 1, 1, 1])\n",
    "\n",
    "# extened data \n",
    "X = np.concatenate((np.ones((1, X.shape[1])), X), axis = 0)"
   ]
  },
  {
   "cell_type": "markdown",
   "metadata": {},
   "source": [
    "### Các hàm cần thiết cho logistic sigmoid regression"
   ]
  },
  {
   "cell_type": "code",
   "execution_count": 149,
   "metadata": {},
   "outputs": [
    {
     "name": "stdout",
     "output_type": "stream",
     "text": [
      "Solution of Logistic Regression: [ 1.54337021 -4.06486702]\n",
      "Final loss: 0.402446724975\n"
     ]
    },
    {
     "data": {
      "image/png": "[encoded data removed]",
      "text/plain": [
       "<matplotlib.figure.Figure at 0x10e98b850>"
      ]
     },
     "metadata": {},
     "output_type": "display_data"
    }
   ],
   "source": [
    "from __future__ import print_function\n",
    "import numpy as np \n",
    "\n",
    "\n",
    "def sigmoid(S):\n",
    "    \"\"\"\n",
    "    S: an numpy array\n",
    "    return sigmoid function of each element of S\n",
    "    \"\"\"\n",
    "    return 1/(1 + np.exp(-S))\n",
    "\n",
    "def bias_trick(X):\n",
    "    N = X.shape[0]\n",
    "    return np.concatenate((X, np.ones((N, 1))), axis = 1)\n",
    "\n",
    "def prob(w, X):\n",
    "    \"\"\"\n",
    "    X: a 2d numpy array of shape (N, d). N datatpoint, each with size d\n",
    "    w: a 1d numpy array of shape (d)\n",
    "    \"\"\"\n",
    "    return sigmoid(X.dot(w))\n",
    "\n",
    "def loss(w, X, y, lam):\n",
    "    \"\"\"\n",
    "    X, w as in prob \n",
    "    y: a 1d numpy array of shape (N). Each elem = 0 or 1 \n",
    "    \"\"\"\n",
    "    z = prob(w, X)\n",
    "    return -np.mean(y*np.log(z) + (1-y)*np.log(1-z)) + 0.5*lam/X.shape[0]*np.sum(w*w)\n",
    "\n",
    "\n",
    "def predict(w, X, threshold = 0.5):\n",
    "    \"\"\"\n",
    "    predict output of each row of X\n",
    "    X: a numpy array of shape\n",
    "    threshold: a threshold between 0 and 1 \n",
    "    \"\"\"\n",
    "    res = np.zeros(X.shape[0])\n",
    "    res[np.where(prob(w, X) > threshold)[0]] = 1\n",
    "    return res \n",
    "\n",
    "\n",
    "\n",
    "def logistic_regression(w_init, X, y, lam = 0.001, lr = 0.1, nepoches = 2000):\n",
    "    # lam - regularization paramether, lr - learning rate, nepoches - number of epoches\n",
    "    N, d = X.shape[0], X.shape[1]\n",
    "    w = w_old = w_init \n",
    "    # store history of loss in loss_hist\n",
    "    loss_hist = [loss(w_init, X, y, lam)]\n",
    "    ep = 0 \n",
    "    while ep < nepoches: \n",
    "        ep += 1\n",
    "        mix_ids = np.random.permutation(N)\n",
    "        for i in mix_ids:\n",
    "            xi = X[i]\n",
    "            yi = y[i]\n",
    "            zi = sigmoid(xi.dot(w))\n",
    "            w = w - lr*((zi - yi)*xi + lam*w)\n",
    "        loss_hist.append(loss(w, X, y, lam))\n",
    "        if np.linalg.norm(w - w_old)/d < 1e-6:\n",
    "            break \n",
    "        w_old = w\n",
    "    return w, loss_hist \n",
    "\n",
    "np.random.seed(2)\n",
    "X = np.array([[0.50, 0.75, 1.00, 1.25, 1.50, 1.75, 1.75, 2.00, 2.25, 2.50, \n",
    "              2.75, 3.00, 3.25, 3.50, 4.00, 4.25, 4.50, 4.75, 5.00, 5.50]]).T\n",
    "y = np.array([0, 0, 0, 0, 0, 0, 1, 0, 1, 0, 1, 0, 1, 0, 1, 1, 1, 1, 1, 1])\n",
    "\n",
    "# bias trick \n",
    "Xbar = np.concatenate((X, np.ones((X.shape[0], 1))), axis = 1)\n",
    "w_init = np.random.randn(Xbar.shape[1])\n",
    "lam = 0.0001\n",
    "w, loss_hist = logistic_regression(w_init, Xbar, y, lam, lr = 0.05, nepoches = 500)\n",
    "print('Solution of Logistic Regression:', w)\n",
    "print('Final loss:', loss(w, Xbar, y, lam))\n",
    "\n",
    "filename = 'log_reg_loss.pdf'\n",
    "with PdfPages(filename) as pdf:\n",
    "\n",
    "    plt.plot(loss_hist)\n",
    "    plt.xlabel('number of iterations', fontsize = 13)\n",
    "    plt.ylabel('loss function', fontsize = 13)\n",
    "    plt.tick_params(axis='both', which='major', labelsize=13)\n",
    "    pdf.savefig(bbox_inches='tight')\n",
    "    plt.show()"
   ]
  },
  {
   "cell_type": "code",
   "execution_count": 147,
   "metadata": {},
   "outputs": [
    {
     "name": "stdout",
     "output_type": "stream",
     "text": [
      "[ 1.50440482 -4.0770035 ]\n",
      "0.401541140266\n"
     ]
    }
   ],
   "source": [
    "from sklearn.linear_model import LogisticRegression \n",
    "model = LogisticRegression(C = 2/lam)\n",
    "model.fit(X, y)\n",
    "\n",
    "w2 = np.array([model.coef_[0][0], model.intercept_[0]])\n",
    "print(w2)\n",
    "print(loss(w2, Xbar, y, lam))"
   ]
  },
  {
   "cell_type": "code",
   "execution_count": null,
   "metadata": {
    "collapsed": true
   },
   "outputs": [],
   "source": []
  },
  {
   "cell_type": "code",
   "execution_count": 40,
   "metadata": {},
   "outputs": [
    {
     "data": {
      "image/png": "[encoded data removed]",
      "text/plain": [
       "<matplotlib.figure.Figure at 0x1084ec8d0>"
      ]
     },
     "metadata": {},
     "output_type": "display_data"
    }
   ],
   "source": [
    "plt.plot(X0, y0, 'ro', markersize = 8)\n",
    "plt.plot(X1, y1, 'bs', markersize = 8)\n",
    "\n",
    "plt.axis([0, 6, -.5, 1.5])\n",
    "cur_axes = plt.gca()\n",
    "plt.xlabel('hours studying', fontsize = 14)\n",
    "plt.ylabel('fail(0) / pass(1)', fontsize = 14)\n",
    "cur_axes.axes.get_yaxis().set_ticks([0, 1])\n",
    "plt.axes().set_aspect('equal')\n",
    "plt.tick_params(axis='both', which='major', labelsize=14)\n",
    "plt.plot(X.reshape(-1), prob(w, Xbar), 'g^')\n",
    "# pdf.savefig(bbox_inches='tight')\n",
    "plt.show()\n"
   ]
  },
  {
   "cell_type": "code",
   "execution_count": 41,
   "metadata": {},
   "outputs": [
    {
     "data": {
      "image/png": "[encoded data removed]",
      "text/plain": [
       "<matplotlib.figure.Figure at 0x1084ecd10>"
      ]
     },
     "metadata": {},
     "output_type": "display_data"
    }
   ],
   "source": [
    "# X0 = X[1, np.where(y == 0)][0]\n",
    "# y0 = y[np.where(y == 0)]\n",
    "# X1 = X[1, np.where(y == 1)][0]\n",
    "# y1 = y[np.where(y == 1)]\n",
    "filename = 'log_reg_res.pdf'\n",
    "with PdfPages(filename) as pdf:\n",
    "    plt.plot(X0, y0, 'ro', markersize = 8, markeredgecolor = 'k')\n",
    "    plt.plot(X1, y1, 'bs', markersize = 8, markeredgecolor = 'k')\n",
    "\n",
    "    xx = np.linspace(0, 6, 1000)\n",
    "    w0 = w[0]\n",
    "    w1 = w[1]\n",
    "    threshold = -w0/w1\n",
    "    yy = sigmoid(w0 + w1*xx)\n",
    "\n",
    "    plt.plot(xx, yy, 'g-', linewidth = 2)\n",
    "    plt.plot(threshold, .5, 'y^', markersize = 8, markeredgecolor = 'k')\n",
    "    plt.xlabel('studying hours', fontsize = 13)\n",
    "    plt.ylabel('predicted probability of pass', fontsize = 13)\n",
    "    plt.axis([0, 6, -.5, 1.5])\n",
    "    plt.tick_params(axis='both', which='major', labelsize=13)\n",
    "    pdf.savefig(bbox_inches='tight')\n",
    "    plt.show()"
   ]
  },
  {
   "cell_type": "markdown",
   "metadata": {},
   "source": [
    "### Với kết quả tìm được, đầu ra \\\\(y\\\\) có thể được dự đoán theo công thức: `y = sigmoid(-4.1 + 1.537*x)`. Với dữ liệu trong tập training, kết quả là:"
   ]
  },
  {
   "cell_type": "code",
   "execution_count": 184,
   "metadata": {},
   "outputs": [
    {
     "name": "stdout",
     "output_type": "stream",
     "text": [
      "[[ 0.03501592  0.05078108  0.07310642  0.10416972  0.14634799  0.20175793\n",
      "   0.20175793  0.27147534  0.35458234  0.4475032   0.54424128  0.63775242\n",
      "   0.72188183  0.79282004  0.89267823  0.92460236  0.94758783  0.96384008\n",
      "   0.97518471  0.9884283 ]]\n"
     ]
    }
   ],
   "source": [
    "print(sigmoid(np.dot(w[-1].T, X)))"
   ]
  },
  {
   "cell_type": "markdown",
   "metadata": {},
   "source": [
    "Biểu diễn kết quả này trên đồ thị ta có:"
   ]
  },
  {
   "cell_type": "code",
   "execution_count": 185,
   "metadata": {},
   "outputs": [
    {
     "data": {
      "image/png": "[encoded data removed]",
      "text/plain": [
       "<matplotlib.figure.Figure at 0x7f6a8b475250>"
      ]
     },
     "metadata": {},
     "output_type": "display_data"
    }
   ],
   "source": [
    "X0 = X[1, np.where(y == 0)][0]\n",
    "y0 = y[np.where(y == 0)]\n",
    "X1 = X[1, np.where(y == 1)][0]\n",
    "y1 = y[np.where(y == 1)]\n",
    "\n",
    "plt.plot(X0, y0, 'ro', markersize = 8)\n",
    "plt.plot(X1, y1, 'bs', markersize = 8)\n",
    "\n",
    "xx = np.linspace(0, 6, 1000)\n",
    "w0 = w[-1][0][0]\n",
    "w1 = w[-1][1][0]\n",
    "threshold = -w0/w1\n",
    "yy = sigmoid(w0 + w1*xx)\n",
    "plt.axis([-2, 8, -1, 2])\n",
    "plt.plot(xx, yy, 'g-', linewidth = 2)\n",
    "plt.plot(threshold, .5, 'y^', markersize = 8)\n",
    "plt.xlabel('studying hours')\n",
    "plt.ylabel('predicted probability of pass')\n",
    "plt.savefig('lg_results.png', bbox_inches='tight', dpi = 300)\n",
    "plt.show()"
   ]
  },
  {
   "cell_type": "markdown",
   "metadata": {},
   "source": [
    "Nếu như chỉ có hai output là 'fail' hoặc 'pass', điểm trên đồ thị của hàm sigmoid tương ứng với xác suất 0.5 được chọn làm _hard threshold_ (ngưỡng cứng). Việc này có thể chứng minh khá dễ dàng (tôi sẽ bàn ở phần dưới). "
   ]
  },
  {
   "cell_type": "markdown",
   "metadata": {},
   "source": [
    "### Ví dụ với dữ liệu 2 chiều"
   ]
  },
  {
   "cell_type": "code",
   "execution_count": 164,
   "metadata": {},
   "outputs": [
    {
     "data": {
      "image/png": "[encoded data removed]",
      "text/plain": [
       "<matplotlib.figure.Figure at 0x1097d1690>"
      ]
     },
     "metadata": {},
     "output_type": "display_data"
    }
   ],
   "source": [
    "# To support both python 2 and python 3\n",
    "from __future__ import division, print_function, unicode_literals\n",
    "# list of points \n",
    "import numpy as np \n",
    "import matplotlib.pyplot as plt\n",
    "from scipy.spatial.distance import cdist\n",
    "np.random.seed(22)\n",
    "\n",
    "means = [[2, 2], [4, 2]]\n",
    "cov = [[.7, 0], [0, .7]]\n",
    "N = 20\n",
    "X0 = np.random.multivariate_normal(means[0], cov, N)\n",
    "X1 = np.random.multivariate_normal(means[1], cov, N)\n",
    "filename = 'logistic_2d.pdf'\n",
    "with PdfPages(filename) as pdf:\n",
    "    plt.plot(X0[:, 0], X0[:, 1], 'bs', markersize = 8, alpha = 1)\n",
    "    plt.plot(X1[:, 0], X1[:, 1], 'ro', markersize = 8, alpha = 1)\n",
    "    plt.axis('equal')\n",
    "    plt.ylim(0, 4)\n",
    "    plt.xlim(0, 5)\n",
    "\n",
    "    # hide tikcs \n",
    "    cur_axes = plt.gca()\n",
    "    cur_axes.axes.get_xaxis().set_ticks([])\n",
    "    cur_axes.axes.get_yaxis().set_ticks([])\n",
    "\n",
    "    plt.xlabel('$x_1$', fontsize = 20)\n",
    "    plt.ylabel('$x_2$', fontsize = 20)\n",
    "    pdf.savefig(bbox_inches='tight')\n",
    "    plt.show()"
   ]
  },
  {
   "cell_type": "code",
   "execution_count": 151,
   "metadata": {},
   "outputs": [
    {
     "name": "stdout",
     "output_type": "stream",
     "text": [
      "(20, 2)\n"
     ]
    }
   ],
   "source": [
    "print(X0.shape)"
   ]
  },
  {
   "cell_type": "code",
   "execution_count": 154,
   "metadata": {},
   "outputs": [
    {
     "name": "stdout",
     "output_type": "stream",
     "text": [
      "[-10.74217306   2.40128834   1.59096704]\n"
     ]
    }
   ],
   "source": [
    "X = np.concatenate((X0, X1), axis = 0)\n",
    "y = np.concatenate((np.zeros((1, N)), np.ones((1, N))), axis = 1).T\n",
    "# Xbar \n",
    "Xbar = np.concatenate((np.ones((2*N, 1)), X), axis = 1)\n",
    "\n",
    "eta = .05 \n",
    "d = Xbar.shape[1]\n",
    "w_init = np.random.randn(d)\n",
    "\n",
    "# w = logistic_sigmoid_regression(X, y, w_init, eta, tol = 1e-4, max_count= 10000)\n",
    "\n",
    "w, loss_hist = logistic_regression(w_init, Xbar, y, lam, lr = 0.05, nepoches = 500)\n",
    "print(w)"
   ]
  },
  {
   "cell_type": "code",
   "execution_count": 163,
   "metadata": {},
   "outputs": [
    {
     "data": {
      "image/png": "[encoded data removed]",
      "text/plain": [
       "<matplotlib.figure.Figure at 0x10a848050>"
      ]
     },
     "metadata": {},
     "output_type": "display_data"
    }
   ],
   "source": [
    "# Make data.\n",
    "xm = np.arange(-1, 6, 0.025)\n",
    "xlen = len(xm)\n",
    "ym = np.arange(0, 4, 0.025)\n",
    "ylen = len(ym)\n",
    "xm, ym = np.meshgrid(xm, ym)\n",
    "zm = sigmoid(w[0] + w[1]*xm + w[2]*ym)\n",
    "\n",
    "\n",
    "filename = 'logistic_2d_2.pdf'\n",
    "with PdfPages(filename) as pdf:\n",
    "    CS = plt.contourf(xm, ym, zm, 200, cmap='jet')\n",
    "\n",
    "    plt.plot(X0[:, 0], X0[:, 1], 'bs', markersize = 8, alpha = 1, markeredgecolor = 'w')\n",
    "    plt.plot(X1[:, 0], X1[:, 1], 'ro', markersize = 8, alpha = 1, markeredgecolor = 'w')\n",
    "    plt.axis('equal')\n",
    "    plt.ylim(0, 4)\n",
    "    plt.xlim(0, 5)\n",
    "\n",
    "    # hide tikcs \n",
    "    cur_axes = plt.gca()\n",
    "    cur_axes.axes.get_xaxis().set_ticks([])\n",
    "    cur_axes.axes.get_yaxis().set_ticks([])\n",
    "\n",
    "    plt.xlabel('$x_1$', fontsize = 20)\n",
    "    plt.ylabel('$x_2$', fontsize = 20)\n",
    "    # plt.savefig('logistic_2d_2.png', bbox_inches='tight', dpi = 300)\n",
    "    pdf.savefig(bbox_inchs = 'tight')\n",
    "    plt.show()"
   ]
  },
  {
   "cell_type": "markdown",
   "metadata": {
    "collapsed": true
   },
   "source": [
    "# Logistic Regression cho bài toán phân biệt chữ số viết tay "
   ]
  },
  {
   "cell_type": "code",
   "execution_count": 165,
   "metadata": {
    "collapsed": true
   },
   "outputs": [],
   "source": [
    "# for auto-reloading external modules\n",
    "# see http://stackoverflow.com/questions/1907993/autoreload-of-modules-in-ipython\n",
    "%load_ext autoreload\n",
    "%autoreload 2"
   ]
  },
  {
   "cell_type": "code",
   "execution_count": 243,
   "metadata": {},
   "outputs": [
    {
     "name": "stdout",
     "output_type": "stream",
     "text": [
      "Total 70000 digits, each has 784 pixels.\n"
     ]
    }
   ],
   "source": [
    "import numpy as np \n",
    "from sklearn.datasets import fetch_mldata\n",
    "from sklearn.model_selection import train_test_split\n",
    "from sklearn.linear_model import LogisticRegression \n",
    "from sklearn.metrics import accuracy_score\n",
    "mnist = fetch_mldata('MNIST original', data_home='../../data/')\n",
    "N, d = mnist.data.shape\n",
    "print('Total {:d} digits, each has {:d} pixels.'.format(N, d))"
   ]
  },
  {
   "cell_type": "code",
   "execution_count": 238,
   "metadata": {
    "collapsed": true
   },
   "outputs": [],
   "source": [
    "X_all = mnist.data \n",
    "y_all = mnist.target\n",
    "\n",
    "X0 = X_all[np.where(y_all == 0)[0]] # all digit 0\n",
    "X1 = X_all[np.where(y_all == 1)[0]] # all digit 1\n",
    "y0 = np.zeros(X0.shape[0]) # class 0 label \n",
    "y1 = np.ones(X1.shape[0])  # class 1 label\n",
    "\n",
    "X = np.concatenate((X0, X1), axis = 0) # all digits\n",
    "y = np.concatenate((y0, y1)) # all labels \n",
    "\n",
    "# split train and test \n",
    "X_train, X_test, y_train, y_test = train_test_split(X, y, test_size=2000)"
   ]
  },
  {
   "cell_type": "code",
   "execution_count": 244,
   "metadata": {},
   "outputs": [
    {
     "name": "stdout",
     "output_type": "stream",
     "text": [
      "Accuracy 99.90 %\n"
     ]
    }
   ],
   "source": [
    "model = LogisticRegression(C = 1e5) # C is inverse of lam \n",
    "model.fit(X_train, y_train)\n",
    "\n",
    "y_pred = model.predict(X_test)\n",
    "print(\"Accuracy %.2f %%\" % (100*accuracy_score(y_test, y_pred.tolist())))"
   ]
  },
  {
   "cell_type": "code",
   "execution_count": 245,
   "metadata": {},
   "outputs": [
    {
     "data": {
      "image/png": "[encoded data removed]",
      "text/plain": [
       "<matplotlib.figure.Figure at 0x10cdb5790>"
      ]
     },
     "metadata": {},
     "output_type": "display_data"
    }
   ],
   "source": [
    "mis = np.where((y_pred - y_test) !=0)[0]\n",
    "Xmis = X_test[mis, :]\n",
    "\n",
    "from display_network import * \n",
    "filename = 'mnist_mis.pdf'\n",
    "with PdfPages(filename) as pdf:\n",
    "    plt.axis('off')\n",
    "    A = display_network(Xmis.T, 1, Xmis.shape[0])\n",
    "    f2 = plt.imshow(A, interpolation='nearest' )\n",
    "    plt.gray()\n",
    "    pdf.savefig(bbox_inches='tight')\n",
    "    plt.show()"
   ]
  },
  {
   "cell_type": "code",
   "execution_count": 246,
   "metadata": {},
   "outputs": [
    {
     "name": "stdout",
     "output_type": "stream",
     "text": [
      "Accuracy 91.95 %\n"
     ]
    }
   ],
   "source": [
    "# all class \n",
    "X_train, X_test, y_train, y_test = train_test_split(X_all, y_all, test_size=10000)\n",
    "model = LogisticRegression(C = 1e5) # C is inverse of lam \n",
    "model.fit(X_train, y_train)\n",
    "y_pred = model.predict(X_test)\n",
    "print(\"Accuracy %.2f %%\" % (100*accuracy_score(y_test, y_pred.tolist())))"
   ]
  },
  {
   "cell_type": "code",
   "execution_count": null,
   "metadata": {
    "collapsed": true
   },
   "outputs": [],
   "source": []
  }
 ],
 "metadata": {
  "kernelspec": {
   "display_name": "Python 2",
   "language": "python",
   "name": "python2"
  },
  "language_info": {
   "codemirror_mode": {
    "name": "ipython",
    "version": 2
   },
   "file_extension": ".py",
   "mimetype": "text/x-python",
   "name": "python",
   "nbconvert_exporter": "python",
   "pygments_lexer": "ipython2",
   "version": "2.7.13"
  }
 },
 "nbformat": 4,
 "nbformat_minor": 2
}
