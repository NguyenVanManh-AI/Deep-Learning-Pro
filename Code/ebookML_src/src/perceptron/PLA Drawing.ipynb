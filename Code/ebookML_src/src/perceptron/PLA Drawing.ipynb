{
 "cells": [
  {
   "cell_type": "code",
   "execution_count": 8,
   "metadata": {
    "collapsed": true
   },
   "outputs": [],
   "source": [
    "from matplotlib import rc\n",
    "rc('font',**{'family':'sans-serif','sans-serif':['Helvetica']})\n",
    "rc('text', usetex=True)"
   ]
  },
  {
   "cell_type": "code",
   "execution_count": 10,
   "metadata": {},
   "outputs": [
    {
     "data": {
      "image/png": "[encoded data removed]",
      "text/plain": [
       "<matplotlib.figure.Figure at 0x10902fed0>"
      ]
     },
     "metadata": {},
     "output_type": "display_data"
    }
   ],
   "source": [
    "from __future__ import print_function\n",
    "import numpy as np \n",
    "import matplotlib.pyplot as plt\n",
    "np.random.seed(22)\n",
    "\n",
    "\n",
    "from matplotlib.backends.backend_pdf import PdfPages\n",
    "\n",
    "    \n",
    "\n",
    "\n",
    "means = [[2, 2], [4, 2]]\n",
    "cov = [[.3, .2], [.2, .3]]\n",
    "N = 10\n",
    "X0 = np.random.multivariate_normal(means[0], cov, N)\n",
    "X1 = np.random.multivariate_normal(means[1], cov, N)\n",
    "\n",
    "filename = 'pla1.pdf'\n",
    "with PdfPages(filename) as pdf: \n",
    "    plt.plot(X0[:, 0], X0[:, 1], 'bs', markersize = 8, alpha = .8)\n",
    "    plt.plot(X1[:, 0], X1[:, 1], 'ro', markersize = 8, alpha = .8)\n",
    "    plt.plot([3.5], [2.5], 'k^', markersize = 10, alpha = .5)\n",
    "    plt.text(3.6, 2.5, r'?', fontsize=15)\n",
    "    plt.axis('equal')\n",
    "    plt.ylim(0, 3)\n",
    "    plt.xlim(2, 4)\n",
    "\n",
    "    # hide tikcs \n",
    "    cur_axes = plt.gca()\n",
    "    cur_axes.axes.get_xaxis().set_ticks([])\n",
    "    cur_axes.axes.get_yaxis().set_ticks([])\n",
    "\n",
    "    plt.xlabel('$x_1$', fontsize = 20)\n",
    "    plt.ylabel('$x_2$', fontsize = 20)\n",
    "    \n",
    "    pdf.savefig(bbox_inches='tight')\n",
    "    plt.show()\n"
   ]
  },
  {
   "cell_type": "code",
   "execution_count": 11,
   "metadata": {},
   "outputs": [
    {
     "data": {
      "image/png": "[encoded data removed]",
      "text/plain": [
       "<matplotlib.figure.Figure at 0x10b97f250>"
      ]
     },
     "metadata": {},
     "output_type": "display_data"
    }
   ],
   "source": [
    "# plot points\n",
    "plt.plot(X0[:, 0], X0[:, 1], 'bs', markersize = 8, alpha = .8)\n",
    "plt.plot(X1[:, 0], X1[:, 1], 'ro', markersize = 8, alpha = .8)\n",
    "plt.plot([3.5], [2.5], 'r^', markersize = 10, alpha = .8)\n",
    "plt.axis('equal')\n",
    "# axis limits\n",
    "plt.ylim(0, 3)\n",
    "plt.xlim(2, 4)\n",
    "\n",
    "# fill region colors\n",
    "x1 = np.arange(-10,10,0.1)\n",
    "y1 = 2*x1 - 4\n",
    "y2 = 10*x1\n",
    "filename = 'pla2.pdf'\n",
    "with PdfPages(filename) as pdf: \n",
    "    plt.plot(x1, y1, 'k')\n",
    "    plt.fill_between(x1, y1, color='red', alpha='0.1')\n",
    "    plt.fill_between(x1, y1, y2, color = 'blue', alpha = '.1')\n",
    "\n",
    "    # hide tikcs \n",
    "    cur_axes = plt.gca()\n",
    "    cur_axes.axes.get_xaxis().set_ticks([])\n",
    "    cur_axes.axes.get_yaxis().set_ticks([])\n",
    "\n",
    "    plt.xlabel('$x_1$', fontsize = 20)\n",
    "    plt.ylabel('$x_2$', fontsize = 20)\n",
    "\n",
    "    pdf.savefig(bbox_inches='tight')\n",
    "    plt.show()"
   ]
  },
  {
   "cell_type": "code",
   "execution_count": 12,
   "metadata": {},
   "outputs": [
    {
     "data": {
      "image/png": "[encoded data removed]",
      "text/plain": [
       "<matplotlib.figure.Figure at 0x10b1a7cd0>"
      ]
     },
     "metadata": {},
     "output_type": "display_data"
    }
   ],
   "source": [
    "# plot points\n",
    "plt.plot(X0[:, 0], X0[:, 1], 'bs', markersize = 8, alpha = .8)\n",
    "plt.plot(X1[:, 0], X1[:, 1], 'ro', markersize = 8, alpha = .8)\n",
    "plt.plot([3.5], [2.5], 'k^', markersize = 10, alpha = .8)\n",
    "plt.axis('equal')\n",
    "# axis limits\n",
    "plt.ylim(0, 3)\n",
    "plt.xlim(2, 4)\n",
    "\n",
    "# fill region colors\n",
    "x1 = np.arange(-10,10,0.1)\n",
    "y1 = 2*x1 - 4\n",
    "y2 = 1.8*x1 -4\n",
    "y3 = 1.2*x1 - 2\n",
    "filename = 'pla6.pdf'\n",
    "with PdfPages(filename) as pdf: \n",
    "    plt.plot(x1, y1, 'k')\n",
    "    plt.plot(x1, y2, 'k')\n",
    "    plt.plot(x1, y3, 'k')\n",
    "\n",
    "    # hide tikcs \n",
    "    cur_axes = plt.gca()\n",
    "    cur_axes.axes.get_xaxis().set_ticks([])\n",
    "    cur_axes.axes.get_yaxis().set_ticks([])\n",
    "\n",
    "    plt.xlabel('$x_1$', fontsize = 20)\n",
    "    plt.ylabel('$x_2$', fontsize = 20)\n",
    "\n",
    "    pdf.savefig(bbox_inches='tight')\n",
    "    plt.show()"
   ]
  },
  {
   "cell_type": "code",
   "execution_count": 13,
   "metadata": {},
   "outputs": [
    {
     "data": {
      "image/png": "[encoded data removed]",
      "text/plain": [
       "<matplotlib.figure.Figure at 0x10a678550>"
      ]
     },
     "metadata": {},
     "output_type": "display_data"
    }
   ],
   "source": [
    "filename = 'pla7.pdf'\n",
    "with PdfPages(filename) as pdf: \n",
    "    # plot points\n",
    "    plt.plot(X0[:, 0], X0[:, 1], 'bs', markersize = 8, alpha = .8)\n",
    "    plt.plot(X1[:, 0], X1[:, 1], 'ro', markersize = 8, alpha = .8)\n",
    "    plt.plot([3.5], [1.5], 'bs', markersize = 10, alpha = .8)\n",
    "    plt.plot([1.5], [1.5], 'ro', markersize = 10, alpha = .8)\n",
    "    plt.axis('equal')\n",
    "    # axis limits\n",
    "    plt.ylim(0, 3)\n",
    "    plt.xlim(2, 4)\n",
    "\n",
    "    # fill region colors\n",
    "    x1 = np.arange(-10,10,0.1)\n",
    "    y1 = 2*x1 - 4\n",
    "    y2 = 1.8*x1 -4\n",
    "    y3 = 1.2*x1 - 2\n",
    "    plt.plot(x1, y1, 'k')\n",
    "\n",
    "\n",
    "    # hide tikcs \n",
    "    cur_axes = plt.gca()\n",
    "    cur_axes.axes.get_xaxis().set_ticks([])\n",
    "    cur_axes.axes.get_yaxis().set_ticks([])\n",
    "\n",
    "    plt.xlabel('$x_1$', fontsize = 20)\n",
    "    plt.ylabel('$x_2$', fontsize = 20)\n",
    "\n",
    "    pdf.savefig(bbox_inches='tight')\n",
    "    plt.show()"
   ]
  },
  {
   "cell_type": "code",
   "execution_count": 15,
   "metadata": {},
   "outputs": [
    {
     "data": {
      "image/png": "[encoded data removed]",
      "text/plain": [
       "<matplotlib.figure.Figure at 0x10a95f650>"
      ]
     },
     "metadata": {},
     "output_type": "display_data"
    }
   ],
   "source": [
    "filename = 'pla4.pdf'\n",
    "with PdfPages(filename) as pdf: \n",
    "    # plot points\n",
    "    plt.plot(X0[:, 0], X0[:, 1], 'bs', markersize = 8, alpha = .8)\n",
    "    plt.plot(X1[:, 0], X1[:, 1], 'ro', markersize = 8, alpha = .8)\n",
    "    plt.plot([3.5], [2.5], 'r^', markersize = 10, alpha = .8)\n",
    "    plt.axis('equal')\n",
    "    # axis limits\n",
    "    plt.ylim(0, 3)\n",
    "    plt.xlim(2, 4)\n",
    "\n",
    "    # fill region colors\n",
    "    x1 = np.arange(-10,10,0.1)\n",
    "    y1 = 2*x1 - 4\n",
    "    y2 = 10*x1\n",
    "    plt.plot(x1, y1, 'k')\n",
    "    plt.fill_between(x1, y1, color='red', alpha='0.1')\n",
    "    plt.fill_between(x1, y1, y2, color = 'blue', alpha = '.1')\n",
    "\n",
    "    # hide tikcs \n",
    "    cur_axes = plt.gca()\n",
    "    cur_axes.axes.get_xaxis().set_ticks([])\n",
    "    cur_axes.axes.get_yaxis().set_ticks([])\n",
    "\n",
    "    plt.xlabel('$x_1$', fontsize = 20)\n",
    "    plt.ylabel('$x_2$', fontsize = 20)\n",
    "\n",
    "\n",
    "    plt.text(1.8, .1, r'+', fontsize=20)\n",
    "    plt.text(2.2, .1, r'-', fontsize=30)\n",
    "\n",
    "    plt.text(2.15, 2.45, r'$w_1x_1 + w_2x_2 + w_0 = 0$', fontsize=16, rotation = 63.5)\n",
    "    pdf.savefig(bbox_inches='tight')\n",
    "    plt.show()"
   ]
  },
  {
   "cell_type": "code",
   "execution_count": 23,
   "metadata": {},
   "outputs": [
    {
     "data": {
      "image/png": "[encoded data removed]",
      "text/plain": [
       "<matplotlib.figure.Figure at 0x10d0b18d0>"
      ]
     },
     "metadata": {},
     "output_type": "display_data"
    }
   ],
   "source": [
    "filename = 'pla3.pdf'\n",
    "with PdfPages(filename) as pdf: \n",
    "    # plot points\n",
    "    fig, ax = plt.subplots()\n",
    "\n",
    "    plt.plot(X0[:, 0], X0[:, 1], 'bs', markersize = 8, alpha = .8)\n",
    "    plt.plot(X1[:, 0], X1[:, 1], 'ro', markersize = 8, alpha = .8)\n",
    "    plt.axis('equal')\n",
    "    # axis limits\n",
    "    plt.ylim(0, 3)\n",
    "    plt.xlim(2, 4)\n",
    "\n",
    "    # fill region colors\n",
    "    x1 = np.arange(-10,10,0.1)\n",
    "    w1 = .4\n",
    "    w2 = -1\n",
    "    w0 = .5\n",
    "    y1 = w1*x1 + w2 + 1.5\n",
    "    y2 = 10*x1\n",
    "    plt.plot(x1, y1, 'k')\n",
    "    plt.fill_between(x1, y1, color='red', alpha='0.1')\n",
    "    plt.fill_between(x1, y1, y2, color = 'blue', alpha = '.1')\n",
    "\n",
    "    # hide tikcs \n",
    "    cur_axes = plt.gca()\n",
    "    cur_axes.axes.get_xaxis().set_ticks([])\n",
    "    cur_axes.axes.get_yaxis().set_ticks([])\n",
    "\n",
    "    plt.xlabel('$x_1$', fontsize = 20)\n",
    "    plt.ylabel('$x_2$', fontsize = 20)\n",
    "\n",
    "    plt.text(1, 1, r'+', fontsize=20)\n",
    "    plt.text(1.2, .8, r'-', fontsize=30)\n",
    "\n",
    "\n",
    "    # find misclassified points\n",
    "    M = []\n",
    "    for p in X0:\n",
    "        if w1*p[0] + w2*p[1] + w0 > 0:\n",
    "            M.append(p)\n",
    "    for p in X1:\n",
    "        if w1*p[0] + w2*p[1] + w0 < 0:\n",
    "            M.append(p)\n",
    "    # add circles around misclassified points\n",
    "    for m in M:\n",
    "        circle = plt.Circle((m[0], m[1]), 0.1, color='k', fill = False)\n",
    "        ax.add_artist(circle)\n",
    "\n",
    "    plt.text(1.65, 1.6, r'$w_1x_1 + w_2x_2 + w_0 = 0$', fontsize=13, rotation = 22)\n",
    "    pdf.savefig(bbox_inches='tight')\n",
    "    plt.show()"
   ]
  },
  {
   "cell_type": "code",
   "execution_count": null,
   "metadata": {
    "collapsed": true
   },
   "outputs": [],
   "source": []
  }
 ],
 "metadata": {
  "kernelspec": {
   "display_name": "Python 2",
   "language": "python",
   "name": "python2"
  },
  "language_info": {
   "codemirror_mode": {
    "name": "ipython",
    "version": 2
   },
   "file_extension": ".py",
   "mimetype": "text/x-python",
   "name": "python",
   "nbconvert_exporter": "python",
   "pygments_lexer": "ipython2",
   "version": "2.7.13"
  }
 },
 "nbformat": 4,
 "nbformat_minor": 2
}
