{
 "cells": [
  {
   "cell_type": "markdown",
   "metadata": {},
   "source": [
    "# Bài toán tính khoảng cách\n",
    "\n",
    "## Từ 1 điểm đến 1 điểm \n",
    "\n"
   ]
  },
  {
   "cell_type": "code",
   "execution_count": 7,
   "metadata": {
    "collapsed": true
   },
   "outputs": [],
   "source": [
    "from __future__ import print_function \n",
    "import numpy as np \n",
    "from time import time \n",
    "d = 1000\n",
    "N = 10000\n",
    "X = np.random.randn(N, d)\n",
    "z = np.random.randn(d) "
   ]
  },
  {
   "cell_type": "code",
   "execution_count": 8,
   "metadata": {},
   "outputs": [
    {
     "name": "stdout",
     "output_type": "stream",
     "text": [
      "naive point2set, running time: 0.05400681495666504 s\n",
      "fast point2set , running time: 0.04299664497375488 s\n",
      "Result difference: 2.2365989256937495e-11\n"
     ]
    }
   ],
   "source": [
    "# naively compute square distance between two vector \n",
    "def dist_pp(z, x): \n",
    "    d = z - x.reshape(z.shape) # force x and z to have the same dims \n",
    "    return np.sum(d*d)\n",
    "\n",
    "# from one point to each point in a set, naive \n",
    "def dist_ps_naive(z, X):\n",
    "    N = X.shape[0]\n",
    "    res = np.zeros((1, N)) \n",
    "    for i in range(N):\n",
    "        res[0][i] = dist_pp(z, X[i])\n",
    "    return res \n",
    "\n",
    "# from one point to each point in a set, fast\n",
    "def dist_ps_fast(z, X):\n",
    "    X2 = np.sum(X*X, 1) # squared of norm 2 of each ROW of X\n",
    "    z2 = np.sum(z*z) # squared of norm 2 of z \n",
    "    return X2 + z2 - 2*X.dot(z)\n",
    "\n",
    "t1 = time() \n",
    "D1 = dist_ps_naive(z, X)\n",
    "print('naive point2set, running time:', time() - t1, 's')\n",
    "\n",
    "t1 = time() \n",
    "D2 = dist_ps_fast(z, X)\n",
    "print('fast point2set , running time:', time() - t1, 's')\n",
    "print('Result difference:', np.linalg.norm(D1 - D2))"
   ]
  },
  {
   "cell_type": "code",
   "execution_count": 9,
   "metadata": {},
   "outputs": [
    {
     "name": "stdout",
     "output_type": "stream",
     "text": [
      "half fast set2set running time: 3.646531581878662 s\n",
      "fast set2set  running time 0.05399966239929199 s\n",
      "Result difference: 1.0674752139219614e-10\n"
     ]
    }
   ],
   "source": [
    "M = 100 \n",
    "Z = np.random.randn(M, d)\n",
    "\n",
    "# from each point in one set to each point in another set, half fast \n",
    "def dist_ss_0(Z, X):\n",
    "    M = Z.shape[0]\n",
    "    N = X.shape[0]\n",
    "    res = np.zeros((M, N))\n",
    "    for i in range(M):\n",
    "        res[i] = dist_ps_fast(Z[i], X)\n",
    "    return res \n",
    "\n",
    "# from each point in one set to each point in another set, fast \n",
    "def dist_ss_fast(Z, X):\n",
    "    X2 = np.sum(X*X, 1) # squared of norm 2 of each ROW of X\n",
    "    Z2 = np.sum(Z*Z, 1) # squared of norm 2 of each ROW of Z\n",
    "    return Z2.reshape(-1, 1) + X2.reshape(1, -1) - 2*Z.dot(X.T)\n",
    "\n",
    "t1 = time() \n",
    "D3 = dist_ss_0(Z, X)\n",
    "print('half fast set2set running time:', time() - t1, 's')\n",
    "t1 = time() \n",
    "D4 = dist_ss_fast(Z, X)\n",
    "print('fast set2set  running time', time() - t1, 's')\n",
    "print('Result difference:', np.linalg.norm(D3 - D4))"
   ]
  },
  {
   "cell_type": "code",
   "execution_count": 10,
   "metadata": {},
   "outputs": [
    {
     "name": "stdout",
     "output_type": "stream",
     "text": [
      "fast set2set running time 0.06299757957458496 s\n",
      "Result difference: 1.0674752139219614e-10\n"
     ]
    }
   ],
   "source": [
    "# from each point in one set to each point in another set, fast \n",
    "def dist_ss_fast(Z, X):\n",
    "    M = Z.shape[0]\n",
    "    N = X.shape[0]\n",
    "    X2 = np.sum(X*X, 1)\n",
    "    Z2 = np.sum(Z*Z, 1) \n",
    "    return Z2.reshape(-1, 1) + X2.reshape(1, -1) - 2*Z.dot(X.T)\n",
    "\n",
    "t1 = time() \n",
    "D4 = dist_ss_fast(Z, X)\n",
    "print('fast set2set running time', time() - t1, 's')\n",
    "print('Result difference:', np.linalg.norm(D3 - D4))"
   ]
  },
  {
   "cell_type": "code",
   "execution_count": 11,
   "metadata": {},
   "outputs": [
    {
     "data": {
      "text/plain": [
       "1.0674752139219614e-10"
      ]
     },
     "execution_count": 11,
     "metadata": {},
     "output_type": "execute_result"
    }
   ],
   "source": [
    "np.linalg.norm(D3 - D4)"
   ]
  },
  {
   "cell_type": "code",
   "execution_count": 12,
   "metadata": {
    "collapsed": true
   },
   "outputs": [],
   "source": [
    "from scipy.spatial.distance import cdist"
   ]
  },
  {
   "cell_type": "code",
   "execution_count": 13,
   "metadata": {},
   "outputs": [
    {
     "name": "stdout",
     "output_type": "stream",
     "text": [
      "0.4140002727508545 s\n",
      "1.613596356396861e-09\n"
     ]
    }
   ],
   "source": [
    "t1 = time() \n",
    "D5 = cdist(Z, X)**2\n",
    "t2 = time() \n",
    "print(t2 - t1, 's')\n",
    "print(np.linalg.norm(D4 - D5))"
   ]
  },
  {
   "cell_type": "code",
   "execution_count": 14,
   "metadata": {},
   "outputs": [
    {
     "name": "stdout",
     "output_type": "stream",
     "text": [
      "17.275436401367188 s\n"
     ]
    }
   ],
   "source": [
    "d = 10\n",
    "N = 100000\n",
    "M = 10000\n",
    "X = np.random.randn(N, d)\n",
    "Z = np.random.randn(M, d) \n",
    "t1 = time()\n",
    "D0 = cdist(Z, X)\n",
    "t2 = time() \n",
    "\n",
    "print(t2 - t1, 's')\n",
    "\n",
    "t1 = time() \n",
    "D1 = dist_ss_fast(Z, X)\n",
    "t2 = time() \n",
    "print(t2 - t1, 's')"
   ]
  },
  {
   "cell_type": "code",
   "execution_count": null,
   "metadata": {},
   "outputs": [
    {
     "data": {
      "text/plain": [
       "1.3117007143439562e-10"
      ]
     },
     "execution_count": 20,
     "metadata": {},
     "output_type": "execute_result"
    }
   ],
   "source": [
    "np.linalg.norm(D0**2 - D1)"
   ]
  },
  {
   "cell_type": "markdown",
   "metadata": {
    "collapsed": true
   },
   "source": [
    "# Iris \n"
   ]
  },
  {
   "cell_type": "code",
   "execution_count": null,
   "metadata": {
    "collapsed": true
   },
   "outputs": [],
   "source": [
    "from __future__ import print_function \n",
    "import numpy as np\n",
    "from sklearn import neighbors, datasets\n",
    "from sklearn.model_selection import train_test_split\n",
    "from sklearn.metrics import accuracy_score"
   ]
  },
  {
   "cell_type": "code",
   "execution_count": null,
   "metadata": {},
   "outputs": [
    {
     "name": "stdout",
     "output_type": "stream",
     "text": [
      "Labels: [0 1 2]\n",
      "Train size: 20 , test size: 130\n"
     ]
    }
   ],
   "source": [
    "np.random.seed(7) \n",
    "iris = datasets.load_iris()\n",
    "iris_X = iris.data\n",
    "iris_y = iris.target\n",
    "print('Labels:', np.unique(iris_y))\n",
    "\n",
    "# split train and test \n",
    "X_train, X_test, y_train, y_test = train_test_split(\n",
    "     iris_X, iris_y, test_size=130)\n",
    "print('Train size:', X_train.shape[0], ', test size:', X_test.shape[0])"
   ]
  },
  {
   "cell_type": "code",
   "execution_count": null,
   "metadata": {},
   "outputs": [
    {
     "name": "stdout",
     "output_type": "stream",
     "text": [
      "Accuracy of 1NN: 92.31 %\n"
     ]
    }
   ],
   "source": [
    "# 1NN \n",
    "model = neighbors.KNeighborsClassifier(n_neighbors = 1, p = 2)\n",
    "model.fit(X_train, y_train)\n",
    "y_pred = model.predict(X_test)\n",
    "print(\"Accuracy of 1NN: %.2f %%\" %(100*accuracy_score(y_test, y_pred)))"
   ]
  },
  {
   "cell_type": "code",
   "execution_count": null,
   "metadata": {},
   "outputs": [
    {
     "name": "stdout",
     "output_type": "stream",
     "text": [
      "Accuracy of 7NN with major voting: 93.85 %\n"
     ]
    }
   ],
   "source": [
    "model = neighbors.KNeighborsClassifier(n_neighbors = 7, p = 2)\n",
    "model.fit(X_train, y_train)\n",
    "y_pred = model.predict(X_test)\n",
    "\n",
    "print(\"Accuracy of 7NN with major voting: %.2f %%\" %(100*accuracy_score(y_test, y_pred)))\n"
   ]
  },
  {
   "cell_type": "code",
   "execution_count": null,
   "metadata": {},
   "outputs": [
    {
     "name": "stdout",
     "output_type": "stream",
     "text": [
      "Accuracy of 7NN (1/distance weights): 94.62 %\n"
     ]
    }
   ],
   "source": [
    "model = neighbors.KNeighborsClassifier(n_neighbors = 7, p = 2, weights = 'distance')\n",
    "model.fit(X_train, y_train)\n",
    "y_pred = model.predict(X_test)\n",
    "\n",
    "print(\"Accuracy of 7NN (1/distance weights): %.2f %%\" %(100*accuracy_score(y_test, y_pred)))\n"
   ]
  },
  {
   "cell_type": "code",
   "execution_count": null,
   "metadata": {},
   "outputs": [
    {
     "name": "stdout",
     "output_type": "stream",
     "text": [
      "Accuracy of 7NN (customized weights): 95.38 %\n"
     ]
    }
   ],
   "source": [
    "def myweight(distances):\n",
    "    sigma2 = .4 # we can change this number\n",
    "    return np.exp(-distances**2/sigma2)\n",
    "\n",
    "model = neighbors.KNeighborsClassifier(n_neighbors = 7, p = 2, weights = myweight)\n",
    "model.fit(X_train, y_train)\n",
    "y_pred = model.predict(X_test)\n",
    "\n",
    "print(\"Accuracy of 7NN (customized weights): %.2f %%\" %(100*accuracy_score(y_test, y_pred)))"
   ]
  },
  {
   "cell_type": "code",
   "execution_count": null,
   "metadata": {
    "collapsed": true
   },
   "outputs": [],
   "source": []
  }
 ],
 "metadata": {
  "kernelspec": {
   "display_name": "Python 3",
   "language": "python",
   "name": "python3"
  },
  "language_info": {
   "codemirror_mode": {
    "name": "ipython",
    "version": 3
   },
   "file_extension": ".py",
   "mimetype": "text/x-python",
   "name": "python",
   "nbconvert_exporter": "python",
   "pygments_lexer": "ipython3",
   "version": "3.10.6"
  }
 },
 "nbformat": 4,
 "nbformat_minor": 2
}
