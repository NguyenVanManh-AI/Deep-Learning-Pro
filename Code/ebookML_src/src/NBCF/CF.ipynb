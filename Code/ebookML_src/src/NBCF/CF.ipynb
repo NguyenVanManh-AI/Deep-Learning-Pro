{
 "cells": [
  {
   "cell_type": "markdown",
   "metadata": {},
   "source": [
    "# Neighborhood-based Collaborative Filtering example "
   ]
  },
  {
   "cell_type": "code",
   "execution_count": 98,
   "metadata": {
    "collapsed": true
   },
   "outputs": [],
   "source": [
    "from __future__ import print_function \n",
    "import pandas as pd \n",
    "import numpy as np\n",
    "from sklearn.metrics.pairwise import cosine_similarity\n",
    "from scipy import sparse \n",
    "class uuCF(object):\n",
    "    def __init__(self, Y_data, k, sim_func = cosine_similarity):\n",
    "        self.Y_data = Y_data # a 2d array of shape (n_users, 3)\n",
    "                     # each row of Y_data has form [user_id, item_id, rating]\n",
    "        self.k         = k # number of neighborhood\n",
    "        self.sim_func  = sim_func # similarity function, default: cosine_similarity\n",
    "        self.Ybar      = None   # normalize data \n",
    "        self.n_users   = int(np.max(self.Y_data[:, 0])) + 1 # number of users\n",
    "        self.n_items   = int(np.max(self.Y_data[:, 1])) + 1 # number of items\n",
    "    \n",
    "    def fit(self):\n",
    "        users = self.Y_data[:, 0] # all users - first col of the Y_data\n",
    "        self.Ybar = self.Y_data.copy()\n",
    "        self.mu = np.zeros((self.n_users,))\n",
    "        for n in xrange(self.n_users):\n",
    "            # row indices of ratings made by user n\n",
    "            ids = np.where(users == n)[0].astype(np.int32)\n",
    "            item_ids = self.Y_data[ids, 1] # indices of all items rated by user n \n",
    "            ratings = self.Y_data[ids, 2]  # ratings made by user n \n",
    "            self.mu[n] = np.mean(ratings) if ids.size > 0 else 0 # avoid zero division \n",
    "            self.Ybar[ids, 2] = ratings - self.mu[n]\n",
    "            \n",
    "        ## form the rating matrix as a sparse matrix. \n",
    "        self.Ybar = sparse.coo_matrix((self.Ybar[:, 2],\n",
    "            (self.Ybar[:, 1], self.Ybar[:, 0])), (self.n_items, self.n_users)).tocsr()\n",
    "        self.S = self.sim_func(self.Ybar.T, self.Ybar.T)\n",
    "    \n",
    "    def pred(self, u, i):\n",
    "        \"\"\" predict the rating of user u for item i\"\"\"\n",
    "        ids = np.where(self.Y_data[:, 1] == i)[0].astype(np.int32) # find item i \n",
    "        users_rated_i = (self.Y_data[ids, 0]).astype(np.int32) # all users who rated i\n",
    "        sim       = self.S[u, users_rated_i] # similarity of u and users who rated i\n",
    "        nns       = np.argsort(sim)[-self.k:] # most k similar users \n",
    "        nearest_s = sim[nns] # and the corresponding similarities\n",
    "        r         = self.Ybar[i, users_rated_i[nns]] # the corresponding ratings \n",
    "        eps       = 1e-8 # a small number to avoid zero division \n",
    "        return (r*nearest_s).sum()/(np.abs(nearest_s).sum() + eps) + self.mu[u]\n",
    "    "
   ]
  },
  {
   "cell_type": "markdown",
   "metadata": {},
   "source": [
    "## MovieLens"
   ]
  },
  {
   "cell_type": "code",
   "execution_count": 99,
   "metadata": {
    "collapsed": true
   },
   "outputs": [],
   "source": [
    "r_cols = ['user_id', 'movie_id', 'rating', 'unix_timestamp']\n",
    "ratings_base = pd.read_csv('ml-100k/ua.base', sep='\\t', names=r_cols)\n",
    "ratings_test = pd.read_csv('ml-100k/ua.test', sep='\\t', names=r_cols)\n",
    "\n",
    "rate_train = ratings_base.as_matrix()\n",
    "rate_test = ratings_test.as_matrix()\n",
    "\n",
    "# indices start from 0\n",
    "rate_train[:, :2] -= 1\n",
    "rate_test[:, :2] -= 1"
   ]
  },
  {
   "cell_type": "code",
   "execution_count": 100,
   "metadata": {},
   "outputs": [
    {
     "name": "stdout",
     "output_type": "stream",
     "text": [
      "User-user CF, RMSE = 0.976614028929\n"
     ]
    }
   ],
   "source": [
    "rs = uuCF(rate_train, k = 40)\n",
    "rs.fit()\n",
    "\n",
    "n_tests = rate_test.shape[0]\n",
    "SE = 0 # squared error\n",
    "for n in xrange(n_tests):\n",
    "    pred = rs.pred(rate_test[n, 0], rate_test[n, 1])\n",
    "    SE += (pred - rate_test[n, 2])**2 \n",
    "\n",
    "RMSE = np.sqrt(SE/n_tests)\n",
    "print('User-user CF, RMSE =', RMSE)"
   ]
  },
  {
   "cell_type": "markdown",
   "metadata": {},
   "source": [
    "# Item-item CF"
   ]
  },
  {
   "cell_type": "code",
   "execution_count": 101,
   "metadata": {},
   "outputs": [
    {
     "name": "stdout",
     "output_type": "stream",
     "text": [
      "Item-item CF, RMSE = 0.968846083868\n"
     ]
    }
   ],
   "source": [
    "rate_train = rate_train[:, [1, 0, 2]]\n",
    "rate_test  = rate_test[:, [1, 0, 2]]\n",
    "\n",
    "rs = uuCF(rate_train, k = 40)\n",
    "rs.fit()\n",
    "\n",
    "n_tests = rate_test.shape[0]\n",
    "SE = 0 # squared error\n",
    "for n in xrange(n_tests):\n",
    "    pred = rs.pred(rate_test[n, 0], rate_test[n, 1])\n",
    "    SE += (pred - rate_test[n, 2])**2 \n",
    "\n",
    "RMSE = np.sqrt(SE/n_tests)\n",
    "print('Item-item CF, RMSE =', RMSE)"
   ]
  },
  {
   "cell_type": "code",
   "execution_count": null,
   "metadata": {
    "collapsed": true
   },
   "outputs": [],
   "source": []
  },
  {
   "cell_type": "code",
   "execution_count": null,
   "metadata": {
    "collapsed": true
   },
   "outputs": [],
   "source": []
  }
 ],
 "metadata": {
  "kernelspec": {
   "display_name": "Python 2",
   "language": "python",
   "name": "python2"
  },
  "language_info": {
   "codemirror_mode": {
    "name": "ipython",
    "version": 2
   },
   "file_extension": ".py",
   "mimetype": "text/x-python",
   "name": "python",
   "nbconvert_exporter": "python",
   "pygments_lexer": "ipython2",
   "version": "2.7.13"
  }
 },
 "nbformat": 4,
 "nbformat_minor": 2
}
