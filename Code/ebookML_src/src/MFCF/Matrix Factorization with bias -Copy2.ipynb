{
 "cells": [
  {
   "cell_type": "markdown",
   "metadata": {
    "collapsed": true
   },
   "source": [
    "# Matrix Factorization"
   ]
  },
  {
   "cell_type": "code",
   "execution_count": 45,
   "metadata": {},
   "outputs": [],
   "source": [
    "from __future__ import print_function \n",
    "import pandas as pd \n",
    "import numpy as np\n",
    "from sklearn.metrics.pairwise import cosine_similarity\n",
    "from scipy import sparse \n",
    "\n",
    "class MF(object):\n",
    "    def __init__(self, Y, K, lam = 0.02, Xinit = None, Winit = None, \n",
    "                 learning_rate = 0.005, max_epoch = 20, print_every = 2):\n",
    "        self.Y      = Y\n",
    "        self.user   = Y[:, 0]\n",
    "        self.item   = Y[:, 1]\n",
    "        self.rating = Y[:, 2]\n",
    "        self.n_users       = int(np.max(self.user)) + 1 \n",
    "        self.n_items       = int(np.max(self.item)) + 1\n",
    "        self.n_ratings     = Y.shape[0] # number of known ratings\n",
    "        self.X = .1*np.random.randn(self.n_items, K) if Xinit is None else Xinit \n",
    "        self.W = .1*np.random.randn(self.n_users, K) if Winit is None else Winit \n",
    "        self.b = np.zeros(self.n_items) # item biases\n",
    "        self.d = np.zeros(self.n_users) # user biases\n",
    "        self.mu = np.mean(self.rating)\n",
    "        self.K      = K    # \n",
    "        self.lam    = lam  # regularization parameter \n",
    "        self.learning_rate = learning_rate\n",
    "        self.max_epoch      = max_epoch # maximum number of iterations \n",
    "        self.print_every   = print_every # print loss+ RMSE on training data after each ? iters \n",
    "\n",
    "    def _loss(self):\n",
    "        L = 0 \n",
    "        for n in range(self.n_ratings):\n",
    "            # user_id, item_id, rating\n",
    "            u, i, rating = self.user[n], self.item[n], self.rating[n]\n",
    "            pred_rating = self.X[i].dot(self.W[u]) + self.b[i] + self.d[u] + self.mu \n",
    "            L += 0.5*(pred_rating - rating)**2 + .5*self.lam*(self.b[i]*2 + \n",
    "                    self.d[u]*2 + np.sum(self.X[i]**2) + np.sum(self.W[u]**2))\n",
    "        \n",
    "        return L/self.n_ratings\n",
    "    \n",
    "    def fit(self):\n",
    "        for it in range(self.max_epoch):\n",
    "            # mix data \n",
    "            idx = np.random.permutation(self.n_ratings)\n",
    "            for n in idx:\n",
    "                u, i, rating = self.user[n], self.item[n], self.rating[n]\n",
    "                pred_rating = self.X[i].dot(self.W[u]) + self.b[i] + self.d[u] + self.mu \n",
    "                error = pred_rating - rating \n",
    "                self.b[i] -= self.learning_rate*(error + self.lam*self.b[i])\n",
    "                self.d[u] -= self.learning_rate*(error + self.lam*self.d[u])\n",
    "                self.X[i] -= self.learning_rate*(error*self.W[u] + self.lam*self.X[i])\n",
    "                self.W[u] -= self.learning_rate*(error*self.X[i] + self.lam*self.W[u])\n",
    "\n",
    "            if (it + 1) % self.print_every == 0:\n",
    "                rmse_train = self.evaluate_RMSE(self.Y)\n",
    "                print('iter = %d, loss = %.4f, RMSE train = %.4f'%(it + 1, self._loss(), rmse_train))\n",
    "    \n",
    "    def pred(self, u, i):\n",
    "        \"\"\" \n",
    "        predict the rating of user u for item i \n",
    "        \"\"\"\n",
    "        u, i = int(u), int(i)\n",
    "        pred = self.X[i].dot(self.W[u]) + self.b[i] + self.d[u] + self.mu# + bias\n",
    "        return max(0, min(5, pred)) # pred should be between 0 and 5 in MoviesLen \n",
    "    \n",
    "    def evaluate_RMSE(self, rate_test):\n",
    "        n_tests = rate_test.shape[0] # number of test \n",
    "        SE = 0 # squared error\n",
    "        for n in range(n_tests):\n",
    "            pred = self.pred(rate_test[n, 0], rate_test[n, 1])\n",
    "            SE += (pred - rate_test[n, 2])**2 \n",
    "\n",
    "        RMSE = np.sqrt(SE/n_tests)\n",
    "        return RMSE\n",
    "        "
   ]
  },
  {
   "cell_type": "markdown",
   "metadata": {},
   "source": [
    "# Áp dụng lên MovieLens 100k"
   ]
  },
  {
   "cell_type": "code",
   "execution_count": 46,
   "metadata": {
    "collapsed": true
   },
   "outputs": [],
   "source": [
    "r_cols = ['user_id', 'movie_id', 'rating', 'unix_timestamp']\n",
    "\n",
    "ratings_base = pd.read_csv('ml-100k/ua.base', sep='\\t', names=r_cols)\n",
    "ratings_test = pd.read_csv('ml-100k/ua.test', sep='\\t', names=r_cols)\n",
    "\n",
    "rate_train = ratings_base.as_matrix()\n",
    "rate_test = ratings_test.as_matrix()\n",
    "\n",
    "# indices start from 0\n",
    "rate_train[:, :2] -= 1\n",
    "rate_test[:, :2] -= 1"
   ]
  },
  {
   "cell_type": "code",
   "execution_count": 47,
   "metadata": {},
   "outputs": [
    {
     "name": "stdout",
     "output_type": "stream",
     "text": [
      "iter = 1, loss = 0.5727, RMSE train = 0.9862\n",
      "iter = 2, loss = 0.5272, RMSE train = 0.9508\n",
      "iter = 3, loss = 0.5020, RMSE train = 0.9332\n",
      "iter = 4, loss = 0.4855, RMSE train = 0.9219\n",
      "iter = 5, loss = 0.4730, RMSE train = 0.9136\n",
      "iter = 6, loss = 0.4640, RMSE train = 0.9076\n",
      "iter = 7, loss = 0.4567, RMSE train = 0.9027\n",
      "iter = 8, loss = 0.4511, RMSE train = 0.8986\n",
      "iter = 9, loss = 0.4459, RMSE train = 0.8950\n",
      "iter = 10, loss = 0.4417, RMSE train = 0.8918\n",
      "iter = 11, loss = 0.4379, RMSE train = 0.8887\n",
      "iter = 12, loss = 0.4348, RMSE train = 0.8857\n",
      "iter = 13, loss = 0.4317, RMSE train = 0.8827\n",
      "iter = 14, loss = 0.4290, RMSE train = 0.8799\n",
      "iter = 15, loss = 0.4265, RMSE train = 0.8770\n",
      "iter = 16, loss = 0.4243, RMSE train = 0.8740\n",
      "iter = 17, loss = 0.4217, RMSE train = 0.8707\n",
      "iter = 18, loss = 0.4196, RMSE train = 0.8676\n",
      "iter = 19, loss = 0.4177, RMSE train = 0.8643\n",
      "iter = 20, loss = 0.4154, RMSE train = 0.8608\n",
      "iter = 21, loss = 0.4136, RMSE train = 0.8573\n",
      "iter = 22, loss = 0.4112, RMSE train = 0.8537\n",
      "iter = 23, loss = 0.4095, RMSE train = 0.8504\n",
      "iter = 24, loss = 0.4078, RMSE train = 0.8465\n",
      "iter = 25, loss = 0.4056, RMSE train = 0.8429\n",
      "iter = 26, loss = 0.4042, RMSE train = 0.8395\n",
      "iter = 27, loss = 0.4023, RMSE train = 0.8358\n",
      "iter = 28, loss = 0.4008, RMSE train = 0.8323\n",
      "iter = 29, loss = 0.3987, RMSE train = 0.8286\n",
      "iter = 30, loss = 0.3975, RMSE train = 0.8252\n",
      "iter = 31, loss = 0.3963, RMSE train = 0.8219\n",
      "iter = 32, loss = 0.3949, RMSE train = 0.8184\n",
      "iter = 33, loss = 0.3934, RMSE train = 0.8149\n",
      "iter = 34, loss = 0.3920, RMSE train = 0.8116\n",
      "iter = 35, loss = 0.3907, RMSE train = 0.8082\n",
      "iter = 36, loss = 0.3896, RMSE train = 0.8049\n",
      "iter = 37, loss = 0.3885, RMSE train = 0.8016\n",
      "iter = 38, loss = 0.3872, RMSE train = 0.7984\n",
      "iter = 39, loss = 0.3861, RMSE train = 0.7952\n",
      "iter = 40, loss = 0.3852, RMSE train = 0.7922\n",
      "iter = 41, loss = 0.3840, RMSE train = 0.7889\n",
      "iter = 42, loss = 0.3827, RMSE train = 0.7859\n",
      "iter = 43, loss = 0.3822, RMSE train = 0.7830\n",
      "iter = 44, loss = 0.3812, RMSE train = 0.7801\n",
      "iter = 45, loss = 0.3802, RMSE train = 0.7772\n",
      "iter = 46, loss = 0.3791, RMSE train = 0.7741\n",
      "iter = 47, loss = 0.3786, RMSE train = 0.7715\n",
      "iter = 48, loss = 0.3774, RMSE train = 0.7686\n",
      "iter = 49, loss = 0.3767, RMSE train = 0.7659\n",
      "iter = 50, loss = 0.3760, RMSE train = 0.7632\n",
      "\n",
      "Matrix Factorization CF, RMSE = 0.9341\n"
     ]
    }
   ],
   "source": [
    "rs = MF(rate_train, K = 100, lam = .1, print_every = 1, learning_rate = 0.005, max_epoch = 50)\n",
    "rs.fit()\n",
    "# evaluate on test data\n",
    "RMSE = rs.evaluate_RMSE(rate_test)\n",
    "print('\\nMatrix Factorization CF, RMSE = %.4f' %RMSE)"
   ]
  },
  {
   "cell_type": "code",
   "execution_count": 36,
   "metadata": {},
   "outputs": [
    {
     "name": "stdout",
     "output_type": "stream",
     "text": [
      "iter = 1, loss = 0.4503, RMSE train = 0.5233\n",
      "iter = 2, loss = 0.4244, RMSE train = 0.5069\n",
      "iter = 3, loss = 0.4116, RMSE train = 0.5101\n",
      "iter = 4, loss = 0.4039, RMSE train = 0.5180\n",
      "iter = 5, loss = 0.3982, RMSE train = 0.5263\n",
      "iter = 6, loss = 0.3938, RMSE train = 0.5343\n",
      "iter = 7, loss = 0.3904, RMSE train = 0.5418\n",
      "iter = 8, loss = 0.3878, RMSE train = 0.5487\n",
      "iter = 9, loss = 0.3852, RMSE train = 0.5547\n",
      "iter = 10, loss = 0.3832, RMSE train = 0.5602\n",
      "iter = 11, loss = 0.3813, RMSE train = 0.5652\n",
      "iter = 12, loss = 0.3798, RMSE train = 0.5696\n",
      "iter = 13, loss = 0.3783, RMSE train = 0.5739\n",
      "iter = 14, loss = 0.3773, RMSE train = 0.5777\n",
      "iter = 15, loss = 0.3761, RMSE train = 0.5812\n",
      "iter = 16, loss = 0.3750, RMSE train = 0.5842\n",
      "iter = 17, loss = 0.3741, RMSE train = 0.5872\n",
      "iter = 18, loss = 0.3729, RMSE train = 0.5898\n",
      "iter = 19, loss = 0.3722, RMSE train = 0.5923\n",
      "iter = 20, loss = 0.3716, RMSE train = 0.5947\n",
      "iter = 21, loss = 0.3707, RMSE train = 0.5967\n",
      "iter = 22, loss = 0.3699, RMSE train = 0.5987\n",
      "iter = 23, loss = 0.3695, RMSE train = 0.6006\n",
      "iter = 24, loss = 0.3689, RMSE train = 0.6024\n",
      "iter = 25, loss = 0.3682, RMSE train = 0.6039\n",
      "iter = 26, loss = 0.3677, RMSE train = 0.6056\n",
      "iter = 27, loss = 0.3672, RMSE train = 0.6069\n",
      "iter = 28, loss = 0.3668, RMSE train = 0.6083\n",
      "iter = 29, loss = 0.3663, RMSE train = 0.6095\n",
      "iter = 30, loss = 0.3661, RMSE train = 0.6108\n",
      "iter = 31, loss = 0.3656, RMSE train = 0.6118\n",
      "iter = 32, loss = 0.3653, RMSE train = 0.6129\n",
      "iter = 33, loss = 0.3648, RMSE train = 0.6140\n",
      "iter = 34, loss = 0.3645, RMSE train = 0.6149\n",
      "iter = 35, loss = 0.3641, RMSE train = 0.6158\n",
      "iter = 36, loss = 0.3638, RMSE train = 0.6167\n",
      "iter = 37, loss = 0.3635, RMSE train = 0.6174\n",
      "iter = 38, loss = 0.3633, RMSE train = 0.6182\n",
      "iter = 39, loss = 0.3631, RMSE train = 0.6190\n",
      "iter = 40, loss = 0.3625, RMSE train = 0.6197\n",
      "iter = 41, loss = 0.3623, RMSE train = 0.6203\n",
      "iter = 42, loss = 0.3624, RMSE train = 0.6210\n",
      "iter = 43, loss = 0.3619, RMSE train = 0.6215\n",
      "iter = 44, loss = 0.3619, RMSE train = 0.6222\n",
      "iter = 45, loss = 0.3617, RMSE train = 0.6226\n",
      "iter = 46, loss = 0.3613, RMSE train = 0.6232\n",
      "iter = 47, loss = 0.3611, RMSE train = 0.6236\n",
      "iter = 48, loss = 0.3608, RMSE train = 0.6240\n",
      "iter = 49, loss = 0.3605, RMSE train = 0.6245\n",
      "iter = 50, loss = 0.3603, RMSE train = 0.6249\n",
      "\n",
      "Matrix Factorization CF, RMSE = 0.9331\n"
     ]
    }
   ],
   "source": [
    "rs = MF(rate_train, K = 100, lam = .1, print_every = 1, learning_rate = 0.005, max_epoch = 50, Xinit = rs.X, Winit = rs.W)\n",
    "rs.fit()\n",
    "# evaluate on test data\n",
    "RMSE = rs.evaluate_RMSE(rate_test)\n",
    "print('\\nMatrix Factorization CF, RMSE = %.4f' %RMSE)"
   ]
  },
  {
   "cell_type": "code",
   "execution_count": 40,
   "metadata": {},
   "outputs": [
    {
     "data": {
      "text/plain": [
       "5"
      ]
     },
     "execution_count": 40,
     "metadata": {},
     "output_type": "execute_result"
    }
   ],
   "source": [
    "rs.X.shape\n",
    "rs.n_items"
   ]
  },
  {
   "cell_type": "code",
   "execution_count": null,
   "metadata": {
    "collapsed": true
   },
   "outputs": [],
   "source": []
  }
 ],
 "metadata": {
  "kernelspec": {
   "display_name": "Python 2",
   "language": "python",
   "name": "python2"
  },
  "language_info": {
   "codemirror_mode": {
    "name": "ipython",
    "version": 2
   },
   "file_extension": ".py",
   "mimetype": "text/x-python",
   "name": "python",
   "nbconvert_exporter": "python",
   "pygments_lexer": "ipython2",
   "version": "2.7.13"
  }
 },
 "nbformat": 4,
 "nbformat_minor": 2
}
