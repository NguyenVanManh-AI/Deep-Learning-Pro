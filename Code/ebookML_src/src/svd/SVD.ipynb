{
 "cells": [
  {
   "cell_type": "code",
   "execution_count": 4,
   "metadata": {},
   "outputs": [
    {
     "name": "stdout",
     "output_type": "stream",
     "text": [
      "Frobenius norm of (UU^T - I) = 4.09460889695e-16\n",
      "S =  [ 1.76321041  0.59018069  0.3878011 ]\n",
      "Frobenius norm of (VV^T - I) = 5.00370755311e-16\n"
     ]
    }
   ],
   "source": [
    "from __future__ import print_function \n",
    "import numpy as np \n",
    "from numpy import linalg as LA \n",
    " \n",
    "m, n = 3, 4 \n",
    "A = np.random.rand(m, n) \n",
    "U, S, V = LA.svd(A) \n",
    " \n",
    "# checking if U, V are orthogonal and S is a diagonal matrix with \n",
    "# nonnegative decreasing elements \n",
    "print('Frobenius norm of (UU^T - I) =', \n",
    "    LA.norm(U.dot(U.T) - np.eye(m))) \n",
    "print('S = ', S) \n",
    "print('Frobenius norm of (VV^T - I) =',  \n",
    "    LA.norm(V.dot(V.T) - np.eye(n)))"
   ]
  },
  {
   "cell_type": "code",
   "execution_count": null,
   "metadata": {
    "collapsed": true
   },
   "outputs": [],
   "source": []
  }
 ],
 "metadata": {
  "kernelspec": {
   "display_name": "Python 2",
   "language": "python",
   "name": "python2"
  },
  "language_info": {
   "codemirror_mode": {
    "name": "ipython",
    "version": 2
   },
   "file_extension": ".py",
   "mimetype": "text/x-python",
   "name": "python",
   "nbconvert_exporter": "python",
   "pygments_lexer": "ipython2",
   "version": "2.7.13"
  }
 },
 "nbformat": 4,
 "nbformat_minor": 2
}
