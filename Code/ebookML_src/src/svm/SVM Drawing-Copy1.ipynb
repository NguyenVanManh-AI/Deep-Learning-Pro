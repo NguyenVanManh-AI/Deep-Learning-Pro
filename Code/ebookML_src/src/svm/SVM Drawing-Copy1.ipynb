{
 "cells": [
  {
   "cell_type": "code",
   "execution_count": 1,
   "metadata": {
    "collapsed": true
   },
   "outputs": [],
   "source": [
    "from matplotlib import rc\n",
    "rc('font',**{'family':'sans-serif','sans-serif':['Helvetica']})\n",
    "## for Palatino and other serif fonts use:\n",
    "#rc('font',**{'family':'serif','serif':['Palatino']})\n",
    "rc('text', usetex=True)\n",
    "\n"
   ]
  },
  {
   "cell_type": "markdown",
   "metadata": {},
   "source": [
    "# Random boundary"
   ]
  },
  {
   "cell_type": "code",
   "execution_count": null,
   "metadata": {
    "collapsed": true
   },
   "outputs": [],
   "source": [
    "# generate data\n",
    "# list of points \n",
    "import numpy as np \n",
    "import matplotlib.pyplot as plt\n",
    "np.random.seed(22)\n",
    "\n",
    "means = [[2, 2], [4, 2]]\n",
    "cov = [[.3, .2], [.2, .3]]\n",
    "N = 10\n",
    "X0 = np.random.multivariate_normal(means[0], cov, N)\n",
    "X1 = np.random.multivariate_normal(means[1], cov, N)\n",
    "X = np.concatenate((X0, X1), axis = 0)\n",
    "\n",
    "y = np.concatenate((np.ones(N), -np.ones(N)), axis = 0)\n",
    "\n",
    "\n",
    "# plot points\n",
    "plt.plot(X0[:, 0], X0[:, 1], 'bs', markersize = 8, alpha = .8)\n",
    "plt.plot(X1[:, 0], X1[:, 1], 'ro', markersize = 8, alpha = .8)\n",
    "# plt.plot([3.5], [2.5], 'k^', markersize = 10, alpha = .8)\n",
    "plt.axis('equal')\n",
    "# axis limits\n",
    "plt.ylim(0, 3)\n",
    "plt.xlim(2, 4)\n",
    "\n",
    "# fill region colors\n",
    "x1 = np.arange(-10,10,0.1)\n",
    "y1 = 2*x1 - 4\n",
    "y2 = 1.8*x1 -4\n",
    "y3 = 1.2*x1 - 2\n",
    "plt.plot(x1, y1, 'k')\n",
    "plt.plot(x1, y2, 'k')\n",
    "plt.plot(x1, y3, 'k')\n",
    "\n",
    "# hide tikcs \n",
    "cur_axes = plt.gca()\n",
    "cur_axes.axes.get_xaxis().set_ticks([])\n",
    "cur_axes.axes.get_yaxis().set_ticks([])\n",
    "\n",
    "# plt.xlabel('$x_1$', fontsize = 20)\n",
    "# plt.ylabel('$x_2$', fontsize = 20)\n",
    "\n",
    "#     plt.savefig('svm1.png', bbox_inches='tight', dpi = 600)\n",
    "plt.show()"
   ]
  },
  {
   "cell_type": "code",
   "execution_count": 34,
   "metadata": {},
   "outputs": [
    {
     "name": "stdout",
     "output_type": "stream",
     "text": [
      "Number of suport vectors =  3\n",
      "w =  [[-2.00984382  0.64068336]]\n",
      "b =  4.66856068329\n"
     ]
    }
   ],
   "source": [
    "from __future__ import print_function \n",
    "import numpy as np \n",
    "np.random.seed(22)\n",
    "\n",
    "# simulated samples \n",
    "means = [[2, 2], [4, 2]]\n",
    "cov = [[.3, .2], [.2, .3]]\n",
    "N = 10\n",
    "X0 = np.random.multivariate_normal(means[0], cov, N) # blue class data \n",
    "X1 = np.random.multivariate_normal(means[1], cov, N) # red class data\n",
    "X = np.concatenate((X0, X1), axis = 0)               # all data \n",
    "y = np.concatenate((np.ones(N), -np.ones(N)), axis = 0) # label \n",
    "\n",
    "# solving the dual problem (variable: lambda)\n",
    "from cvxopt import matrix, solvers\n",
    "V = np.concatenate((X0, -X1), axis = 0) # V in the book\n",
    "Q = matrix(V.dot(V.T))\n",
    "p = matrix(-np.ones((2*N, 1))) # objective function 1/2 lambda^T*Q*lambda - 1^T*lambda \n",
    "# build A, b, G, h \n",
    "G = matrix(-np.eye(2*N))\n",
    "h = matrix(np.zeros((2*N, 1)))\n",
    "A = matrix(y.reshape(1, -1)) \n",
    "b = matrix(np.zeros((1, 1))) \n",
    "solvers.options['show_progress'] = False\n",
    "sol = solvers.qp(Q, p, G, h, A, b)\n",
    "\n",
    "l = np.array(sol['x']) # solution lambda \n",
    "\n",
    "# calculate w\n",
    "w = Xbar.T.dot(l)\n",
    "# calculate b \n",
    "S = np.where(l > 1e-8)[0] # support set, 1e-8 to avoid small value of l.\n",
    "b = np.mean(y[S].reshape(-1, 1) - X[S,:].dot(w))\n",
    "print('Number of suport vectors = ', S.size)\n",
    "print('w = ', w.T)\n",
    "print('b = ', b)"
   ]
  },
  {
   "cell_type": "code",
   "execution_count": 33,
   "metadata": {},
   "outputs": [
    {
     "data": {
      "image/png": "[encoded data removed]",
      "text/plain": [
       "<matplotlib.figure.Figure at 0x109b2f490>"
      ]
     },
     "metadata": {},
     "output_type": "display_data"
    }
   ],
   "source": [
    "\n",
    "# draw\n",
    "# plot points\n",
    "fig, ax = plt.subplots()\n",
    "\n",
    "x1 = np.arange(-10, 10, 0.1)\n",
    "y1 = -w[0, 0]/w[1, 0]*x1 - b/w[1, 0]\n",
    "y2 = -w[0, 0]/w[1, 0]*x1 - (b-1)/w[1, 0]\n",
    "y3 = -w[0, 0]/w[1, 0]*x1 - (b+1)/w[1, 0]\n",
    "plt.plot(x1, y1, 'k', linewidth = 3)\n",
    "plt.plot(x1, y2, 'k')\n",
    "plt.plot(x1, y3, 'k')\n",
    "\n",
    "\n",
    "y4 = 10*x1\n",
    "plt.plot(x1, y1, 'k')\n",
    "plt.fill_between(x1, y1, color='red', alpha='0.1')\n",
    "plt.fill_between(x1, y1, y4, color = 'blue', alpha = '.1')\n",
    "\n",
    "\n",
    "plt.plot(X0[:, 0], X0[:, 1], 'bs', markersize = 8, alpha = .8)\n",
    "plt.plot(X1[:, 0], X1[:, 1], 'ro', markersize = 8, alpha = .8)\n",
    "\n",
    "plt.axis('equal')\n",
    "plt.ylim(0, 3)\n",
    "plt.xlim(2, 4)\n",
    "\n",
    "# hide tikcs \n",
    "cur_axes = plt.gca()\n",
    "cur_axes.axes.get_xaxis().set_ticks([])\n",
    "cur_axes.axes.get_yaxis().set_ticks([])\n",
    "\n",
    "# add circles around support vectors \n",
    "for m in S:\n",
    "    circle = plt.Circle((X[m, 0], X[m, 1] ), 0.1, color='k', fill = False)\n",
    "    ax.add_artist(circle)\n",
    "\n",
    "\n",
    "#     plt.xlabel('$x_1$', fontsize = 20)\n",
    "#     plt.ylabel('$x_2$', fontsize = 20)\n",
    "#     plt.savefig('svm4.png', bbox_inches='tight', dpi = 300)\n",
    "plt.show()"
   ]
  },
  {
   "cell_type": "code",
   "execution_count": 36,
   "metadata": {},
   "outputs": [
    {
     "name": "stdout",
     "output_type": "stream",
     "text": [
      "w =  [[-2.00971102  0.64194082]]\n",
      "b =  [ 4.66595309]\n"
     ]
    }
   ],
   "source": [
    "# solution by sklearn \n",
    "from sklearn.svm import SVC\n",
    "\n",
    "model = SVC(kernel = 'linear', C = 1e5) # just a big number \n",
    "model.fit(X, y) \n",
    "\n",
    "w = model.coef_\n",
    "b = model.intercept_\n",
    "print('w = ', w)\n",
    "print('b = ', b)"
   ]
  },
  {
   "cell_type": "code",
   "execution_count": 18,
   "metadata": {},
   "outputs": [
    {
     "data": {
      "image/png": "[encoded data removed]",
      "text/plain": [
       "<matplotlib.figure.Figure at 0x109d53bd0>"
      ]
     },
     "metadata": {},
     "output_type": "display_data"
    }
   ],
   "source": [
    "with PdfPages('svm3.pdf') as pdf:\n",
    "    # draw\n",
    "    # plot points\n",
    "    fig, ax = plt.subplots()\n",
    "\n",
    "    x1 = np.arange(-10, 10, 0.1)\n",
    "    y1 = -w[0, 0]/w[1, 0]*x1 - b/w[1, 0]\n",
    "    y2 = -w[0, 0]/w[1, 0]*x1 - (b-1)/w[1, 0]\n",
    "    y3 = -w[0, 0]/w[1, 0]*x1 - (b+1)/w[1, 0]\n",
    "    plt.plot(x1, y1, 'k', linewidth = 3)\n",
    "    plt.plot(x1, y2, 'k')\n",
    "    plt.plot(x1, y3, 'k')\n",
    "\n",
    "\n",
    "    y4 = 10*x1\n",
    "    plt.plot(x1, y1, 'k')\n",
    "    # plt.fill_between(x1, y1, color='red', alpha='0.1')\n",
    "    # plt.fill_between(x1, y1, y4, color = 'blue', alpha = '.1')\n",
    "\n",
    "    S1 = np.arange(0, N)\n",
    "    S2 = np.arange(0, N)\n",
    "    plt.plot(X0[S1, 0], X0[S1, 1], 'bs', markersize = 8, alpha = .8)\n",
    "    plt.plot(X1[S2, 0], X1[S2, 1], 'ro', markersize = 8, alpha = .8)\n",
    "\n",
    "    plt.axis('equal')\n",
    "    plt.ylim(-.5, 2.5\n",
    "            )\n",
    "    plt.xlim(2, 4)\n",
    "\n",
    "    # hide tikcs \n",
    "    cur_axes = plt.gca()\n",
    "    cur_axes.axes.get_xaxis().set_ticks([])\n",
    "    cur_axes.axes.get_yaxis().set_ticks([])\n",
    "    plt.text(1, 2, r'$+$', fontsize=30)\n",
    "    plt.text(5, 2, r'$-$', fontsize=30)\n",
    "    # add circles around support vectors \n",
    "    for m in S:\n",
    "        circle = plt.Circle((X[0, m], X[1, m] ), 0.1, color='k', fill = False)\n",
    "        ax.add_artist(circle)\n",
    "\n",
    "    plt.text(2.2, 1.7, '$\\mathbf{w}^T\\mathbf{x} + b = 0$', fontsize=20, rotation = 72)\n",
    "    plt.text(1.52, 1.1, '$\\mathbf{w}^T\\mathbf{x}+ b = 1$', fontsize=20, rotation = 72)\n",
    "    plt.text(2.47, 1.15, '$\\mathbf{w}^T\\mathbf{x} + b = -1$', fontsize=20, rotation = 72)\n",
    "\n",
    "#     plt.xlabel('$x_1$', fontsize = 20)\n",
    "#     plt.ylabel('$x_2$', fontsize = 20)\n",
    "#     plt.savefig('svm3.png', bbox_inches='tight', dpi = 300)\n",
    "    pdf.savefig()\n",
    "    plt.show()"
   ]
  },
  {
   "cell_type": "code",
   "execution_count": 22,
   "metadata": {},
   "outputs": [
    {
     "data": {
      "image/png": "[encoded data removed]",
      "text/plain": [
       "<matplotlib.figure.Figure at 0x10a5bc3d0>"
      ]
     },
     "metadata": {},
     "output_type": "display_data"
    }
   ],
   "source": [
    "with PdfPages('svm5.pdf') as pdf:\n",
    "    # draw\n",
    "    # plot points\n",
    "    fig, ax = plt.subplots()\n",
    "\n",
    "    x1 = np.arange(-10, 10, 0.1)\n",
    "    y1 = -w[0, 0]/w[1, 0]*x1 - b/w[1, 0]\n",
    "    y2 = -w[0, 0]/w[1, 0]*x1 - (b-1)/w[1, 0]\n",
    "    y3 = -w[0, 0]/w[1, 0]*x1 - (b+1)/w[1, 0]\n",
    "    plt.plot(x1, y1, 'k', linewidth = 3)\n",
    "    plt.plot(x1, y2, 'k')\n",
    "    plt.plot(x1, y3, 'k')\n",
    "\n",
    "\n",
    "    y4 = 10*x1\n",
    "    plt.plot(x1, y1, 'k')\n",
    "    # plt.fill_between(x1, y1, color='red', alpha='0.1')\n",
    "    # plt.fill_between(x1, y1, y4, color = 'blue', alpha = '.1')\n",
    "    \n",
    "    \n",
    "    \n",
    "    S1 = np.arange(0, 10)\n",
    "    S2 = np.arange(0, 10)\n",
    "    plt.plot(X0[S1, 0], X0[S1, 1], 'bs', markersize = 8, alpha = .8)\n",
    "    plt.plot(X1[S2, 0], X1[S2, 1], 'ro', markersize = 8, alpha = .8)\n",
    "\n",
    "    plt.axis('equal')\n",
    "    plt.ylim(0, 3)\n",
    "    plt.xlim(2, 4)\n",
    "\n",
    "    # hide tikcs \n",
    "    cur_axes = plt.gca()\n",
    "    cur_axes.axes.get_xaxis().set_ticks([])\n",
    "    cur_axes.axes.get_yaxis().set_ticks([])\n",
    "\n",
    "    # add circles around support vectors \n",
    "    S = [0, 2, 12]\n",
    "    for m in S:\n",
    "        circle = plt.Circle((X[0, m], X[1, m] ), 0.1, color='k', fill = False)\n",
    "        ax.add_artist(circle)\n",
    "    \n",
    "#     plt.xlabel('$x_1$', fontsize = 20)\n",
    "#     plt.ylabel('$x_2$', fontsize = 20)\n",
    "    xx1 = x1[0] \n",
    "    xx2 = x1[-1]\n",
    "    yy1 = y1[0]\n",
    "    yy2 = y1[-1]\n",
    "    \n",
    "    x3 = 2 \n",
    "    y3 = .65\n",
    "    (x4, y4) = perpen(xx1, yy1, xx2, yy2, x3, y3)\n",
    "    plt.annotate(s='', xy=(x3, y3), xytext=(x4, y4), arrowprops=dict(arrowstyle='<->'))\n",
    "    \n",
    "    ############# \n",
    "    x1 = np.arange(-10,10,0.1)\n",
    "    # y1 = 2*x1 - 4\n",
    "    # y1 = 1.8*x1 -4\n",
    "    y1 = -5*x1 + 15.5\n",
    "    # plt.plot(x1, y1, 'k')\n",
    "    plt.plot(x1, y1, 'g--', linewidth = 3)\n",
    "    xx1 = x1[0] \n",
    "    xx2 = x1[-1]\n",
    "    yy1 = y1[0]\n",
    "    yy2 = y1[-1]\n",
    "\n",
    "\n",
    "    S = [2, 15]\n",
    "    for m in S:\n",
    "        x3 = X[0, m]\n",
    "        y3 = X[1, m]\n",
    "        circle = plt.Circle((x3, y3), 0.1, color='g', fill = False)\n",
    "        ax.add_artist(circle)\n",
    "        (x4, y4) = perpen(xx1, yy1, xx2, yy2, x3, y3)\n",
    "        plt.plot([x3, x4], [y3, y4], 'g', linestyle='--')\n",
    "\n",
    "        (y5, y6) = parallel(xx1, yy1, xx2, yy2, x3, y3)\n",
    "        plt.plot([xx1, xx2], [y5, y6], 'g', linestyle='--')\n",
    "    plt.text(2.2, 1.2, 'margin', fontsize=15, rotation = 72)\n",
    "    \n",
    "    \n",
    "#     plt.savefig('svm3.png', bbox_inches='tight', dpi = 300)\n",
    "    pdf.savefig()\n",
    "    plt.show()"
   ]
  },
  {
   "cell_type": "markdown",
   "metadata": {},
   "source": [
    "##### "
   ]
  },
  {
   "cell_type": "code",
   "execution_count": 21,
   "metadata": {},
   "outputs": [
    {
     "data": {
      "image/png": "[encoded data removed]",
      "text/plain": [
       "<matplotlib.figure.Figure at 0x109d5f8d0>"
      ]
     },
     "metadata": {},
     "output_type": "display_data"
    }
   ],
   "source": [
    "with PdfPages('svm6.pdf') as pdf:\n",
    "    # draw\n",
    "    # plot points\n",
    "    fig, ax = plt.subplots()\n",
    "\n",
    "    x1 = np.arange(-10, 10, 0.1)\n",
    "    y1 = -w[0, 0]/w[1, 0]*x1 - b/w[1, 0]\n",
    "    y2 = -w[0, 0]/w[1, 0]*x1 - (b-1)/w[1, 0]\n",
    "    y3 = -w[0, 0]/w[1, 0]*x1 - (b+1)/w[1, 0]\n",
    "    plt.plot(x1, y1, 'k', linewidth = 3)\n",
    "    plt.plot(x1, y2, 'k')\n",
    "    plt.plot(x1, y3, 'k')\n",
    "\n",
    "\n",
    "    y4 = 10*x1\n",
    "    plt.plot(x1, y1, 'k')\n",
    "    # plt.fill_between(x1, y1, color='red', alpha='0.1')\n",
    "    # plt.fill_between(x1, y1, y4, color = 'blue', alpha = '.1')\n",
    "\n",
    "    S1 = np.arange(0, 10)\n",
    "    S2 = np.arange(0, 10)\n",
    "    plt.plot(X0[S1, 0], X0[S1, 1], 'bs', markersize = 8, alpha = .8)\n",
    "    plt.plot(X1[S2, 0], X1[S2, 1], 'ro', markersize = 8, alpha = .8)\n",
    "\n",
    "    plt.axis('equal')\n",
    "    plt.ylim(-.5, 2.5\n",
    "            )\n",
    "    plt.xlim(2, 4)\n",
    "\n",
    "    # hide tikcs \n",
    "    cur_axes = plt.gca()\n",
    "    cur_axes.axes.get_xaxis().set_ticks([])\n",
    "    cur_axes.axes.get_yaxis().set_ticks([])\n",
    "\n",
    "    # add circles around support vectors \n",
    "    S = [0, 2, 12]\n",
    "    for m in S:\n",
    "        circle = plt.Circle((X[0, m], X[1, m] ), 0.1, color='k', fill = False)\n",
    "        ax.add_artist(circle)\n",
    "\n",
    "    plt.text(2.2, 1.8, '$\\mathbf{w}^T\\mathbf{x} + b = 0$', fontsize=20, rotation = 72)\n",
    "#     plt.text(1.52, 1.25, '$w_1x_1 + w_2x_2 + b = 1$', fontsize=15, rotation = 72)\n",
    "#     plt.text(2.47, 1.25, '$w_1x_1 + w_2x_2 + b = -1$', fontsize=15, rotation = 72)\n",
    "    plt.text(1, 2, r'$+$', fontsize=30)\n",
    "    plt.text(5, 2, r'$-$', fontsize=30)\n",
    "\n",
    "#     plt.xlabel('$x_1$', fontsize = 20)\n",
    "#     plt.ylabel('$x_2$', fontsize = 20)\n",
    "#     plt.savefig('svm3.png', bbox_inches='tight', dpi = 300)\n",
    "    pdf.savefig()\n",
    "    plt.show()"
   ]
  },
  {
   "cell_type": "code",
   "execution_count": null,
   "metadata": {
    "collapsed": true
   },
   "outputs": [],
   "source": []
  },
  {
   "cell_type": "code",
   "execution_count": null,
   "metadata": {
    "collapsed": true
   },
   "outputs": [],
   "source": []
  },
  {
   "cell_type": "code",
   "execution_count": null,
   "metadata": {
    "collapsed": true
   },
   "outputs": [],
   "source": []
  },
  {
   "cell_type": "code",
   "execution_count": null,
   "metadata": {
    "collapsed": true
   },
   "outputs": [],
   "source": []
  },
  {
   "cell_type": "code",
   "execution_count": null,
   "metadata": {
    "collapsed": true
   },
   "outputs": [],
   "source": []
  }
 ],
 "metadata": {
  "kernelspec": {
   "display_name": "Python 2",
   "language": "python",
   "name": "python2"
  },
  "language_info": {
   "codemirror_mode": {
    "name": "ipython",
    "version": 2
   },
   "file_extension": ".py",
   "mimetype": "text/x-python",
   "name": "python",
   "nbconvert_exporter": "python",
   "pygments_lexer": "ipython2",
   "version": "2.7.13"
  }
 },
 "nbformat": 4,
 "nbformat_minor": 2
}
