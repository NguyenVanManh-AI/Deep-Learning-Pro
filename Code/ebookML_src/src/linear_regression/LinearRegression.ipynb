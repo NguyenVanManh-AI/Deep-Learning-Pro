{
 "cells": [
  {
   "cell_type": "code",
   "execution_count": 25,
   "metadata": {},
   "outputs": [
    {
     "data": {
      "image/png": "[encoded data removed]",
      "text/plain": [
       "<matplotlib.figure.Figure at 0x1083b1b50>"
      ]
     },
     "metadata": {},
     "output_type": "display_data"
    }
   ],
   "source": [
    "# for both python 2 and 3 \n",
    "from __future__ import print_function\n",
    "import numpy as np \n",
    "import matplotlib.pyplot as plt\n",
    "from matplotlib.backends.backend_pdf import PdfPages\n",
    "\n",
    "\n",
    "# height (cm)\n",
    "X = np.array([[147, 150, 153, 158, 163, 165, 168, 170, 173, 175, 178, 180, 183]]).T # each row is a point \n",
    "# weight (kg)\n",
    "y = np.array([ 49, 50, 51,  54, 58, 59, 60, 62, 63, 64, 66, 67, 68])\n",
    "# Visualize data \n",
    "plt.plot(X, y, 'ro')\n",
    "plt.axis([140, 190, 45, 75])\n",
    "plt.xlabel('Height (cm)')\n",
    "plt.ylabel('Weight (kg)')\n",
    "plt.show()"
   ]
  },
  {
   "cell_type": "code",
   "execution_count": 26,
   "metadata": {},
   "outputs": [
    {
     "data": {
      "image/png": "[encoded data removed]",
      "text/plain": [
       "<matplotlib.figure.Figure at 0x10a67e6d0>"
      ]
     },
     "metadata": {},
     "output_type": "display_data"
    }
   ],
   "source": [
    "# Building Xbar \n",
    "one = np.ones((X.shape[0], 1))\n",
    "Xbar = np.concatenate((one, X), axis = 1) # each point is one row \n",
    "# Calculating weights of the fitting line \n",
    "A = np.dot(Xbar.T, Xbar)\n",
    "b = np.dot(Xbar.T, y)\n",
    "w = np.dot(np.linalg.pinv(A), b)\n",
    "# weights\n",
    "w_0 = w[0]\n",
    "w_1 = w[1]\n",
    "\n",
    "x0 = np.linspace(145, 185, 2, endpoint=True)\n",
    "y0 = w_0 + w_1*x0\n",
    "\n",
    "# Drawing the fitting line \n",
    "plt.plot(X, y, 'ro')     # data \n",
    "plt.plot(x0, y0)           # the fitting line\n",
    "plt.axis([140, 190, 45, 75]) # xmin, xmax, ymin, ymax \n",
    "plt.xlabel('Height (cm)', fontsize = 14)\n",
    "plt.ylabel('Weight (kg)', fontsize = 14)\n",
    "plt.tick_params(axis='both', which='major', labelsize=14)\n",
    "with PdfPages('lr_ex.pdf') as pdf:\n",
    "    pdf.savefig(bbox_inches='tight')\n",
    "plt.show()"
   ]
  },
  {
   "cell_type": "code",
   "execution_count": 3,
   "metadata": {},
   "outputs": [
    {
     "name": "stdout",
     "output_type": "stream",
     "text": [
      "Input 155cm, true output 52kg, predicted output 52.94kg\n",
      "Input 160cm, true output 56kg, predicted output 55.74kg\n"
     ]
    }
   ],
   "source": [
    "y1 = w_1*155 + w_0\n",
    "y2 = w_1*160 + w_0\n",
    "\n",
    "print('Input 155cm, true output 52kg, predicted output %.2fkg'  %(y1) )\n",
    "print('Input 160cm, true output 56kg, predicted output %.2fkg'  %(y2) )\n"
   ]
  },
  {
   "cell_type": "markdown",
   "metadata": {},
   "source": [
    "Chúng ta thấy rằng kết quả dự đoán khá gần với số liệu thực tế."
   ]
  },
  {
   "cell_type": "markdown",
   "metadata": {},
   "source": [
    "Tiếp theo, chúng ta sẽ sử dụng thư viện Scikit-learn của Python để tìm nghiệm. "
   ]
  },
  {
   "cell_type": "code",
   "execution_count": 4,
   "metadata": {},
   "outputs": [
    {
     "name": "stdout",
     "output_type": "stream",
     "text": [
      "scikit-learn's solution  : w_1 =  0.55920496194 w_0 =  -33.7354102058\n",
      "our solution             : w_1 =  0.55920496194 w_0 =  -33.7354102058\n"
     ]
    },
    {
     "name": "stderr",
     "output_type": "stream",
     "text": [
      "/Library/Frameworks/Python.framework/Versions/2.7/lib/python2.7/site-packages/scipy/linalg/basic.py:1226: RuntimeWarning: internal gelsd driver lwork query error, required iwork dimension not returned. This is likely the result of LAPACK bug 0038, fixed in LAPACK 3.2.2 (released July 21, 2010). Falling back to 'gelss' driver.\n",
      "  warnings.warn(mesg, RuntimeWarning)\n"
     ]
    }
   ],
   "source": [
    "from sklearn import datasets, linear_model\n",
    "\n",
    "# fit the model by Linear Regression\n",
    "regr = linear_model.LinearRegression() \n",
    "regr.fit(X, y) # in scikit-learn, each sample is one row \n",
    "\n",
    "# Compare two results\n",
    "print(\"scikit-learn's solution  : w_1 = \", regr.coef_[0], \"w_0 = \", regr.intercept_)\n",
    "print(\"our solution             : w_1 = \", w[1], \"w_0 = \", w[0])"
   ]
  },
  {
   "cell_type": "markdown",
   "metadata": {
    "collapsed": true
   },
   "source": [
    "Chúng ta thấy rằng hai kết quả thu được như nhau! (_Nghĩa là tôi đã không mắc lỗi nào trong cách tìm nghiệm ở phần trên_)"
   ]
  },
  {
   "cell_type": "markdown",
   "metadata": {},
   "source": [
    "### Linear Regression rất nhạy cảm với nhiễu\n",
    "Trong trường hợp có _nhiễu_, với một cặp dữ liệu (150 cm, 70kg), kết quả đã sai lệch đi rất nhiều.\n"
   ]
  },
  {
   "cell_type": "code",
   "execution_count": 7,
   "metadata": {},
   "outputs": [
    {
     "name": "stdout",
     "output_type": "stream",
     "text": [
      "w =  [ 22.21867545   0.23775985]\n"
     ]
    },
    {
     "data": {
      "image/png": "[encoded data removed]",
      "text/plain": [
       "<matplotlib.figure.Figure at 0x10ab48450>"
      ]
     },
     "metadata": {},
     "output_type": "display_data"
    }
   ],
   "source": [
    "import numpy as np \n",
    "import matplotlib.pyplot as plt\n",
    "\n",
    "# height (cm)\n",
    "X = np.array([[147, 150, 153, 158, 163, 165, 168, 170, 173, 175, 178, 180, 183, 150]]).T\n",
    "# weight (kg)\n",
    "y = np.array([ 49, 50, 51,  54, 58, 59, 60, 62, 63, 64, 66, 67, 68, 90])\n",
    "\n",
    "# Building Xbar \n",
    "one = np.ones((X.shape[0], 1))\n",
    "Xbar = np.concatenate((one, X), axis = 1)\n",
    "\n",
    "# Calculating weights of the fitting line \n",
    "A = np.dot(Xbar.T, Xbar)\n",
    "b = np.dot(Xbar.T, y)\n",
    "w = np.dot(np.linalg.pinv(A), b)\n",
    "print('w = ', w)\n",
    "# Preparing the fitting line \n",
    "w_0 = w[0]\n",
    "w_1 = w[1]\n",
    "x0 = np.linspace(145, 185, 2, endpoint=True)\n",
    "y0 = w_0 + w_1*x0\n",
    "\n",
    "# Drawing the fitting line \n",
    "plt.plot(X, y, 'ro')     # data \n",
    "plt.plot(x0, y0)               # the fitting line\n",
    "plt.axis([140, 190, 45, 95])\n",
    "plt.xlabel('Height (cm)', fontsize = 14)\n",
    "plt.ylabel('Weight (kg)', fontsize = 14)\n",
    "plt.tick_params(axis='both', which='major', labelsize=14)\n",
    "with PdfPages('noise.pdf') as pdf:\n",
    "    pdf.savefig(bbox_inches='tight')\n",
    "plt.show()\n"
   ]
  },
  {
   "cell_type": "markdown",
   "metadata": {},
   "source": [
    "# Polynomial Regression "
   ]
  },
  {
   "cell_type": "code",
   "execution_count": 8,
   "metadata": {
    "collapsed": true
   },
   "outputs": [],
   "source": [
    "\n",
    "from matplotlib import rc\n",
    "rc('font',**{'family':'sans-serif','sans-serif':['Helvetica']})\n",
    "## for Palatino and other serif fonts use:\n",
    "#rc('font',**{'family':'serif','serif':['Palatino']})\n",
    "rc('text', usetex=True)"
   ]
  },
  {
   "cell_type": "code",
   "execution_count": 21,
   "metadata": {},
   "outputs": [
    {
     "name": "stdout",
     "output_type": "stream",
     "text": [
      "(20, 1) (20, 1)\n"
     ]
    },
    {
     "data": {
      "image/png": "[encoded data removed]",
      "text/plain": [
       "<matplotlib.figure.Figure at 0x10b9f9110>"
      ]
     },
     "metadata": {},
     "output_type": "display_data"
    },
    {
     "name": "stdout",
     "output_type": "stream",
     "text": [
      "[[-70.86022078  78.7687132  -28.99387406   3.4286372 ]]\n"
     ]
    }
   ],
   "source": [
    "\n",
    "# To support both python 2 and python 3\n",
    "from __future__ import division, print_function, unicode_literals\n",
    "import numpy as np \n",
    "import matplotlib\n",
    "import matplotlib.pyplot as plt\n",
    "np.random.seed(4)\n",
    "from sklearn import datasets, linear_model\n",
    "from matplotlib.backends.backend_pdf import PdfPages\n",
    "\n",
    "N = 30\n",
    "N_test = 20 \n",
    "X = np.random.rand(N, 1)*5\n",
    "y = 3*(X -2) * (X - 3)*(X-4) +  10*np.random.randn(N, 1)\n",
    "\n",
    "X_test = (np.random.rand(N_test,1) - 1/2) *2\n",
    "y_test = 3*(X_test -2) * (X_test - 3)*(X_test-4) +  10*np.random.randn(N_test, 1)\n",
    "\n",
    "def buildX(X, d = 2):\n",
    "    res = np.ones((X.shape[0], 1))\n",
    "    for i in xrange(1, d+1):\n",
    "        res = np.concatenate((res, X**i), axis = 1)\n",
    "    return res \n",
    "\n",
    "def myfit(X, y, d):\n",
    "    Xbar = buildX(X, d)\n",
    "    regr = linear_model.LinearRegression(fit_intercept=False) # fit_intercept = False for calculating the bias\n",
    "    regr.fit(Xbar, y)\n",
    "\n",
    "    w = regr.coef_\n",
    "    # Display result\n",
    "    w_0 = w[0][0]\n",
    "    w_1 = w[0][1]\n",
    "    x0 = np.linspace(-1, 7, 200, endpoint=True)\n",
    "    y0 = np.zeros_like(x0)\n",
    "    ytrue = 5*(x0 - 2)*(x0-3)*(x0-4)\n",
    "    for i in xrange(d+1):\n",
    "        y0 += w[0][i]*x0**i\n",
    "\n",
    "    # Draw the fitting line \n",
    "    with PdfPages('polyreg.pdf') as pdf:\n",
    "        plt.scatter(X.T, y.T, c = 'r', s = 40)     # data \n",
    "        print(X_test.shape, y_test.shape)\n",
    "    #     plt.scatter(X_test.T, y_test.T, c = 'y', s = 40, label = 'Test samples')     # data \n",
    "\n",
    "        l1, = plt.plot(x0, y0, 'b', linewidth = 2, label = \"Trained model\")   # the fitting line\n",
    "        plt.legend(handles = [l1], fontsize = 18)\n",
    "    #     plt.plot(x0, ytrue, 'b', linewidth = 2, label = \"train model\")   # the fitting line\n",
    "        plt.xticks([], [])\n",
    "        plt.yticks([], [])\n",
    "\n",
    "\n",
    "        plt.title('Polynomial regression')\n",
    "        plt.axis([-4, 10, np.amax(y_test)-100, np.amax(y) + 30])\n",
    "        plt.legend(loc=\"best\")\n",
    "\n",
    "        fn = 'linreg_' + str(d) + '.png'\n",
    "\n",
    "        plt.xlabel('$x$', fontsize = 20);\n",
    "        plt.ylabel('$y$', fontsize = 20);\n",
    "\n",
    "        pdf.savefig(bbox_inches='tight') #, dpi = 600)\n",
    "\n",
    "        plt.show()\n",
    "    print(w)\n",
    "\n",
    "myfit(X, y, 3)\n"
   ]
  },
  {
   "cell_type": "code",
   "execution_count": null,
   "metadata": {
    "collapsed": true
   },
   "outputs": [],
   "source": []
  }
 ],
 "metadata": {
  "kernelspec": {
   "display_name": "Python 2",
   "language": "python",
   "name": "python2"
  },
  "language_info": {
   "codemirror_mode": {
    "name": "ipython",
    "version": 2
   },
   "file_extension": ".py",
   "mimetype": "text/x-python",
   "name": "python",
   "nbconvert_exporter": "python",
   "pygments_lexer": "ipython2",
   "version": "2.7.13"
  }
 },
 "nbformat": 4,
 "nbformat_minor": 2
}
