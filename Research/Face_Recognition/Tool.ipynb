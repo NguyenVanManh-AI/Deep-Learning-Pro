{
 "cells": [
  {
   "cell_type": "code",
   "execution_count": 3,
   "metadata": {},
   "outputs": [],
   "source": [
    "# Thêm thư viện\n",
    "import os\n",
    "import shutil\n",
    "import matplotlib.pyplot as plt\n",
    "from sklearn.linear_model import LogisticRegression\n",
    "from sklearn.model_selection import GridSearchCV\n",
    "from sklearn.metrics import classification_report\n",
    "from imutils import paths\n",
    "from keras.applications import VGG16\n",
    "from keras.applications import imagenet_utils\n",
    "from keras.preprocessing.image import img_to_array\n",
    "from keras.preprocessing.image import load_img\n",
    "from sklearn.preprocessing import LabelEncoder\n",
    "from sklearn.preprocessing import LabelBinarizer\n",
    "from sklearn.model_selection import train_test_split\n",
    "# from keras.preprocessing.image import ImageDataGenerator\n",
    "from tensorflow.keras.preprocessing.image import ImageDataGenerator\n",
    "from keras.optimizers import SGD\n",
    "from keras.optimizers import RMSprop\n",
    "from keras.applications import VGG16\n",
    "from keras.layers import Input\n",
    "from keras.models import Model , Sequential\n",
    "# from keras.layers.core import Dense\n",
    "# from keras.layers.core import Dropout\n",
    "# from keras.layers.core import Flatten\n",
    "from keras.layers import Dense\n",
    "from keras.layers import Dropout\n",
    "from keras.layers import Flatten\n",
    "from keras.callbacks import ModelCheckpoint\n",
    "import numpy as np\n",
    "import random\n",
    "import string\n",
    "\n",
    "#Warnings\n",
    "import warnings\n",
    "warnings.filterwarnings('ignore')"
   ]
  },
  {
   "cell_type": "markdown",
   "metadata": {},
   "source": [
    "Rename file \n",
    "- Từ tập dữ liệu dataset , gom rename các file trong folder train lại sau đó cho tiếp các file test vào folder train để name lại một lần nữa "
   ]
  },
  {
   "cell_type": "code",
   "execution_count": 6,
   "metadata": {},
   "outputs": [],
   "source": [
    "def rename_files(folder_path):\n",
    "    # Lặp qua các thư mục con trong folder_path\n",
    "    for label_folder in os.listdir(folder_path):\n",
    "        label_folder_path = os.path.join(folder_path, label_folder)\n",
    "        if os.path.isdir(label_folder_path):\n",
    "            # Lặp qua các tệp trong thư mục con\n",
    "            for filename in os.listdir(label_folder_path):\n",
    "                file_path = os.path.join(label_folder_path, filename)\n",
    "                if os.path.isfile(file_path):\n",
    "                    # Tạo số ngẫu nhiên từ 0 đến 999999\n",
    "                    random_number = random.randint(0, 999999)\n",
    "                    # Tạo tên mới\n",
    "                    new_filename = label_folder + \"_\" + str(random_number) + os.path.splitext(filename)[1]\n",
    "                    new_file_path = os.path.join(label_folder_path, new_filename)\n",
    "                    # Đổi tên tệp\n",
    "                    os.rename(file_path, new_file_path)\n",
    "\n",
    "# Gọi hàm và truyền đường dẫn đến thư mục chứa các thư mục nhãn\n",
    "rename_files('./Dataset_fine_tuning/train')\n"
   ]
  },
  {
   "cell_type": "markdown",
   "metadata": {},
   "source": [
    "Chia train , test = 7:3\n",
    "- Tôi có folder './Dataset_fine_tuning/ trong folder này là các folder với tên là nhãn tương ứng  và trong các folder đó là các file , giờ hãy tạo trong folder Dataset_fine_tuning 2 folder là train và test , sau đó chia các dữ liệu ban đầu thành 7:3 vào 2 folder đó cho tôi "
   ]
  },
  {
   "cell_type": "code",
   "execution_count": 8,
   "metadata": {},
   "outputs": [
    {
     "name": "stdout",
     "output_type": "stream",
     "text": [
      "Chia dữ liệu thành công!\n"
     ]
    }
   ],
   "source": [
    "# Đường dẫn tới thư mục chứa dữ liệu ban đầu\n",
    "data_folder = './Dataset_fine_tuning/'\n",
    "\n",
    "# Tạo thư mục train và test nếu chưa tồn tại\n",
    "train_folder = os.path.join(data_folder, 'train')\n",
    "test_folder = os.path.join(data_folder, 'test')\n",
    "os.makedirs(train_folder, exist_ok=True)\n",
    "os.makedirs(test_folder, exist_ok=True)\n",
    "\n",
    "# Lấy danh sách các thư mục nhãn\n",
    "label_folders = [folder for folder in os.listdir(data_folder) if os.path.isdir(os.path.join(data_folder, folder))]\n",
    "\n",
    "# Duyệt qua từng thư mục nhãn\n",
    "for label in label_folders:\n",
    "    label_path = os.path.join(data_folder, label)\n",
    "    \n",
    "    # Lấy danh sách các file trong thư mục nhãn\n",
    "    files = [f for f in os.listdir(label_path) if os.path.isfile(os.path.join(label_path, f))]\n",
    "    \n",
    "    # Shuffle danh sách các file\n",
    "    random.shuffle(files)\n",
    "    \n",
    "    # Tính chỉ số để chia tỷ lệ 7:3\n",
    "    split_index = int(0.7 * len(files))\n",
    "    \n",
    "    # Phân chia danh sách thành tập train và test\n",
    "    train_files = files[:split_index]\n",
    "    test_files = files[split_index:]\n",
    "    \n",
    "    # Tạo thư mục nhãn tương ứng trong thư mục train và test\n",
    "    train_label_folder = os.path.join(train_folder, label)\n",
    "    test_label_folder = os.path.join(test_folder, label)\n",
    "    os.makedirs(train_label_folder, exist_ok=True)\n",
    "    os.makedirs(test_label_folder, exist_ok=True)\n",
    "    \n",
    "    # Di chuyển các file vào thư mục train và test\n",
    "    for file in train_files:\n",
    "        shutil.move(os.path.join(label_path, file), os.path.join(train_label_folder, file))\n",
    "    for file in test_files:\n",
    "        shutil.move(os.path.join(label_path, file), os.path.join(test_label_folder, file))\n",
    "\n",
    "print(\"Chia dữ liệu thành công!\")\n"
   ]
  },
  {
   "cell_type": "markdown",
   "metadata": {},
   "source": [
    "Chia train : valid : test = 7:2:1"
   ]
  },
  {
   "cell_type": "code",
   "execution_count": 10,
   "metadata": {},
   "outputs": [
    {
     "name": "stdout",
     "output_type": "stream",
     "text": [
      "Chia dữ liệu thành công!\n"
     ]
    }
   ],
   "source": [
    "import os\n",
    "import shutil\n",
    "import random\n",
    "\n",
    "# Đường dẫn tới thư mục chứa dữ liệu ban đầu\n",
    "data_folder = './Dataset_fine_tuning_train_valid_test/'\n",
    "\n",
    "# Tạo thư mục train, validation và test nếu chưa tồn tại\n",
    "train_folder = os.path.join(data_folder, 'train')\n",
    "valid_folder = os.path.join(data_folder, 'valid')\n",
    "test_folder = os.path.join(data_folder, 'test')\n",
    "os.makedirs(train_folder, exist_ok=True)\n",
    "os.makedirs(valid_folder, exist_ok=True)\n",
    "os.makedirs(test_folder, exist_ok=True)\n",
    "\n",
    "# Lấy danh sách các thư mục nhãn\n",
    "label_folders = [folder for folder in os.listdir(data_folder) if os.path.isdir(os.path.join(data_folder, folder))]\n",
    "\n",
    "# Duyệt qua từng thư mục nhãn\n",
    "for label in label_folders:\n",
    "    label_path = os.path.join(data_folder, label)\n",
    "    \n",
    "    # Lấy danh sách các file trong thư mục nhãn\n",
    "    files = [f for f in os.listdir(label_path) if os.path.isfile(os.path.join(label_path, f))]\n",
    "    \n",
    "    # Shuffle danh sách các file\n",
    "    random.shuffle(files)\n",
    "    \n",
    "    # Tính chỉ số để chia tỷ lệ 7:2:1\n",
    "    train_index = int(0.7 * len(files))\n",
    "    valid_index = int(0.9 * len(files))\n",
    "    \n",
    "    # Phân chia danh sách thành tập train, validation và test\n",
    "    train_files = files[:train_index]\n",
    "    valid_files = files[train_index:valid_index]\n",
    "    test_files = files[valid_index:]\n",
    "    \n",
    "    # Tạo thư mục nhãn tương ứng trong thư mục train, validation và test\n",
    "    train_label_folder = os.path.join(train_folder, label)\n",
    "    valid_label_folder = os.path.join(valid_folder, label)\n",
    "    test_label_folder = os.path.join(test_folder, label)\n",
    "    os.makedirs(train_label_folder, exist_ok=True)\n",
    "    os.makedirs(valid_label_folder, exist_ok=True)\n",
    "    os.makedirs(test_label_folder, exist_ok=True)\n",
    "    \n",
    "    # Di chuyển các file vào thư mục train, validation và test\n",
    "    for file in train_files:\n",
    "        shutil.move(os.path.join(label_path, file), os.path.join(train_label_folder, file))\n",
    "    for file in valid_files:\n",
    "        shutil.move(os.path.join(label_path, file), os.path.join(valid_label_folder, file))\n",
    "    for file in test_files:\n",
    "        shutil.move(os.path.join(label_path, file), os.path.join(test_label_folder, file))\n",
    "\n",
    "print(\"Chia dữ liệu thành công!\")\n"
   ]
  }
 ],
 "metadata": {
  "kernelspec": {
   "display_name": "Python 3",
   "language": "python",
   "name": "python3"
  },
  "language_info": {
   "codemirror_mode": {
    "name": "ipython",
    "version": 3
   },
   "file_extension": ".py",
   "mimetype": "text/x-python",
   "name": "python",
   "nbconvert_exporter": "python",
   "pygments_lexer": "ipython3",
   "version": "3.10.6"
  }
 },
 "nbformat": 4,
 "nbformat_minor": 2
}
