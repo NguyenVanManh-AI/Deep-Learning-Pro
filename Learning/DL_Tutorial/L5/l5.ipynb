{
 "cells": [
  {
   "cell_type": "code",
   "execution_count": null,
   "metadata": {},
   "outputs": [],
   "source": [
    "# -*- coding: utf-8 -*-\n",
    "\"\"\"\n",
    "Created on Sat Mar 23 18:00:00 2019\n",
    "\n",
    "@author: DELL\n",
    "\"\"\"\n",
    "\n",
    "import cv2\n",
    "\n",
    "img = cv2.imread(\"gray.jpg\", 0)\n",
    "\n",
    "gray = cv2.cvtColor(img, cv2.COLOR_GRAY2RGB)\n",
    "\n",
    "cv2.imshow('gray.jpg', gray)"
   ]
  }
 ],
 "metadata": {
  "kernelspec": {
   "display_name": "Python 3",
   "language": "python",
   "name": "python3"
  },
  "language_info": {
   "codemirror_mode": {
    "name": "ipython",
    "version": 3
   },
   "file_extension": ".py",
   "mimetype": "text/x-python",
   "name": "python",
   "nbconvert_exporter": "python",
   "pygments_lexer": "ipython3",
   "version": "3.10.6"
  }
 },
 "nbformat": 4,
 "nbformat_minor": 2
}
