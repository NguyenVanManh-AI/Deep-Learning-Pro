{
 "cells": [
  {
   "cell_type": "markdown",
   "metadata": {},
   "source": [
    "# PCA \n",
    "- <strong style=\"color:#FFC107\"> Sau khi sử dụng Conv để trích xuất ra đặc trưng của ảnh , tiếp đến làm phẳng bằng Flatten sau đó cho quan PCA để giảm chiều trước khi cho vào model để huấn luyện . </strong>\n",
    "- <strong style=\"color:#FFC107\"> Tranfer learning feature extractor sẽ dễ kết hợp với PCA hơn là Fine tuning vì fine tuning phải xây một kiến trúc cố dịnh </strong>"
   ]
  },
  {
   "cell_type": "markdown",
   "metadata": {},
   "source": [
    "#### 0. Tóm tắt các bước tiến hành \n",
    "1. Lấy ra toàn bộ ảnh trong dataset , chuyển ảnh về ma trận 224x224x3 là kích thước đầu vào của VGG16 \n",
    "2. Trích xuất đặc trưng của các ảnh bằng cách cho tập ma trận của ảnh đi qua \"model VGG16 của thư viện , bỏ đi lớp FC ở cuối\"\n",
    "3. <strong style=\"color:#FFC107\">Thêm PCA vào đây</strong>\n",
    "4. Sau khi có được tập đặc trưng và label tương ứng , chia tập thành train , test , val \n",
    "5. Tạo ra model của riêng mình và huấn luyện nó : \n",
    "    - model = GridSearchCV(LogisticRegression(), params) \n",
    "    - model.fit(X_train, y_train)\n",
    "6. Sau khi có model huấn đánh giá lại bằng tập test "
   ]
  },
  {
   "cell_type": "code",
   "execution_count": 24,
   "metadata": {},
   "outputs": [],
   "source": [
    "from sklearn.linear_model import LogisticRegression\n",
    "from sklearn.model_selection import GridSearchCV\n",
    "from sklearn.metrics import classification_report , confusion_matrix\n",
    "from imutils import paths\n",
    "from keras.applications import VGG16\n",
    "from sklearn.decomposition import PCA\n",
    "from keras.applications import imagenet_utils\n",
    "from keras.preprocessing.image import img_to_array\n",
    "from keras.preprocessing.image import load_img\n",
    "from sklearn.preprocessing import LabelEncoder\n",
    "from sklearn.model_selection import train_test_split\n",
    "import numpy as np\n",
    "import random\n",
    "import os\n",
    "import matplotlib.pyplot as plt\n",
    "import seaborn as sns\n",
    "import pandas as pd"
   ]
  },
  {
   "cell_type": "markdown",
   "metadata": {},
   "source": [
    "#### Chuẩn bị dữ liệu"
   ]
  },
  {
   "cell_type": "code",
   "execution_count": 25,
   "metadata": {},
   "outputs": [],
   "source": [
    "# Lấy các đường dẫn đến ảnh.\n",
    "image_path = list(paths.list_images('dataset/'))\n",
    "# print(image_path)\n",
    "# Đổi vị trí ngẫu nhiên các đường dẫn ảnh\n",
    "random.shuffle(image_path)"
   ]
  },
  {
   "cell_type": "code",
   "execution_count": 26,
   "metadata": {},
   "outputs": [],
   "source": [
    "# Đường dẫn ảnh sẽ là dataset/tên_loài_hoa/tên_ảnh ví dụ dataset/Bluebell/image_0241.jpg nên p.split(os.path.sep)[-2] sẽ lấy ra được tên loài hoa\n",
    "labels = [p.split(os.path.sep)[-2] for p in image_path]\n",
    "# print(labels)\n",
    "# Chuyển tên các loài hoa thành số\n",
    "le = LabelEncoder()\n",
    "labels = le.fit_transform(labels)"
   ]
  },
  {
   "cell_type": "code",
   "execution_count": 27,
   "metadata": {},
   "outputs": [],
   "source": [
    "# Load ảnh và resize về đúng kích thước mà VGG 16 cần là (224,224)\n",
    "list_image = []\n",
    "for (j, imagePath) in enumerate(image_path):\n",
    "    # Load ảnh và resize về kích thước (224, 224)\n",
    "    image = load_img(imagePath, target_size=(224, 224))\n",
    "    \n",
    "    # Chuyển ảnh thành mảng numpy\n",
    "    image = img_to_array(image)\n",
    "    # print(image.shape) # (224, 224, 3)\n",
    "    \n",
    "    # Mở rộng chiều của mảng numpy\n",
    "    image = np.expand_dims(image, 0)\n",
    "    # print(image.shape) # (1, 224, 224, 3)\n",
    "    \n",
    "    # # Tiền xử lý ảnh theo tiêu chuẩn của mô hình VGG16\n",
    "    # image = imagenet_utils.preprocess_input(image)\n",
    "    # # print(image.shape) # (1, 224, 224, 3)\n",
    "    \n",
    "    # Thêm ảnh đã tiền xử lý vào danh sách\n",
    "    list_image.append(image)\n",
    "    \n",
    "# Chuyển danh sách các ảnh thành mảng numpy một chiều\n",
    "list_image = np.vstack(list_image)\n"
   ]
  },
  {
   "cell_type": "code",
   "execution_count": 28,
   "metadata": {},
   "outputs": [
    {
     "name": "stdout",
     "output_type": "stream",
     "text": [
      "(1360, 224, 224, 3)\n"
     ]
    }
   ],
   "source": [
    "print(list_image.shape)\n",
    "# print(list_image[0]) # ma trận w.h.d của ảnh là input đầu vào của model \n",
    "# print(list_image[0].shape)"
   ]
  },
  {
   "cell_type": "markdown",
   "metadata": {},
   "source": [
    "#### Lớp cuối cùng Conv VGG16 = 7x7x512 "
   ]
  },
  {
   "cell_type": "code",
   "execution_count": 29,
   "metadata": {},
   "outputs": [],
   "source": [
    "# model = VGG16(weights='imagenet')\n",
    "# model.summary()\n",
    "model_VGG16 = VGG16(weights='imagenet', include_top=False)"
   ]
  },
  {
   "cell_type": "code",
   "execution_count": 30,
   "metadata": {},
   "outputs": [
    {
     "name": "stdout",
     "output_type": "stream",
     "text": [
      "\u001b[1m43/43\u001b[0m \u001b[32m━━━━━━━━━━━━━━━━━━━━\u001b[0m\u001b[37m\u001b[0m \u001b[1m86s\u001b[0m 2s/step\n"
     ]
    }
   ],
   "source": [
    "# Dùng pre-trained model để lấy ra các feature của ảnh \n",
    "features = model_VGG16.predict(list_image) # tensor Đặc trưng ảnh "
   ]
  },
  {
   "cell_type": "code",
   "execution_count": 31,
   "metadata": {},
   "outputs": [
    {
     "data": {
      "text/plain": [
       "(1360, 7, 7, 512)"
      ]
     },
     "execution_count": 31,
     "metadata": {},
     "output_type": "execute_result"
    }
   ],
   "source": [
    "features.shape"
   ]
  },
  {
   "cell_type": "markdown",
   "metadata": {},
   "source": [
    "#### Làm phẳng tensor thành vector (Tương tự Flatten của Model)"
   ]
  },
  {
   "cell_type": "code",
   "execution_count": 32,
   "metadata": {},
   "outputs": [
    {
     "data": {
      "text/plain": [
       "(1360, 25088)"
      ]
     },
     "execution_count": 32,
     "metadata": {},
     "output_type": "execute_result"
    }
   ],
   "source": [
    "features = features.reshape((features.shape[0], 512*7*7))\n",
    "features.shape # (1360, 25088) . 7x7x512 = 25088"
   ]
  },
  {
   "cell_type": "markdown",
   "metadata": {},
   "source": [
    "#### <strong style=\"color:yellow\">Giảm chiều bằng PCA</strong>"
   ]
  },
  {
   "cell_type": "markdown",
   "metadata": {},
   "source": [
    "##### Giảm chiều nhưng explained_variance_ratio từ 95% - 99%"
   ]
  },
  {
   "cell_type": "code",
   "execution_count": 33,
   "metadata": {},
   "outputs": [],
   "source": [
    "pca = PCA(n_components=0.95)  # Giữ lại 95% phương sai\n",
    "# pca = PCA(n_components=k)  # Giảm xuống k chiều "
   ]
  },
  {
   "cell_type": "code",
   "execution_count": 34,
   "metadata": {},
   "outputs": [
    {
     "data": {
      "text/plain": [
       "(1360, 908)"
      ]
     },
     "execution_count": 34,
     "metadata": {},
     "output_type": "execute_result"
    }
   ],
   "source": [
    "features_reduced = pca.fit_transform(features)\n",
    "features_reduced.shape # (1360, 908)"
   ]
  },
  {
   "cell_type": "markdown",
   "metadata": {},
   "source": [
    "#### Giữ lại 95% phương sai thì 25088 giảm xuống thấp nhất là 908 chiều . Ta thấy khá là thấp nhưng vẫn giữ lại được 95% phương sai . Mặc khác vector có 908 chiều thì train model nhanh hơn rất nhiều so với 25088 chiều "
   ]
  },
  {
   "cell_type": "markdown",
   "metadata": {},
   "source": [
    "#### Nếu Giảm xuống 908 chiều mà giữ lại được 95% thì nếu ta giảm 1/2 hoặc 1/4 thì chắc chắn phương sai giữ lại > 95%"
   ]
  },
  {
   "cell_type": "markdown",
   "metadata": {},
   "source": [
    "### Train Model"
   ]
  },
  {
   "cell_type": "markdown",
   "metadata": {},
   "source": [
    "#### Thật ra với Transfer learning thì chỉ nên chia train và test = 8 : 2 , không nên chia thêm valid . "
   ]
  },
  {
   "cell_type": "code",
   "execution_count": 35,
   "metadata": {},
   "outputs": [
    {
     "name": "stdout",
     "output_type": "stream",
     "text": [
      "(1088, 908)\n",
      "(182, 908)\n",
      "(90, 908)\n"
     ]
    }
   ],
   "source": [
    "X_train, X_remain, y_train, y_remain = train_test_split(features_reduced, labels, test_size=0.2, random_state=42)\n",
    "X_valid, X_test, y_valid, y_test = train_test_split(X_remain, y_remain, test_size=0.33, random_state=42)\n",
    "print(X_train.shape) # (1088, 908)\n",
    "print(X_valid.shape) # (182, 908)\n",
    "print(X_test.shape) # (90, 908)\n",
    "# train : valid : test = 7 : 2 : 1 "
   ]
  },
  {
   "cell_type": "code",
   "execution_count": 36,
   "metadata": {},
   "outputs": [
    {
     "name": "stdout",
     "output_type": "stream",
     "text": [
      "Best parameter for the model {'C': 100.0}\n",
      "Best parameters for the model: {'C': 100.0}\n",
      "Best estimator: LogisticRegression(C=100.0)\n",
      "Validation score: 0.8956043956043956\n"
     ]
    }
   ],
   "source": [
    "params = {'C' : [0.1, 1.0, 10.0, 100.0]}\n",
    "model = GridSearchCV(LogisticRegression(), params) \n",
    "model.fit(X_train, y_train) # HUẤN LUYỆN MODEL \n",
    "# Đánh giá mô hình trên tập validation\n",
    "validation_score = model.score(X_valid, y_valid)\n",
    "print('Best parameter for the model {}'.format(model.best_params_)) \n",
    "print(\"Best parameters for the model:\", model.best_params_)\n",
    "print(\"Best estimator:\", model.best_estimator_)\n",
    "print('Validation score:', validation_score)"
   ]
  },
  {
   "cell_type": "code",
   "execution_count": 37,
   "metadata": {},
   "outputs": [
    {
     "name": "stdout",
     "output_type": "stream",
     "text": [
      "              precision    recall  f1-score   support\n",
      "\n",
      "           0       0.71      1.00      0.83         5\n",
      "           1       1.00      1.00      1.00         6\n",
      "           2       1.00      0.75      0.86         4\n",
      "           3       0.57      1.00      0.73         4\n",
      "           4       1.00      0.62      0.77         8\n",
      "           5       0.75      0.60      0.67         5\n",
      "           6       0.88      1.00      0.93         7\n",
      "           7       0.00      0.00      0.00         0\n",
      "           8       1.00      1.00      1.00         4\n",
      "           9       0.83      1.00      0.91        10\n",
      "          10       0.80      0.80      0.80         5\n",
      "          11       1.00      0.88      0.93         8\n",
      "          12       0.80      1.00      0.89         4\n",
      "          13       1.00      0.86      0.92         7\n",
      "          14       1.00      1.00      1.00         4\n",
      "          15       0.67      0.33      0.44         6\n",
      "          16       1.00      1.00      1.00         3\n",
      "\n",
      "    accuracy                           0.86        90\n",
      "   macro avg       0.82      0.81      0.81        90\n",
      "weighted avg       0.88      0.86      0.85        90\n",
      "\n"
     ]
    },
    {
     "name": "stderr",
     "output_type": "stream",
     "text": [
      "c:\\Users\\ADMIN\\AppData\\Local\\Programs\\Python\\Python310\\lib\\site-packages\\sklearn\\metrics\\_classification.py:1509: UndefinedMetricWarning: Recall is ill-defined and being set to 0.0 in labels with no true samples. Use `zero_division` parameter to control this behavior.\n",
      "  _warn_prf(average, modifier, f\"{metric.capitalize()} is\", len(result))\n",
      "c:\\Users\\ADMIN\\AppData\\Local\\Programs\\Python\\Python310\\lib\\site-packages\\sklearn\\metrics\\_classification.py:1509: UndefinedMetricWarning: Recall is ill-defined and being set to 0.0 in labels with no true samples. Use `zero_division` parameter to control this behavior.\n",
      "  _warn_prf(average, modifier, f\"{metric.capitalize()} is\", len(result))\n",
      "c:\\Users\\ADMIN\\AppData\\Local\\Programs\\Python\\Python310\\lib\\site-packages\\sklearn\\metrics\\_classification.py:1509: UndefinedMetricWarning: Recall is ill-defined and being set to 0.0 in labels with no true samples. Use `zero_division` parameter to control this behavior.\n",
      "  _warn_prf(average, modifier, f\"{metric.capitalize()} is\", len(result))\n"
     ]
    }
   ],
   "source": [
    "# Đánh giá model\n",
    "preds = model.predict(X_test) # DỰ ĐOÁN VÀ ĐÁNH GIÁ \n",
    "# print(preds) # nhãn dưới dạng số \n",
    "print(classification_report(y_test, preds))"
   ]
  },
  {
   "cell_type": "code",
   "execution_count": 38,
   "metadata": {},
   "outputs": [
    {
     "name": "stdout",
     "output_type": "stream",
     "text": [
      "Accuracy on test set: 0.8555555555555555\n"
     ]
    }
   ],
   "source": [
    "# Lấy ra mô hình tốt nhất từ GridSearchCV\n",
    "best_model = model.best_estimator_\n",
    "# Đánh giá mô hình tốt nhất trên tập kiểm tra\n",
    "score = best_model.score(X_test, y_test)\n",
    "print(\"Accuracy on test set:\", score)"
   ]
  },
  {
   "cell_type": "code",
   "execution_count": 39,
   "metadata": {},
   "outputs": [
    {
     "data": {
      "image/png": "[encoded data removed]",
      "text/plain": [
       "<Figure size 1000x800 with 2 Axes>"
      ]
     },
     "metadata": {},
     "output_type": "display_data"
    }
   ],
   "source": [
    "# Tạo ma trận nhầm lẫn\n",
    "cm = confusion_matrix(y_test, preds)\n",
    "\n",
    "# Chuyển nhãn số thành tên loài hoa\n",
    "label_names = le.inverse_transform(np.unique(y_test))\n",
    "label_names = [label.split('/')[-1] for label in label_names]\n",
    "\n",
    "# Sắp xếp lại ma trận nhầm lẫn\n",
    "sorted_cm = cm[np.argsort(label_names)][:, np.argsort(label_names)]\n",
    "\n",
    "# Tạo dataframe từ ma trận nhầm lẫn đã sắp xếp lại\n",
    "df_cm = pd.DataFrame(sorted_cm, index=label_names, columns=label_names)\n",
    "\n",
    "# Vẽ ma trận nhầm lẫn\n",
    "plt.figure(figsize=(10, 8))\n",
    "sns.heatmap(df_cm, annot=True, cmap='Blues', fmt='g')\n",
    "plt.xlabel('Predicted labels')\n",
    "plt.ylabel('True labels')\n",
    "plt.show()\n"
   ]
  },
  {
   "cell_type": "markdown",
   "metadata": {},
   "source": [
    "#### Lưu ý : Không nên chia dữ liệu theo kiểu này vì nó không phù hợp với Feature Extractor  "
   ]
  },
  {
   "cell_type": "code",
   "execution_count": null,
   "metadata": {},
   "outputs": [],
   "source": [
    "img_size = (224 , 224) # resize về đúng kích thước mà VGG 16 cần là (224,224)\n",
    "batch_size = 8\n",
    "img_shape = (img_size[0] , img_size[1] , 3)\n",
    "\n",
    "# làm giàu dữ liệu data augmentation\n",
    "train_datagen = ImageDataGenerator(\n",
    "    rescale=1./255,\n",
    "    rotation_range=30,\n",
    "    width_shift_range=0.1,\n",
    "    height_shift_range=0.1,\n",
    "    shear_range=0.2,\n",
    "    zoom_range=0.2,\n",
    "    horizontal_flip=True,\n",
    "    fill_mode='nearest'\n",
    ")\n",
    "test_datagen = ImageDataGenerator(rescale=1./255)  # Chỉ rescale cho dữ liệu kiểm tra\n",
    "# làm giàu dữ liệu data augmentation\n",
    "\n",
    "train_gen = train_datagen.flow_from_directory(train_dir , target_size = img_size , class_mode = 'categorical' ,\n",
    "                                       color_mode = 'rgb' , shuffle = True , batch_size = batch_size)\n",
    "\n",
    "valid_gen = test_datagen.flow_from_directory(val_dir , target_size = img_size , class_mode = 'categorical' ,\n",
    "                                       color_mode = 'rgb' , shuffle = True , batch_size = batch_size)\n",
    "\n",
    "test_gen = test_datagen.flow_from_directory(test_dir , target_size = img_size , class_mode = 'categorical' ,\n",
    "                                       color_mode = 'rgb' , shuffle = False , batch_size = batch_size)"
   ]
  }
 ],
 "metadata": {
  "kernelspec": {
   "display_name": "Python 3",
   "language": "python",
   "name": "python3"
  },
  "language_info": {
   "codemirror_mode": {
    "name": "ipython",
    "version": 3
   },
   "file_extension": ".py",
   "mimetype": "text/x-python",
   "name": "python",
   "nbconvert_exporter": "python",
   "pygments_lexer": "ipython3",
   "version": "3.10.6"
  }
 },
 "nbformat": 4,
 "nbformat_minor": 2
}
