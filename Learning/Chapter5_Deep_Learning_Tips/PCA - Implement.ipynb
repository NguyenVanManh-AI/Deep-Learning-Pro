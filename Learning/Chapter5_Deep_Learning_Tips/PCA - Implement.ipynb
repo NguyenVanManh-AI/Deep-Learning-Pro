{
 "cells": [
  {
   "cell_type": "markdown",
   "metadata": {},
   "source": [
    "# PCA - Implement"
   ]
  },
  {
   "cell_type": "markdown",
   "metadata": {},
   "source": [
    "## PCA - Introduction "
   ]
  },
  {
   "cell_type": "markdown",
   "metadata": {},
   "source": [
    "- Đúng như với mục đích của PCA giảm chiều dữ liệu của một vector m chiều xuống còn k chiều  \n",
    "- Như vậy ta có thể sử dụng PCA vào các trường hợp \n",
    "    + Các bài toán học máy đơn giản , ví dụ X có m đặc trưng , ta muốn giảm nó xuống k đặc trưng . Nghĩa là X có m đặc trưng ví dụ loài hoa thì có chiều dài , màu sắc ,... gồm m đặc trưng như thế sau đó ta sẽ giảm chiều nó xuống thành k đặc trưng \n",
    "    + Đối với bài toán nhận diện ảnh vì ảnh được chuyển thành một matrix hoặc tensor . Mặc khác với các model Deep learning thì đầu vào của nó cũng yêu cầu là một matrix hoặc tensor (matrix hoặc tensor fixcel của ảnh) , chính vì thế mà nó thường không được áp dụng cho ảnh . <strong style=\"color:yellow\">Mà nó thường được áp dụng trong Transfer learning . Cụ thể là sau các lớp Conv , trước khi đến các lớp FCs thì ta cho qua PCA để giảm chiều . Ví dụ đầu ra của VGG sau khi qua flatten (làm phẳng) là một vector với số chiều là (4096,1) ta sẽ cho nó qua PCA trở thành (k,1) với k là số chiều được giảm xuống, sau đó mới cho qua các lớp FCs ví dụ như Dense(512,sigmoid) rồi Dense(10,softmax)</strong>\n",
    "\n",
    "- <strong style=\"color:#FFC107\">Một lưu ý cực kì quan trọng trong PCA là nếu X có shape là (n,m) thì k phải <= n,m thì mới áp dụng PCA được . Với k là số chiều muốn giảm xuống</strong>"
   ]
  },
  {
   "cell_type": "markdown",
   "metadata": {},
   "source": [
    "## Code"
   ]
  },
  {
   "cell_type": "markdown",
   "metadata": {},
   "source": [
    "#### PCA"
   ]
  },
  {
   "cell_type": "code",
   "execution_count": 108,
   "metadata": {},
   "outputs": [],
   "source": [
    "# Đây là thuật toán PCA\n",
    "# Input: Dữ liệu đầu vào là một ma trận X (n x m) với n là số lượng mẫu, m là số chiều của mỗi mẫu\n",
    "# Output: Ma trận X sau khi giảm chiều về k chiều (n x k)\n",
    "# Cách sử dụng:\n",
    "# pca = PCA(X, k)\n",
    "# pca.fit()\n",
    "# X_new = pca.transform(X)\n",
    "# Trong đó X_new là ma trận X sau khi giảm chiều về k chiều\n",
    "\n",
    "import numpy as np\n",
    "\n",
    "class PCA:\n",
    "    def __init__(self, X, k):\n",
    "        self.X = X\n",
    "        self.k = k\n",
    "        self.n, self.m = X.shape\n",
    "        self.mean = np.mean(X, axis=0)\n",
    "        self.X = self.X - self.mean\n",
    "        self.cov = np.dot(self.X.T, self.X) / self.n\n",
    "        self.eigenvalues, self.eigenvectors = np.linalg.eig(self.cov)\n",
    "        self.eigenvalues_idx = np.argsort(self.eigenvalues)[::-1]\n",
    "        \n",
    "    def fit(self):\n",
    "        self.eigenvalues = np.real(self.eigenvalues)\n",
    "        self.eigenvectors = np.real(self.eigenvectors)\n",
    "        self.eigenvectors = self.eigenvectors[:, self.eigenvalues_idx]\n",
    "        self.eigenvectors = self.eigenvectors[:, :self.k]\n",
    "        \n",
    "    def transform(self, X):\n",
    "        return np.dot(X - self.mean, self.eigenvectors)\n",
    "    \n",
    "    def inverse_transform(self, X_new):\n",
    "        return np.dot(X_new, self.eigenvectors.T) + self.mean\n",
    "    \n",
    "    # tính phương sai\n",
    "    def variance(self):\n",
    "        return np.sum(self.eigenvalues[:self.k]) / np.sum(self.eigenvalues)\n",
    "\n",
    "    def get_eigenvectors(self):\n",
    "        return self.eigenvectors\n",
    "    \n",
    "    def get_mean(self):\n",
    "        return self.mean"
   ]
  },
  {
   "cell_type": "markdown",
   "metadata": {},
   "source": [
    "#### Load dữ liệu"
   ]
  },
  {
   "cell_type": "code",
   "execution_count": 109,
   "metadata": {},
   "outputs": [
    {
     "name": "stdout",
     "output_type": "stream",
     "text": [
      "X.shape (70000, 784)\n",
      "y.shape (70000,)\n",
      "<class 'pandas.core.frame.DataFrame'>\n",
      "<class 'numpy.ndarray'>\n"
     ]
    }
   ],
   "source": [
    "import matplotlib.pyplot as plt\n",
    "from sklearn.datasets import fetch_openml\n",
    "\n",
    "# Load dữ liệu MNIST từ scikit-learn\n",
    "mnist = fetch_openml('mnist_784')\n",
    "X = mnist.data\n",
    "y = mnist.target.astype(int)\n",
    "\n",
    "print('X.shape', X.shape)\n",
    "print('y.shape', y.shape)\n",
    "print(type(X)) # <class 'pandas.core.frame.DataFrame'>\n",
    "X = X.values\n",
    "print(type(X)) # <class 'numpy.ndarray'>"
   ]
  },
  {
   "cell_type": "markdown",
   "metadata": {},
   "source": [
    "#### Cách tìm ra k tốt nhất "
   ]
  },
  {
   "cell_type": "markdown",
   "metadata": {},
   "source": [
    "- Khác với việc dùng thư viện , code thuần sẽ train lâu hơn nếu cho giảm xuống đúng số chiều mà X đang có , chính vì thế dùng phương pháp khoanh vùng\n",
    "- Có thể khoanh vùng bằng step \n",
    "    + Ban đầu cho start và end là một vùng lớn , step cũng lớn , ví dụ (start=1, end = 784, step = 10)\n",
    "    + Sau đó khoang vùng start và end càng ngàng càng nhỏ lại và step cũng nhỏ lại (start = 500, end = 600, step = 1)\n",
    "\n",
    "- Thay vì (start=1, end = 784, step = 1) => lâu \n",
    "- Với cách này có thể tìm ra k tối ưu nhất \n",
    "\n",
    "Ví dụ : Với yêu cầu là accuracy % (95% - 99%) , ví dụ accuracy = 0.95 \n",
    "- Ban đầu cho : (start=1, end = 784, step = 10) => tìm được best_k = 161 \n",
    "- => Nó sẽ nằm trong phạm vi 151 - 161 - 171 => (start=151, end = 171, step = 1) => tìm ra best_k cuối cùng = 154"
   ]
  },
  {
   "cell_type": "markdown",
   "metadata": {},
   "source": [
    "- Kết qủa giống với thư viện , thư viện tìm ra là 153 (do làm tròn nên có thể chênh nhau)"
   ]
  },
  {
   "cell_type": "code",
   "execution_count": 110,
   "metadata": {},
   "outputs": [
    {
     "name": "stdout",
     "output_type": "stream",
     "text": [
      "k : 151 variance : 0.9489801906329886\n",
      "k : 152 variance : 0.9494421826459516\n",
      "k : 153 variance : 0.9499004670919698\n",
      "k : 154 variance : 0.9503499702078614\n",
      "Best k of accuracy: 154\n"
     ]
    }
   ],
   "source": [
    "# Danh sách để lưu trữ các giá trị phương sai\n",
    "# X có shape = (n,m)\n",
    "cumulative_variance_ratio = []\n",
    "accuracy = 0.95 \n",
    "\n",
    "# step 1 \n",
    "# start = 1\n",
    "# end = X.shape[1] \n",
    "# step = 10\n",
    "# => best_k_of_accuracy = 161\n",
    "\n",
    "# step2\n",
    "start = 151\n",
    "end = 171 \n",
    "step = 1\n",
    "# => best_k_of_accuracy = 154\n",
    "\n",
    "best_k_of_accuracy = X.shape[1] \n",
    "for k in range(start, end, step):\n",
    "    pca = PCA(X, k)\n",
    "    pca.fit()\n",
    "    variance = pca.variance()\n",
    "    print('k :',k, 'variance :',variance)\n",
    "    cumulative_variance_ratio.append(variance)\n",
    "    if variance >= accuracy :\n",
    "        best_k_of_accuracy = k \n",
    "        end = k \n",
    "        break # thoát for \n",
    "\n",
    "print(\"Best k of accuracy:\", best_k_of_accuracy)"
   ]
  },
  {
   "cell_type": "code",
   "execution_count": 114,
   "metadata": {},
   "outputs": [
    {
     "data": {
      "image/png": "[encoded data removed]",
      "text/plain": [
       "<Figure size 640x480 with 1 Axes>"
      ]
     },
     "metadata": {},
     "output_type": "display_data"
    }
   ],
   "source": [
    "# Vẽ đồ thị phương sai\n",
    "plt.plot(range(start, end+1, step), cumulative_variance_ratio, marker='o', linestyle='-')\n",
    "plt.xlabel('Number of components (k)')\n",
    "plt.ylabel('Variance')\n",
    "plt.title('Variance vs Number of components')\n",
    "plt.show()"
   ]
  }
 ],
 "metadata": {
  "kernelspec": {
   "display_name": "Python 3",
   "language": "python",
   "name": "python3"
  },
  "language_info": {
   "codemirror_mode": {
    "name": "ipython",
    "version": 3
   },
   "file_extension": ".py",
   "mimetype": "text/x-python",
   "name": "python",
   "nbconvert_exporter": "python",
   "pygments_lexer": "ipython3",
   "version": "3.10.6"
  }
 },
 "nbformat": 4,
 "nbformat_minor": 2
}
