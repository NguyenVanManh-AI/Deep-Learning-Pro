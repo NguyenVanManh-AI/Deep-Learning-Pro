{
 "cells": [
  {
   "cell_type": "markdown",
   "metadata": {},
   "source": [
    "# Chapter5 : Deep Learning Tips\n",
    "Tham khảo một số dataset tương tự \n",
    "- https://www.kaggle.com/code/aman10kr/flowers-classifier-vgg-16-from-scratch-200-epochs/input\n",
    "- https://www.kaggle.com/datasets/alxmamaev/flowers-recognition"
   ]
  },
  {
   "cell_type": "markdown",
   "metadata": {},
   "source": [
    "Tham khảo : https://www.kaggle.com/code/aman10kr/flowers-classifier-vgg-16-from-scratch-200-epochs/input"
   ]
  },
  {
   "cell_type": "code",
   "execution_count": 1,
   "metadata": {},
   "outputs": [
    {
     "name": "stdout",
     "output_type": "stream",
     "text": [
      "Vectorization time :  0.005002021789550781\n"
     ]
    }
   ],
   "source": [
    "#-*- coding: utf-8-*\n",
    "import numpy as np\n",
    "import time\n",
    "a = np.random.rand(10000000)\n",
    "b = np.random.rand(10000000)\n",
    "start = time.time()\n",
    "c = np.dot(a, b.T)\n",
    "end = time.time()\n",
    "print(\"Vectorization time : \", end-start)"
   ]
  },
  {
   "cell_type": "code",
   "execution_count": 3,
   "metadata": {},
   "outputs": [
    {
     "name": "stdout",
     "output_type": "stream",
     "text": [
      "For-loop time :  2.254159450531006\n"
     ]
    }
   ],
   "source": [
    "start = time.time()\n",
    "c = 0\n",
    "for i in range(len(a)):\n",
    "    c += a[i] * b[i]\n",
    "end = time.time()\n",
    "print(\"For-loop time : \", end-start)"
   ]
  }
 ],
 "metadata": {
  "kernelspec": {
   "display_name": "Python 3",
   "language": "python",
   "name": "python3"
  },
  "language_info": {
   "codemirror_mode": {
    "name": "ipython",
    "version": 3
   },
   "file_extension": ".py",
   "mimetype": "text/x-python",
   "name": "python",
   "nbconvert_exporter": "python",
   "pygments_lexer": "ipython3",
   "version": "3.10.6"
  }
 },
 "nbformat": 4,
 "nbformat_minor": 2
}
