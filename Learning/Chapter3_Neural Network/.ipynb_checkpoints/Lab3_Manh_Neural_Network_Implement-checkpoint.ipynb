{
 "cells": [
  {
   "cell_type": "markdown",
   "metadata": {},
   "source": [
    "# Introduction"
   ]
  },
  {
   "cell_type": "markdown",
   "metadata": {},
   "source": [
    "Code trên định nghĩa một mạng neural network với các lớp khác nhau như Layer, FCLayer (Fully Connected Layer), ActivationLayer, và Network. Dưới đây là giải thích từng phần:\n",
    "\n",
    "1. **CLASS LAYER**: Đây là lớp cơ bản, chứa các phương thức trừu tượng để được định nghĩa lại bởi các lớp con của nó. Các phương thức trừu tượng bao gồm `forward_propagation` và `backward_propagation`, được sử dụng để thực hiện quá trình lan truyền tiến và lan truyền ngược trong mạng neural network.\n",
    "\n",
    "2. **FULL CONNECTED LAYER (FCLayer)**: Đây là một lớp lớp đặc trưng, thực hiện các phép tính liên quan đến Fully Connected Layer, bao gồm cả quá trình lan truyền tiến và lan truyền ngược. Trong quá trình khởi tạo, ma trận trọng số và bias được khởi tạo một cách ngẫu nhiên. Các phương thức `forward_propagation` và `backward_propagation` được cài đặt để thực hiện tính toán trên dữ liệu đầu vào và lỗi.\n",
    "\n",
    "3. **CLASS ACTIVATION LAYER**: Lớp này thực hiện các phép tính kích hoạt, như ReLU, Sigmoid, Tanh, vv. Các phương thức `forward_propagation` và `backward_propagation` ở đây tính toán giá trị đầu ra và đạo hàm của hàm kích hoạt tương ứng.\n",
    "\n",
    "4. **CLASS NEURAL NETWORK LAYER (Network)**: Lớp này đại diện cho toàn bộ mạng neural network, bao gồm việc thêm các lớp, cài đặt hàm loss, và thực hiện việc dự đoán và huấn luyện mạng. Các phương thức `predict` và `fit` thực hiện các công việc tương ứng.\n",
    "\n",
    "5. **CẤU HÌNH DỰ ĐOÁN DỰA TRÊN NEURAL NETWORK**: Phần này định nghĩa các hàm kích hoạt (ReLU và đạo hàm của nó), hàm loss (bình phương sai số) và đạo hàm của nó. Đây là các hàm được sử dụng trong mạng neural network để tính toán đầu ra và lỗi.\n",
    "\n",
    "Cuối cùng, một mạng neural network được tạo với các lớp và hàm loss được cấu hình. Mạng này được huấn luyện trên dữ liệu và sau đó dùng để dự đoán và đánh giá độ chính xác trên tập dữ liệu kiểm tra. Biểu đồ loss function qua các epoch cũng được vẽ để đánh giá hiệu suất của mô hình."
   ]
  },
  {
   "cell_type": "markdown",
   "metadata": {},
   "source": [
    "Dòng mã `raise NotImplementedError` được sử dụng để nêu rõ rằng một phương thức hoặc một phần của lớp chưa được cài đặt. Khi lớp con kế thừa từ lớp này và không cài đặt một phương thức nào đó, nó sẽ hiển thị một ngoại lệ (exception) `NotImplementedError`, làm cho việc sử dụng lớp con một cách an toàn hơn, vì nó báo hiệu rằng cần phải cài đặt các phương thức này trước khi sử dụng.\n",
    "\n",
    "    # self trong python chính là this ở các ngôn ngữ khác"
   ]
  },
  {
   "cell_type": "markdown",
   "metadata": {},
   "source": [
    "<h5>Optimizer thì chỉ cần thay đổi lớp Fully conected của Gradient Descent  bằng cách thuật toán tối ưu khác là được</h5>"
   ]
  },
  {
   "cell_type": "markdown",
   "metadata": {},
   "source": [
    "# Code "
   ]
  },
  {
   "cell_type": "markdown",
   "metadata": {},
   "source": [
    "#### 0. Install . ```Giữ nguyên```"
   ]
  },
  {
   "cell_type": "code",
   "execution_count": 211,
   "metadata": {},
   "outputs": [],
   "source": [
    "from abc import abstractmethod  # Import abstractmethod từ module abc để sử dụng decorator abstractmethod.\n",
    "from sklearn.model_selection import train_test_split  # Import train_test_split từ module sklearn.model_selection để chia dữ liệu thành các tập huấn luyện và kiểm tra.\n",
    "import matplotlib.pyplot as plt\n",
    "import pandas as pd  \n",
    "import numpy as np "
   ]
  },
  {
   "cell_type": "markdown",
   "metadata": {},
   "source": [
    "#### 1. CLASS LAYER: Định nghĩa lớp cơ bản cho một layer trong mạng neural network. ```Giữ nguyên```"
   ]
  },
  {
   "cell_type": "code",
   "execution_count": 212,
   "metadata": {},
   "outputs": [],
   "source": [
    "class Layer:  # Định nghĩa class Layer.\n",
    "    def __init__(self):  \n",
    "        self.input = None \n",
    "        self.output = None  \n",
    "        self.input_shape = None  \n",
    "        self.output_shape = None  \n",
    "        raise NotImplementedError  # Raise một NotImplementedError nếu có bất kỳ phương thức nào không được cài đặt.\n",
    "\n",
    "    @abstractmethod  \n",
    "    def input(self):  \n",
    "        return self.input  \n",
    "\n",
    "    @abstractmethod  \n",
    "    def output(self):  \n",
    "        return self.output  \n",
    "\n",
    "    @abstractmethod  \n",
    "    def input_shape(self):  \n",
    "        return self.input_shape \n",
    "\n",
    "    @abstractmethod  \n",
    "    def output_shape(self):  \n",
    "        return self.output_shape  \n",
    "\n",
    "    @abstractmethod  \n",
    "    def forward_propagation(self, input):  \n",
    "        raise NotImplementedError \n",
    "\n",
    "    @abstractmethod  \n",
    "    def backward_propagation(self, output_error, learning_rate):  \n",
    "        raise NotImplementedError "
   ]
  },
  {
   "cell_type": "markdown",
   "metadata": {},
   "source": [
    "#### 2. Fully Conected . Thay đổi các thuật toán tối ưu thì thay thế class này ```Thay đổi```"
   ]
  },
  {
   "cell_type": "markdown",
   "metadata": {},
   "source": [
    "##### 2.1.Optimizer = Gradient Descent "
   ]
  },
  {
   "cell_type": "code",
   "execution_count": 213,
   "metadata": {},
   "outputs": [],
   "source": [
    "class FCLayer(Layer): \n",
    "    def __init__(self, input_shape, output_shape): \n",
    "        self.input_shape = input_shape \n",
    "        self.output_shape = output_shape \n",
    "        self.weights = np.random.rand(input_shape[1], output_shape[1]) - 0.5 \n",
    "        self.bias = np.random.rand(1, output_shape[1]) - 0.5 \n",
    "\n",
    "    def forward_propagation(self, input): \n",
    "        self.input = input \n",
    "        self.output = np.dot(self.input, self.weights) + self.bias \n",
    "        return  self.output \n",
    "\n",
    "    def backward_propagation(self, output_error, learning_rate): \n",
    "        curent_layer_err =  np.dot(output_error, self.weights.T) \n",
    "        dweight = np.dot(self.input.T, output_error) \n",
    "        self.weights -= dweight*learning_rate \n",
    "        self.bias -= learning_rate*output_error \n",
    "        return curent_layer_err\n",
    "    \n",
    "name_optimizer = 'Gradient Descent'"
   ]
  },
  {
   "cell_type": "markdown",
   "metadata": {},
   "source": [
    "##### 2.2.Optimizer = Gradient Descent with momentum"
   ]
  },
  {
   "cell_type": "code",
   "execution_count": 214,
   "metadata": {},
   "outputs": [],
   "source": [
    "class FCLayer(Layer):\n",
    "    def __init__(self, input_shape, output_shape, momentum=0.9):  # Thêm thông số momentum\n",
    "        self.input_shape = input_shape\n",
    "        self.output_shape = output_shape\n",
    "        self.weights = np.random.rand(input_shape[1], output_shape[1]) - 0.5\n",
    "        self.bias = np.random.rand(1, output_shape[1]) - 0.5\n",
    "        self.momentum = momentum  # Lưu trữ giá trị momentum\n",
    "        self.momentum_weights = np.zeros_like(self.weights)\n",
    "\n",
    "    def forward_propagation(self, input):\n",
    "        self.input = input\n",
    "        self.output = np.dot(self.input, self.weights) + self.bias     #(1, 3)*(3, 4) + (1, 4) = (1, 4)\n",
    "        return self.output\n",
    "\n",
    "    def backward_propagation(self, output_error, learning_rate):\n",
    "        # Tính gradient của trọng số\n",
    "        dweight = np.dot(self.input.T, output_error)\n",
    "        # Cập nhật trọng số với momentum\n",
    "        self.momentum_weights = self.momentum_weights * self.momentum - learning_rate * dweight\n",
    "        self.weights += self.momentum_weights\n",
    "        self.bias -= learning_rate * output_error\n",
    "        # Tính và trả về lỗi của lớp trước đó\n",
    "        current_layer_err = np.dot(output_error, self.weights.T)\n",
    "        return current_layer_err\n",
    "    \n",
    "name_optimizer = 'Gradient Descent with momentum'"
   ]
  },
  {
   "cell_type": "markdown",
   "metadata": {},
   "source": [
    "##### 2.3.Optimizer = Stochastic gradient descent (SGD) . <strong style='color:#f9ff00'>>95% = SGD + Sigmoid + Log loss (no batch)</strong>"
   ]
  },
  {
   "cell_type": "code",
   "execution_count": 215,
   "metadata": {},
   "outputs": [],
   "source": [
    "class FCLayer(Layer): \n",
    "    def __init__(self, input_shape, output_shape): \n",
    "        self.input_shape = input_shape \n",
    "        self.output_shape = output_shape \n",
    "        self.weights = np.random.rand(input_shape[1], output_shape[1]) - 0.5 \n",
    "        self.bias = np.random.rand(1, output_shape[1]) - 0.5 \n",
    "\n",
    "    def forward_propagation(self, input): \n",
    "        self.input = input \n",
    "        self.output = np.dot(self.input, self.weights) + self.bias \n",
    "        return self.output \n",
    "\n",
    "    def backward_propagation(self, output_error, learning_rate): \n",
    "        current_layer_err = np.dot(output_error, self.weights.T)\n",
    "        \n",
    "        # SGD update - chỉ cập nhật dựa trên một mẫu dữ liệu duy nhất\n",
    "        dweight = np.dot(self.input.T, output_error) \n",
    "        self.weights -= dweight * learning_rate \n",
    "        self.bias -= learning_rate * output_error \n",
    "        return current_layer_err\n",
    "    \n",
    "name_optimizer = 'SGD'"
   ]
  },
  {
   "cell_type": "markdown",
   "metadata": {},
   "source": [
    "##### 2.4.Optimizer = Adam. <strong style='color:#f9ff00'>>95% = Adam + Sigmoid + Log loss (no batch)</strong>"
   ]
  },
  {
   "cell_type": "code",
   "execution_count": 216,
   "metadata": {},
   "outputs": [],
   "source": [
    "class FCLayer(Layer):\n",
    "  def __init__(self, input_shape, output_shape):\n",
    "    self.input_shape = input_shape\n",
    "    self.output_shape = output_shape\n",
    "    self.weights = np.random.rand(input_shape[1], output_shape[1]) - 0.5\n",
    "    self.bias = np.random.rand(1, output_shape[1]) - 0.5\n",
    "    # Khởi tạo các thông số cho Adam\n",
    "    self.beta1 = 0.9\n",
    "    self.beta2 = 0.999\n",
    "    self.epsilon = 1e-8\n",
    "    self.m = 0\n",
    "    self.v = 0\n",
    "    self.t = 0\n",
    "\n",
    "  def forward_propagation(self, input):\n",
    "    self.input = input\n",
    "    self.output = np.dot(self.input, self.weights) + self.bias     #(1, 3)*(3, 4) + (1, 4) = (1, 4)\n",
    "    return self.output\n",
    "\n",
    "  def backward_propagation(self, output_error, learning_rate):\n",
    "    # Tính gradient của trọng số\n",
    "    dweight = np.dot(self.input.T, output_error)\n",
    "    # Cập nhật moment\n",
    "    self.m = self.beta1 * self.m + (1 - self.beta1) * dweight\n",
    "    # Cập nhật moment bậc hai\n",
    "    self.v = self.beta2 * self.v + (1 - self.beta2) * (dweight ** 2)\n",
    "    # Điều chỉnh moment\n",
    "    m_hat = self.m / (1 - self.beta1 ** (self.t + 1))\n",
    "    v_hat = self.v / (1 - self.beta2 ** (self.t + 1))\n",
    "    # Cập nhật trọng số\n",
    "    self.weights -= learning_rate * m_hat / (np.sqrt(v_hat) + self.epsilon)\n",
    "    # Tăng bước thời gian\n",
    "    self.t += 1\n",
    "    # Tính và trả về lỗi của lớp trước đó\n",
    "    current_layer_err = np.dot(output_error, self.weights.T)\n",
    "    return current_layer_err\n",
    "  \n",
    "name_optimizer = 'Adam'"
   ]
  },
  {
   "cell_type": "markdown",
   "metadata": {},
   "source": [
    "##### 2.5.Optimizer = RMSprop (Root Mean Square Propagation):  . <strong style='color:#f9ff00'>>95% = RMSprop + Sigmoid + Log loss (no batch)</strong>"
   ]
  },
  {
   "cell_type": "code",
   "execution_count": 217,
   "metadata": {},
   "outputs": [],
   "source": [
    "class FCLayer(Layer): \n",
    "    def __init__(self, input_shape, output_shape, decay_rate=0.9, epsilon=1e-6): \n",
    "        self.input_shape = input_shape \n",
    "        self.output_shape = output_shape \n",
    "        self.weights = np.random.rand(input_shape[1], output_shape[1]) - 0.5 \n",
    "        self.bias = np.random.rand(1, output_shape[1]) - 0.5 \n",
    "        self.decay_rate = decay_rate\n",
    "        self.epsilon = epsilon\n",
    "        self.weights_cache = np.zeros_like(self.weights)\n",
    "        self.bias_cache = np.zeros_like(self.bias)\n",
    "\n",
    "    def forward_propagation(self, input): \n",
    "        self.input = input \n",
    "        self.output = np.dot(self.input, self.weights) + self.bias \n",
    "        return self.output \n",
    "\n",
    "    def backward_propagation(self, output_error, learning_rate): \n",
    "        current_layer_err = np.dot(output_error, self.weights.T)\n",
    "        \n",
    "        dweight = np.dot(self.input.T, output_error)\n",
    "        self.weights_cache = self.decay_rate * self.weights_cache + (1 - self.decay_rate) * dweight**2\n",
    "        self.weights -= learning_rate * dweight / (np.sqrt(self.weights_cache) + self.epsilon)\n",
    "        \n",
    "        self.bias_cache = self.decay_rate * self.bias_cache + (1 - self.decay_rate) * output_error**2\n",
    "        self.bias -= learning_rate * output_error / (np.sqrt(self.bias_cache) + self.epsilon)\n",
    "        \n",
    "        return current_layer_err\n",
    "    \n",
    "name_optimizer = 'RMSprop'\n"
   ]
  },
  {
   "cell_type": "markdown",
   "metadata": {},
   "source": [
    "##### 2.6.Optimizer = Adagrad (Adaptive Gradient Algorithm) . <strong style='color:#f9ff00'>>95% = Adagrad + Sigmoid + Log loss (no batch)</strong>"
   ]
  },
  {
   "cell_type": "code",
   "execution_count": 218,
   "metadata": {},
   "outputs": [],
   "source": [
    "class FCLayer(Layer): \n",
    "    def __init__(self, input_shape, output_shape, epsilon=1e-8): \n",
    "        self.input_shape = input_shape \n",
    "        self.output_shape = output_shape \n",
    "        self.weights = np.random.rand(input_shape[1], output_shape[1]) - 0.5 \n",
    "        self.bias = np.random.rand(1, output_shape[1]) - 0.5 \n",
    "        self.epsilon = epsilon\n",
    "        self.weights_cache = np.zeros_like(self.weights)\n",
    "        self.bias_cache = np.zeros_like(self.bias)\n",
    "\n",
    "    def forward_propagation(self, input): \n",
    "        self.input = input \n",
    "        self.output = np.dot(self.input, self.weights) + self.bias \n",
    "        return self.output \n",
    "\n",
    "    def backward_propagation(self, output_error, learning_rate): \n",
    "        current_layer_err = np.dot(output_error, self.weights.T)\n",
    "        \n",
    "        dweight = np.dot(self.input.T, output_error) \n",
    "        self.weights_cache += dweight ** 2\n",
    "        self.weights -= learning_rate * dweight / (np.sqrt(self.weights_cache) + self.epsilon)\n",
    "        \n",
    "        self.bias_cache += output_error ** 2\n",
    "        self.bias -= learning_rate * output_error / (np.sqrt(self.bias_cache) + self.epsilon)\n",
    "        \n",
    "        return current_layer_err\n",
    "    \n",
    "name_optimizer = 'Adagrad'"
   ]
  },
  {
   "cell_type": "markdown",
   "metadata": {},
   "source": [
    "##### 2.7.Optimizer = Adadelta (Cải tiến của Adagrad) . <strong style='color:#f9ff00'>>95% = Adadelta + Sigmoid + Log loss (no batch)</strong>"
   ]
  },
  {
   "cell_type": "code",
   "execution_count": 219,
   "metadata": {},
   "outputs": [],
   "source": [
    "class FCLayer(Layer): \n",
    "    def __init__(self, input_shape, output_shape, rho=0.95, epsilon=1e-6): \n",
    "        self.input_shape = input_shape \n",
    "        self.output_shape = output_shape \n",
    "        self.weights = np.random.rand(input_shape[1], output_shape[1]) - 0.5 \n",
    "        self.bias = np.random.rand(1, output_shape[1]) - 0.5 \n",
    "        self.rho = rho\n",
    "        self.epsilon = epsilon\n",
    "        self.weights_gradient_squared = np.zeros_like(self.weights)\n",
    "        self.bias_gradient_squared = np.zeros_like(self.bias)\n",
    "        self.weights_delta_squared = np.zeros_like(self.weights)\n",
    "        self.bias_delta_squared = np.zeros_like(self.bias)\n",
    "\n",
    "    def forward_propagation(self, input): \n",
    "        self.input = input \n",
    "        self.output = np.dot(self.input, self.weights) + self.bias \n",
    "        return self.output \n",
    "\n",
    "    def backward_propagation(self, output_error, learning_rate): \n",
    "        current_layer_err = np.dot(output_error, self.weights.T)\n",
    "        \n",
    "        dweight = np.dot(self.input.T, output_error) \n",
    "        self.weights_gradient_squared = self.rho * self.weights_gradient_squared + (1 - self.rho) * dweight**2\n",
    "        delta_weights = np.sqrt(self.weights_delta_squared + self.epsilon) * dweight / np.sqrt(self.weights_gradient_squared + self.epsilon)\n",
    "        self.weights_delta_squared = self.rho * self.weights_delta_squared + (1 - self.rho) * delta_weights**2\n",
    "        self.weights -= delta_weights\n",
    "        \n",
    "        self.bias_gradient_squared = self.rho * self.bias_gradient_squared + (1 - self.rho) * output_error**2\n",
    "        delta_bias = np.sqrt(self.bias_delta_squared + self.epsilon) * output_error / np.sqrt(self.bias_gradient_squared + self.epsilon)\n",
    "        self.bias_delta_squared = self.rho * self.bias_delta_squared + (1 - self.rho) * delta_bias**2\n",
    "        self.bias -= delta_bias\n",
    "        \n",
    "        return current_layer_err\n",
    "\n",
    "name_optimizer = 'Adadelta'\n",
    "\n",
    "# Lưu ý : Adadelta không sử dụng learning rate như các phương pháp tối ưu hóa khác như SGD hoặc Adagrad. \n",
    "# Thay vào đó, nó sử dụng các phép chia tỷ lệ động dựa trên \"running average\" của bình phương gradient và \n",
    "# bình phương delta để điều chỉnh các bước cập nhật."
   ]
  },
  {
   "cell_type": "markdown",
   "metadata": {},
   "source": [
    "#### 3. CLASS ACTIVATION LAYER ```Giữ nguyên```\n"
   ]
  },
  {
   "cell_type": "code",
   "execution_count": 220,
   "metadata": {},
   "outputs": [],
   "source": [
    "class ActivationLayer(Layer): \n",
    "    def __init__(self, input_shape, output_shape, activation, activation_prime): \n",
    "        self.input_shape = input_shape \n",
    "        self.output_shape = output_shape \n",
    "        self.activation = activation \n",
    "        self.activation_prime = activation_prime \n",
    " \n",
    "    def forward_propagation(self, input): \n",
    "        self.input = input # z \n",
    "        self.output = self.activation(input) # cho z qua activation sẽ thu được a  \n",
    "        return self.output # return a \n",
    " \n",
    "    def backward_propagation(self, output_error, learning_rate): \n",
    "        return self.activation_prime(self.input)*output_error # đạo hàm của hàm kích hoạt nhân cho ma trận lỗi từ lớp trước  "
   ]
  },
  {
   "cell_type": "markdown",
   "metadata": {},
   "source": [
    "#### 4. CLASS NEURAL NETWORK LAYER ```Có thể thay đổi```"
   ]
  },
  {
   "cell_type": "markdown",
   "metadata": {},
   "source": [
    "##### ```4.1 Network này Sử được dụng với Tất cả các thuật toán Optimize```"
   ]
  },
  {
   "cell_type": "code",
   "execution_count": 221,
   "metadata": {},
   "outputs": [],
   "source": [
    "class Network: \n",
    "    def __init__(self): \n",
    "        self.layers = [] # Network gồm tập hợp một list các layer \n",
    "        self.loss = None \n",
    "        self.loss_prime = None \n",
    " \n",
    "    def add(self, layer): \n",
    "        self.layers.append(layer) # thêm các layer đó vào network \n",
    " \n",
    "    def setup_loss(self, loss, loss_prime): \n",
    "        self.loss = loss \n",
    "        self.loss_prime = loss_prime \n",
    " \n",
    "    def predict(self, input): \n",
    "        result = [] \n",
    "        n = len(input) \n",
    "        for i in range(n): \n",
    "            output = input[i] \n",
    " \n",
    "            for layer in self.layers: \n",
    "                output = layer.forward_propagation(output) \n",
    "            result.append(output) \n",
    " \n",
    "        return result \n",
    "    def accuracy(self, x_test, y_test):\n",
    "        predictions = self.predict(x_test)\n",
    "        correct = 0\n",
    "        total = len(y_test)\n",
    "        for prediction, true_value in zip(predictions, y_test):\n",
    "            if np.round(prediction) == true_value:\n",
    "                correct += 1\n",
    "        accuracy = correct / total\n",
    "        return accuracy\n",
    "\n",
    "    #  quá trình train model (như đã viết trong file docx)\n",
    "    def fit(self, x_train, y_train, losses_train = any, learning_rate = any, epochs = any): \n",
    "        n = len(x_train) \n",
    "        for i in range(epochs): # Lặp qua số lần epochs \n",
    "            err = 0 \n",
    "            for j in range(n): # Trong mỗi epochs , Lặp qua các bảng ghi trong tập dữ liệu \n",
    "                # Với mỗi bảng ghi , theo như mạng neural network thì cho qua Feedforward để tìm thu được giá trị dự đoán y  \n",
    "                # Feedforward\n",
    "                output = x_train[j] # ban đầu gán giá trị đầu ra output chính là x_train[j]\n",
    "                for layer in self.layers: \n",
    "                    output = layer.forward_propagation(output) # output của lớp trước sẽ là input của lớp sau \n",
    "                    # giá trị output ở đây là a_i,...,a_n và a_n ở đây cũng chính là y dự đoán\n",
    "                \n",
    "                # Kết thúc feedforward thì output cuối cùng chính là y_predict   \n",
    "                #tính lỗi của từng mẫu dữ liệu (x_train[j] đi vào và y_train[j] đi ra sau đó tính lỗi)\n",
    "                err += self.loss(y_train[j], output) # tính lỗi dựa trên y_train (y thực tế) y_predict\n",
    "\n",
    "                # Backpropagation , cập nhật lại trọng số \n",
    "                error = self.loss_prime(y_train[j], output) \n",
    "                for layer in reversed(self.layers): \n",
    "                    error = layer.backward_propagation(error, learning_rate) \n",
    "\n",
    "            err = err / n \n",
    "            losses_train.append(err[0][0]) # Thêm vào mảng losses_train\n",
    "            if i % 50 == 0: print('epoch : %d/%d  err = %f'%(i, epochs, err)) \n",
    "\n",
    "have_batch = 'No batch'"
   ]
  },
  {
   "cell_type": "markdown",
   "metadata": {},
   "source": [
    "##### ```4.2 Network này Thường được sử dụng với Optimizer là Gradient Descent . Batch Gradient Descent .``` "
   ]
  },
  {
   "cell_type": "code",
   "execution_count": 222,
   "metadata": {},
   "outputs": [],
   "source": [
    "# class Network:\n",
    "#   def __init__(self):\n",
    "#     self.layers = []\n",
    "#     self.loss = None\n",
    "#     self.loss_prime = None\n",
    "\n",
    "#   def add(self, layer):\n",
    "#     self.layers.append(layer)\n",
    "\n",
    "#   def setup_loss(self, loss, loss_prime):\n",
    "#     self.loss = loss\n",
    "#     self.loss_prime = loss_prime\n",
    "\n",
    "#   def predict(self, input):\n",
    "#     result = []\n",
    "#     n = len(input)\n",
    "#     for i in range(n):\n",
    "#       output = input[i]\n",
    "#       for layer in self.layers:\n",
    "#         output = layer.forward_propagation(output)\n",
    "#       result.append(output)\n",
    "#     return result\n",
    "\n",
    "#   def accuracy(self, x_test, y_test):\n",
    "#     predictions = self.predict(x_test)\n",
    "#     correct = 0\n",
    "#     total = len(y_test)\n",
    "#     for prediction, true_value in zip(predictions, y_test):\n",
    "#         if np.round(prediction) == true_value:\n",
    "#             correct += 1\n",
    "#     accuracy = correct / total\n",
    "#     return accuracy\n",
    "\n",
    "#   def fit(self, x_train, y_train, losses_train = any, learning_rate = any, epochs = any, batch_size=1):\n",
    "#     n = len(x_train)\n",
    "#     for i in range(epochs):\n",
    "#       err = 0\n",
    "#       indices = np.arange(n)\n",
    "#       np.random.shuffle(indices)\n",
    "#       for j in range(0, n, batch_size):\n",
    "#         batch_indices = indices[j:min(j+batch_size, n)]\n",
    "#         batch_x = x_train[batch_indices]\n",
    "#         batch_y = y_train[batch_indices]\n",
    "#         batch_err = 0\n",
    "#         for k in range(len(batch_x)):\n",
    "#           output = batch_x[k]\n",
    "#           for layer in self.layers:\n",
    "#             output = layer.forward_propagation(output)\n",
    "#           batch_err += self.loss(batch_y[k], output)\n",
    "#           error = self.loss_prime(batch_y[k], output)\n",
    "#           for layer in reversed(self.layers):\n",
    "#             error = layer.backward_propagation(error, learning_rate)\n",
    "#         err += batch_err / len(batch_x)\n",
    "#       err /= (n // batch_size)\n",
    "#       losses_train.append(err[0][0])\n",
    "#       if i % 50 == 0: print('epoch : %d/%d  err = %f'%(i, epochs, err)) \n",
    "  \n",
    "# have_batch = 'have batch'"
   ]
  },
  {
   "cell_type": "markdown",
   "metadata": {},
   "source": [
    "#### CHUẨN BỊ DỮ LIỆU Train, Test  \n"
   ]
  },
  {
   "cell_type": "code",
   "execution_count": 223,
   "metadata": {},
   "outputs": [],
   "source": [
    "df = pd.read_csv('data_logistic.csv')\n",
    "data = df.to_numpy()\n",
    "X = data[:, :-1]  # Lấy tất cả các cột trừ cột cuối cùng là output\n",
    "y = data[:, -1].reshape(-1, 1)\n",
    "X_train, X_test, y_train, y_test = train_test_split(X, y, test_size=0.3, random_state=42)\n",
    "\n",
    "# X_train.shape = (70,2)\n",
    "# y_train.shape = (70,1)\n",
    "x_train = np.reshape(X_train, (X_train.shape[0], 1, X_train.shape[1]))\n",
    "y_train = np.reshape(y_train, (y_train.shape[0], 1, y_train.shape[1]))\n",
    "# x_train.shape = (70,1,2)\n",
    "# y_train.shape = (70,1,1)\n",
    "X_test = np.reshape(X_test, (X_test.shape[0], 1, X_test.shape[1]))\n",
    "y_test = np.reshape(y_test, (y_test.shape[0], 1, y_test.shape[1]))"
   ]
  },
  {
   "cell_type": "markdown",
   "metadata": {},
   "source": [
    "#### 5. CẤU HÌNH DỰ ĐOÁN DỰA TRÊN NEURAL NETWORK (Activation function & Loss function) ```Giữ nguyên```"
   ]
  },
  {
   "cell_type": "code",
   "execution_count": 224,
   "metadata": {},
   "outputs": [],
   "source": [
    "# Activation function \n",
    "## 1.1 : Relu \n",
    "def relu(z): \n",
    "    return np.maximum(0, z) \n",
    " \n",
    "def relu_prime(z): \n",
    "    z[z<0]=0 \n",
    "    z[z>0]=1 \n",
    "    return z \n",
    "\n",
    "## 1.2 : Sigmoid \n",
    "def sigmoid(z):\n",
    "    return 1 / (1 + np.exp(-z))\n",
    "\n",
    "def sigmoid_prime(z):\n",
    "    return sigmoid(z) * (1 - sigmoid(z))\n",
    "\n",
    "\n",
    "# ---------------------------------------------------------\n",
    "\n",
    "# Loss function \n",
    "## 2.1 : MSE\n",
    "def mse(y_true, y_pred): \n",
    "    return 0.5*(y_pred-y_true)**2 \n",
    "\n",
    "def mse_prime(y_true, y_pred): \n",
    "    return y_pred-y_true \n",
    "\n",
    "## 2.2 : Log Loss\n",
    "def log_loss(y_true, y_pred):\n",
    "    epsilon = 1e-15\n",
    "    y_pred = np.clip(y_pred, epsilon, 1 - epsilon)  # Tránh trường hợp log(0)\n",
    "    return - (y_true * np.log(y_pred) + (1 - y_true) * np.log(1 - y_pred))\n",
    "\n",
    "def log_loss_prime(y_true, y_pred):\n",
    "    epsilon = 1e-15\n",
    "    y_pred = np.clip(y_pred, epsilon, 1 - epsilon)  # Tránh trường hợp log(0)\n",
    "    return (y_pred - y_true) / (y_pred * (1 - y_pred))"
   ]
  },
  {
   "cell_type": "markdown",
   "metadata": {},
   "source": [
    "#### Relu + MSE"
   ]
  },
  {
   "cell_type": "code",
   "execution_count": 225,
   "metadata": {},
   "outputs": [
    {
     "name": "stderr",
     "output_type": "stream",
     "text": [
      "C:\\Users\\ADMIN\\AppData\\Local\\Temp\\ipykernel_17052\\2285376718.py:59: DeprecationWarning: Conversion of an array with ndim > 0 to a scalar is deprecated, and will error in future. Ensure you extract a single element from your array before performing this operation. (Deprecated NumPy 1.25.)\n",
      "  if i % 50 == 0: print('epoch : %d/%d  err = %f'%(i, epochs, err))\n"
     ]
    },
    {
     "name": "stdout",
     "output_type": "stream",
     "text": [
      "epoch : 0/1000  err = 0.283147\n",
      "epoch : 50/1000  err = 0.285714\n"
     ]
    },
    {
     "name": "stdout",
     "output_type": "stream",
     "text": [
      "epoch : 100/1000  err = 0.285714\n",
      "epoch : 150/1000  err = 0.285714\n",
      "epoch : 200/1000  err = 0.285714\n",
      "epoch : 250/1000  err = 0.285714\n",
      "epoch : 300/1000  err = 0.285714\n",
      "epoch : 350/1000  err = 0.285714\n",
      "epoch : 400/1000  err = 0.285714\n",
      "epoch : 450/1000  err = 0.285714\n",
      "epoch : 500/1000  err = 0.285714\n",
      "epoch : 550/1000  err = 0.285714\n",
      "epoch : 600/1000  err = 0.285714\n",
      "epoch : 650/1000  err = 0.285714\n",
      "epoch : 700/1000  err = 0.285714\n",
      "epoch : 750/1000  err = 0.285714\n",
      "epoch : 800/1000  err = 0.285714\n",
      "epoch : 850/1000  err = 0.285714\n",
      "epoch : 900/1000  err = 0.285714\n",
      "epoch : 950/1000  err = 0.285714\n",
      "Độ chính xác trên tập test:\n",
      "0.5\n",
      "Kết quả dự đoán theo đặc trưng [4, 9]:\n",
      "0\n"
     ]
    },
    {
     "data": {
      "image/png": "[encoded data removed]",
      "text/plain": [
       "<Figure size 640x480 with 1 Axes>"
      ]
     },
     "metadata": {},
     "output_type": "display_data"
    }
   ],
   "source": [
    "# START \n",
    "# Khởi tạo mạng Neural Network \n",
    "net = Network() \n",
    "net.add(FCLayer((1, 2), (1, 3))) \n",
    "net.add(ActivationLayer((1, 3), (1, 3), relu, relu_prime)) \n",
    "net.add(FCLayer((1, 3), (1, 1))) \n",
    "net.add(ActivationLayer((1, 1), (1, 1), relu, relu_prime)) \n",
    "net.setup_loss(mse, mse) \n",
    "\n",
    "# Huấn luyện mô hình \n",
    "losses_train = []\n",
    "net.fit(x_train, y_train, losses_train, epochs=1000, learning_rate=0.05) \n",
    "\n",
    "print(\"Độ chính xác trên tập test:\")\n",
    "accuracy = net.accuracy(X_test, y_test)\n",
    "print(accuracy)\n",
    "\n",
    "print(\"Kết quả dự đoán theo đặc trưng [4, 9]:\")\n",
    "out = net.predict([[4, 9]])\n",
    "print(1) if out[0][0][0] >= 0.5 else print(0)\n",
    "\n",
    "# Vẽ biểu đồ hàm loss function qua các epoch\n",
    "plt.plot(losses_train)\n",
    "plt.xlabel('Epoch')\n",
    "plt.ylabel('Loss')\n",
    "plt.title(name_optimizer +' '+ have_batch + ' + Relu + MSE')\n",
    "plt.show()"
   ]
  },
  {
   "cell_type": "markdown",
   "metadata": {},
   "source": [
    "#### Sigmoid + Log loss "
   ]
  },
  {
   "cell_type": "code",
   "execution_count": 226,
   "metadata": {},
   "outputs": [
    {
     "name": "stdout",
     "output_type": "stream",
     "text": [
      "epoch : 0/2000  err = 0.695961\n"
     ]
    },
    {
     "name": "stderr",
     "output_type": "stream",
     "text": [
      "C:\\Users\\ADMIN\\AppData\\Local\\Temp\\ipykernel_17052\\2285376718.py:59: DeprecationWarning: Conversion of an array with ndim > 0 to a scalar is deprecated, and will error in future. Ensure you extract a single element from your array before performing this operation. (Deprecated NumPy 1.25.)\n",
      "  if i % 50 == 0: print('epoch : %d/%d  err = %f'%(i, epochs, err))\n"
     ]
    },
    {
     "name": "stdout",
     "output_type": "stream",
     "text": [
      "epoch : 50/2000  err = 0.391402\n",
      "epoch : 100/2000  err = 0.320498\n",
      "epoch : 150/2000  err = 0.295195\n",
      "epoch : 200/2000  err = 0.283723\n",
      "epoch : 250/2000  err = 0.277758\n",
      "epoch : 300/2000  err = 0.274427\n",
      "epoch : 350/2000  err = 0.272505\n",
      "epoch : 400/2000  err = 0.271389\n",
      "epoch : 450/2000  err = 0.270749\n",
      "epoch : 500/2000  err = 0.270389\n",
      "epoch : 550/2000  err = 0.270186\n",
      "epoch : 600/2000  err = 0.270055\n",
      "epoch : 650/2000  err = 0.269932\n",
      "epoch : 700/2000  err = 0.269768\n",
      "epoch : 750/2000  err = 0.269520\n",
      "epoch : 800/2000  err = 0.269156\n",
      "epoch : 850/2000  err = 0.268665\n",
      "epoch : 900/2000  err = 0.268064\n",
      "epoch : 950/2000  err = 0.267402\n",
      "epoch : 1000/2000  err = 0.266745\n",
      "epoch : 1050/2000  err = 0.266151\n",
      "epoch : 1100/2000  err = 0.265653\n",
      "epoch : 1150/2000  err = 0.265257\n",
      "epoch : 1200/2000  err = 0.264950\n",
      "epoch : 1250/2000  err = 0.264714\n",
      "epoch : 1300/2000  err = 0.264532\n",
      "epoch : 1350/2000  err = 0.264389\n",
      "epoch : 1400/2000  err = 0.264274\n",
      "epoch : 1450/2000  err = 0.264180\n",
      "epoch : 1500/2000  err = 0.264099\n",
      "epoch : 1550/2000  err = 0.264028\n",
      "epoch : 1600/2000  err = 0.263963\n",
      "epoch : 1650/2000  err = 0.263903\n",
      "epoch : 1700/2000  err = 0.263845\n",
      "epoch : 1750/2000  err = 0.263788\n",
      "epoch : 1800/2000  err = 0.263732\n",
      "epoch : 1850/2000  err = 0.263676\n",
      "epoch : 1900/2000  err = 0.263618\n",
      "epoch : 1950/2000  err = 0.263559\n",
      "Độ chính xác trên tập test:\n",
      "0.9666666666666667\n",
      "Kết quả dự đoán theo đặc trưng [4, 9]:\n",
      "1\n"
     ]
    },
    {
     "data": {
      "image/png": "[encoded data removed]",
      "text/plain": [
       "<Figure size 640x480 with 1 Axes>"
      ]
     },
     "metadata": {},
     "output_type": "display_data"
    }
   ],
   "source": [
    "# START \n",
    "# Khởi tạo mạng Neural Network \n",
    "net = Network() \n",
    "net.add(FCLayer((1, 2), (1, 3))) \n",
    "net.add(ActivationLayer((1, 3), (1, 3), sigmoid, sigmoid_prime)) \n",
    "net.add(FCLayer((1, 3), (1, 1))) \n",
    "net.add(ActivationLayer((1, 1), (1, 1), sigmoid, sigmoid_prime)) \n",
    "net.setup_loss(log_loss, log_loss_prime) \n",
    "\n",
    "# Huấn luyện mô hình \n",
    "losses_train = []\n",
    "net.fit(x_train, y_train, losses_train, epochs=2000, learning_rate=0.06) \n",
    "\n",
    "print(\"Độ chính xác trên tập test:\")\n",
    "accuracy = net.accuracy(X_test, y_test)\n",
    "print(accuracy)\n",
    "\n",
    "print(\"Kết quả dự đoán theo đặc trưng [4, 9]:\")\n",
    "out = net.predict([[4, 9]])\n",
    "print(1) if out[0][0][0] >= 0.5 else print(0)\n",
    "\n",
    "# Vẽ biểu đồ hàm loss function qua các epoch\n",
    "plt.plot(losses_train)\n",
    "plt.xlabel('Epoch')\n",
    "plt.ylabel('Loss')\n",
    "plt.title(name_optimizer +' '+ have_batch + ' + Sigmoid + Log loss')\n",
    "plt.show()"
   ]
  },
  {
   "cell_type": "markdown",
   "metadata": {},
   "source": [
    "```\n",
    "<!-- Input Layer -->\n",
    "<!-- kết nối input và hidden  -->\n",
    "net.add(FCLayer((1, 2), (1, 3))) \n",
    "net.add(ActivationLayer((1, 3), (1, 3), relu, relu_prime)) \n",
    "<!-- Hidden Layer -->\n",
    "<!-- Kết nối hidden và output -->\n",
    "net.add(FCLayer((1, 3), (1, 1))) \n",
    "net.add(ActivationLayer((1, 1), (1, 1), relu, relu_prime)) \n",
    "<!-- Output Layer -->\n",
    "```\n",
    "\n",
    "```\n",
    "Input X : 2 node đầu vào \n",
    "Hidden : 3 node \n",
    "Ouput : 1 node đầu ra \n",
    "```\n",
    "\n",
    "Giải thích \n",
    "1. `net.add(FCLayer((1, 2), (1, 3)))`: Trong layer đầu tiên, bạn có 2 đặc trưng đầu vào (x1 và x2), do đó input_shape là (1, 2). Sau đó, bạn muốn có 3 node ở layer tiếp theo, nên output_shape là (1, 3). Điều này đúng vì layer fully connected sẽ có ma trận trọng số kích thước (2, 3) để kết nối từ 2 đặc trưng đầu vào đến 3 node ở layer tiếp theo.\n",
    "\n",
    "2. `net.add(ActivationLayer((1, 3), (1, 3), relu, relu_prime))`: Đầu ra từ layer trước là 3 node (z1), sau đó qua hàm activation (relu) để tạo ra 3 node mới (a1) là đầu vào cho layer tiếp theo. Do đó, input_shape và output_shape của ActivationLayer đều là (1, 3).\n",
    "\n",
    "3. `net.add(FCLayer((1, 3), (1, 1)))`: Với layer fully connected tiếp theo, bạn có 3 đầu vào từ layer trước (a1), do đó input_shape là (1, 3). Và vì bạn chỉ muốn có 1 node ở layer đầu ra, nên output_shape là (1, 1).\n",
    "\n",
    "4. `net.add(ActivationLayer((1, 1), (1, 1), relu, relu_prime))`: Tương tự, output từ layer trước (z2) qua hàm activation để tạo ra giá trị dự đoán (a2). Và vì bạn chỉ có 1 giá trị dự đoán (y), nên input_shape và output_shape của ActivationLayer này đều là (1, 1).\n",
    "\n",
    "Với cách bạn khai báo, các fully connected layers kết nối đúng giữa các layer và số lượng node đầu ra của layer trước sẽ là số lượng node đầu vào của layer sau, điều này phản ánh đúng cách thức hoạt động của một mạng neural network."
   ]
  }
 ],
 "metadata": {
  "kernelspec": {
   "display_name": "Python 3",
   "language": "python",
   "name": "python3"
  },
  "language_info": {
   "codemirror_mode": {
    "name": "ipython",
    "version": 3
   },
   "file_extension": ".py",
   "mimetype": "text/x-python",
   "name": "python",
   "nbconvert_exporter": "python",
   "pygments_lexer": "ipython3",
   "version": "3.10.6"
  }
 },
 "nbformat": 4,
 "nbformat_minor": 2
}
