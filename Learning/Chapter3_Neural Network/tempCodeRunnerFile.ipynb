df = pd.read_csv('data_logistic.csv')
print(df.shape)