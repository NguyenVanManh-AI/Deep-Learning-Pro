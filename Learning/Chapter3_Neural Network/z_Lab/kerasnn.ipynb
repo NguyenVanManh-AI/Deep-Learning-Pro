{
 "cells": [
  {
   "cell_type": "code",
   "execution_count": 258,
   "id": "bac20bef",
   "metadata": {
    "execution": {
     "iopub.execute_input": "2024-03-13T04:54:41.839341Z",
     "iopub.status.busy": "2024-03-13T04:54:41.838841Z",
     "iopub.status.idle": "2024-03-13T04:54:59.606860Z",
     "shell.execute_reply": "2024-03-13T04:54:59.605476Z"
    },
    "papermill": {
     "duration": 17.778579,
     "end_time": "2024-03-13T04:54:59.609813",
     "exception": false,
     "start_time": "2024-03-13T04:54:41.831234",
     "status": "completed"
    },
    "tags": []
   },
   "outputs": [],
   "source": [
    "import pandas as pd\n",
    "from sklearn.model_selection import train_test_split\n",
    "from tensorflow import keras\n",
    "from tensorflow.keras import layers\n",
    "\n",
    "hotel = pd.read_csv('./data_logistic.csv')\n",
    "X = hotel.copy()\n",
    "y = X.pop('c')\n",
    "\n",
    "X_train, X_valid, y_train, y_valid = train_test_split(X, y, stratify=y, train_size=0.7, random_state=10)\n",
    "input_shape = [X_train.shape[1]]"
   ]
  },
  {
   "cell_type": "markdown",
   "id": "f7cc499f",
   "metadata": {
    "papermill": {
     "duration": 0.0043,
     "end_time": "2024-03-13T04:54:59.619049",
     "exception": false,
     "start_time": "2024-03-13T04:54:59.614749",
     "status": "completed"
    },
    "tags": []
   },
   "source": [
    "# 1) Define Model #"
   ]
  },
  {
   "cell_type": "code",
   "execution_count": 259,
   "id": "2d94e9f7",
   "metadata": {
    "execution": {
     "iopub.execute_input": "2024-03-13T04:54:59.630370Z",
     "iopub.status.busy": "2024-03-13T04:54:59.629800Z",
     "iopub.status.idle": "2024-03-13T04:54:59.729889Z",
     "shell.execute_reply": "2024-03-13T04:54:59.728646Z"
    },
    "papermill": {
     "duration": 0.109628,
     "end_time": "2024-03-13T04:54:59.733137",
     "exception": false,
     "start_time": "2024-03-13T04:54:59.623509",
     "status": "completed"
    },
    "tags": []
   },
   "outputs": [
    {
     "name": "stderr",
     "output_type": "stream",
     "text": [
      "c:\\Users\\cuong\\AppData\\Local\\Programs\\Python\\Python310\\lib\\site-packages\\keras\\src\\layers\\core\\dense.py:85: UserWarning: Do not pass an `input_shape`/`input_dim` argument to a layer. When using Sequential models, prefer using an `Input(shape)` object as the first layer in the model instead.\n",
      "  super().__init__(activity_regularizer=activity_regularizer, **kwargs)\n"
     ]
    }
   ],
   "source": [
    "from tensorflow import keras\n",
    "from tensorflow.keras import layers\n",
    "\n",
    "model = keras.Sequential([\n",
    "    layers.Dense(4, activation='relu', input_shape=input_shape),\n",
    "    # layers.Dropout(0.3),\n",
    "    # layers.BatchNormalization(),\n",
    "    layers.Dense(3, activation='relu'),    \n",
    "    # layers.Dropout(0.3),\n",
    "    # layers.BatchNormalization(),\n",
    "    layers.Dense(1, activation='sigmoid'),\n",
    "])"
   ]
  },
  {
   "cell_type": "markdown",
   "id": "d2ab9071",
   "metadata": {
    "papermill": {
     "duration": 0.004577,
     "end_time": "2024-03-13T04:54:59.742979",
     "exception": false,
     "start_time": "2024-03-13T04:54:59.738402",
     "status": "completed"
    },
    "tags": []
   },
   "source": [
    "# 2) Add Optimizer, Loss, and Metric #"
   ]
  },
  {
   "cell_type": "code",
   "execution_count": 260,
   "id": "e3ce6ffc",
   "metadata": {
    "execution": {
     "iopub.execute_input": "2024-03-13T04:54:59.754930Z",
     "iopub.status.busy": "2024-03-13T04:54:59.754419Z",
     "iopub.status.idle": "2024-03-13T04:54:59.771525Z",
     "shell.execute_reply": "2024-03-13T04:54:59.770205Z"
    },
    "papermill": {
     "duration": 0.026266,
     "end_time": "2024-03-13T04:54:59.774111",
     "exception": false,
     "start_time": "2024-03-13T04:54:59.747845",
     "status": "completed"
    },
    "tags": []
   },
   "outputs": [],
   "source": [
    "model.compile(\n",
    "    optimizer='adam',\n",
    "    loss='binary_crossentropy',\n",
    "    metrics=['binary_accuracy'],   \n",
    ")"
   ]
  },
  {
   "cell_type": "code",
   "execution_count": 261,
   "id": "c82ba32b",
   "metadata": {
    "execution": {
     "iopub.execute_input": "2024-03-13T04:54:59.786981Z",
     "iopub.status.busy": "2024-03-13T04:54:59.785380Z",
     "iopub.status.idle": "2024-03-13T04:55:51.141612Z",
     "shell.execute_reply": "2024-03-13T04:55:51.140175Z"
    },
    "papermill": {
     "duration": 51.365665,
     "end_time": "2024-03-13T04:55:51.144845",
     "exception": false,
     "start_time": "2024-03-13T04:54:59.779180",
     "status": "completed"
    },
    "tags": []
   },
   "outputs": [
    {
     "name": "stdout",
     "output_type": "stream",
     "text": [
      "Epoch 1/1000\n",
      "\u001b[1m70/70\u001b[0m \u001b[32m━━━━━━━━━━━━━━━━━━━━\u001b[0m\u001b[37m\u001b[0m \u001b[1m2s\u001b[0m 6ms/step - binary_accuracy: 0.6412 - loss: 0.5931 - val_binary_accuracy: 0.7333 - val_loss: 0.5563\n",
      "Epoch 2/1000\n",
      "\u001b[1m70/70\u001b[0m \u001b[32m━━━━━━━━━━━━━━━━━━━━\u001b[0m\u001b[37m\u001b[0m \u001b[1m0s\u001b[0m 3ms/step - binary_accuracy: 0.6453 - loss: 0.5972 - val_binary_accuracy: 0.7000 - val_loss: 0.5602\n",
      "Epoch 3/1000\n",
      "\u001b[1m70/70\u001b[0m \u001b[32m━━━━━━━━━━━━━━━━━━━━\u001b[0m\u001b[37m\u001b[0m \u001b[1m0s\u001b[0m 3ms/step - binary_accuracy: 0.6508 - loss: 0.5790 - val_binary_accuracy: 0.7333 - val_loss: 0.5632\n",
      "Epoch 4/1000\n",
      "\u001b[1m70/70\u001b[0m \u001b[32m━━━━━━━━━━━━━━━━━━━━\u001b[0m\u001b[37m\u001b[0m \u001b[1m0s\u001b[0m 3ms/step - binary_accuracy: 0.5910 - loss: 0.6303 - val_binary_accuracy: 0.7333 - val_loss: 0.5628\n",
      "Epoch 5/1000\n",
      "\u001b[1m70/70\u001b[0m \u001b[32m━━━━━━━━━━━━━━━━━━━━\u001b[0m\u001b[37m\u001b[0m \u001b[1m0s\u001b[0m 3ms/step - binary_accuracy: 0.7073 - loss: 0.5216 - val_binary_accuracy: 0.7333 - val_loss: 0.5566\n",
      "Epoch 6/1000\n",
      "\u001b[1m70/70\u001b[0m \u001b[32m━━━━━━━━━━━━━━━━━━━━\u001b[0m\u001b[37m\u001b[0m \u001b[1m0s\u001b[0m 3ms/step - binary_accuracy: 0.5958 - loss: 0.5943 - val_binary_accuracy: 0.7333 - val_loss: 0.5574\n",
      "Epoch 7/1000\n",
      "\u001b[1m70/70\u001b[0m \u001b[32m━━━━━━━━━━━━━━━━━━━━\u001b[0m\u001b[37m\u001b[0m \u001b[1m0s\u001b[0m 3ms/step - binary_accuracy: 0.6843 - loss: 0.5682 - val_binary_accuracy: 0.7333 - val_loss: 0.5524\n",
      "Epoch 8/1000\n",
      "\u001b[1m70/70\u001b[0m \u001b[32m━━━━━━━━━━━━━━━━━━━━\u001b[0m\u001b[37m\u001b[0m \u001b[1m0s\u001b[0m 4ms/step - binary_accuracy: 0.6529 - loss: 0.5586 - val_binary_accuracy: 0.7667 - val_loss: 0.5595\n",
      "Epoch 9/1000\n",
      "\u001b[1m70/70\u001b[0m \u001b[32m━━━━━━━━━━━━━━━━━━━━\u001b[0m\u001b[37m\u001b[0m \u001b[1m0s\u001b[0m 3ms/step - binary_accuracy: 0.6580 - loss: 0.5717 - val_binary_accuracy: 0.7667 - val_loss: 0.5654\n",
      "Epoch 10/1000\n",
      "\u001b[1m70/70\u001b[0m \u001b[32m━━━━━━━━━━━━━━━━━━━━\u001b[0m\u001b[37m\u001b[0m \u001b[1m0s\u001b[0m 3ms/step - binary_accuracy: 0.6886 - loss: 0.5517 - val_binary_accuracy: 0.7667 - val_loss: 0.5586\n",
      "Epoch 11/1000\n",
      "\u001b[1m70/70\u001b[0m \u001b[32m━━━━━━━━━━━━━━━━━━━━\u001b[0m\u001b[37m\u001b[0m \u001b[1m0s\u001b[0m 3ms/step - binary_accuracy: 0.6554 - loss: 0.5905 - val_binary_accuracy: 0.7333 - val_loss: 0.5567\n",
      "Epoch 12/1000\n",
      "\u001b[1m70/70\u001b[0m \u001b[32m━━━━━━━━━━━━━━━━━━━━\u001b[0m\u001b[37m\u001b[0m \u001b[1m0s\u001b[0m 3ms/step - binary_accuracy: 0.6581 - loss: 0.5388 - val_binary_accuracy: 0.7667 - val_loss: 0.5499\n",
      "Epoch 13/1000\n",
      "\u001b[1m70/70\u001b[0m \u001b[32m━━━━━━━━━━━━━━━━━━━━\u001b[0m\u001b[37m\u001b[0m \u001b[1m0s\u001b[0m 3ms/step - binary_accuracy: 0.8110 - loss: 0.4445 - val_binary_accuracy: 0.7333 - val_loss: 0.5640\n",
      "Epoch 14/1000\n",
      "\u001b[1m70/70\u001b[0m \u001b[32m━━━━━━━━━━━━━━━━━━━━\u001b[0m\u001b[37m\u001b[0m \u001b[1m0s\u001b[0m 3ms/step - binary_accuracy: 0.7225 - loss: 0.5260 - val_binary_accuracy: 0.7333 - val_loss: 0.5438\n",
      "Epoch 15/1000\n",
      "\u001b[1m70/70\u001b[0m \u001b[32m━━━━━━━━━━━━━━━━━━━━\u001b[0m\u001b[37m\u001b[0m \u001b[1m0s\u001b[0m 3ms/step - binary_accuracy: 0.6029 - loss: 0.6417 - val_binary_accuracy: 0.7333 - val_loss: 0.5407\n",
      "Epoch 16/1000\n",
      "\u001b[1m70/70\u001b[0m \u001b[32m━━━━━━━━━━━━━━━━━━━━\u001b[0m\u001b[37m\u001b[0m \u001b[1m0s\u001b[0m 3ms/step - binary_accuracy: 0.6968 - loss: 0.4958 - val_binary_accuracy: 0.7333 - val_loss: 0.5369\n",
      "Epoch 17/1000\n",
      "\u001b[1m70/70\u001b[0m \u001b[32m━━━━━━━━━━━━━━━━━━━━\u001b[0m\u001b[37m\u001b[0m \u001b[1m0s\u001b[0m 3ms/step - binary_accuracy: 0.6845 - loss: 0.5442 - val_binary_accuracy: 0.7667 - val_loss: 0.5257\n",
      "Epoch 18/1000\n",
      "\u001b[1m70/70\u001b[0m \u001b[32m━━━━━━━━━━━━━━━━━━━━\u001b[0m\u001b[37m\u001b[0m \u001b[1m0s\u001b[0m 3ms/step - binary_accuracy: 0.6865 - loss: 0.5714 - val_binary_accuracy: 0.7667 - val_loss: 0.5231\n",
      "Epoch 19/1000\n",
      "\u001b[1m70/70\u001b[0m \u001b[32m━━━━━━━━━━━━━━━━━━━━\u001b[0m\u001b[37m\u001b[0m \u001b[1m0s\u001b[0m 3ms/step - binary_accuracy: 0.7365 - loss: 0.5306 - val_binary_accuracy: 0.7667 - val_loss: 0.5247\n",
      "Epoch 20/1000\n",
      "\u001b[1m70/70\u001b[0m \u001b[32m━━━━━━━━━━━━━━━━━━━━\u001b[0m\u001b[37m\u001b[0m \u001b[1m0s\u001b[0m 3ms/step - binary_accuracy: 0.7170 - loss: 0.5557 - val_binary_accuracy: 0.7667 - val_loss: 0.5205\n",
      "Epoch 21/1000\n",
      "\u001b[1m70/70\u001b[0m \u001b[32m━━━━━━━━━━━━━━━━━━━━\u001b[0m\u001b[37m\u001b[0m \u001b[1m0s\u001b[0m 3ms/step - binary_accuracy: 0.7050 - loss: 0.5149 - val_binary_accuracy: 0.7667 - val_loss: 0.5185\n",
      "Epoch 22/1000\n",
      "\u001b[1m70/70\u001b[0m \u001b[32m━━━━━━━━━━━━━━━━━━━━\u001b[0m\u001b[37m\u001b[0m \u001b[1m0s\u001b[0m 3ms/step - binary_accuracy: 0.7530 - loss: 0.4932 - val_binary_accuracy: 0.7333 - val_loss: 0.5200\n",
      "Epoch 23/1000\n",
      "\u001b[1m70/70\u001b[0m \u001b[32m━━━━━━━━━━━━━━━━━━━━\u001b[0m\u001b[37m\u001b[0m \u001b[1m0s\u001b[0m 3ms/step - binary_accuracy: 0.6832 - loss: 0.5530 - val_binary_accuracy: 0.8000 - val_loss: 0.5113\n",
      "Epoch 24/1000\n",
      "\u001b[1m70/70\u001b[0m \u001b[32m━━━━━━━━━━━━━━━━━━━━\u001b[0m\u001b[37m\u001b[0m \u001b[1m0s\u001b[0m 3ms/step - binary_accuracy: 0.7352 - loss: 0.4681 - val_binary_accuracy: 0.8000 - val_loss: 0.5031\n",
      "Epoch 25/1000\n",
      "\u001b[1m70/70\u001b[0m \u001b[32m━━━━━━━━━━━━━━━━━━━━\u001b[0m\u001b[37m\u001b[0m \u001b[1m0s\u001b[0m 3ms/step - binary_accuracy: 0.7004 - loss: 0.5431 - val_binary_accuracy: 0.8000 - val_loss: 0.4999\n",
      "Epoch 26/1000\n",
      "\u001b[1m70/70\u001b[0m \u001b[32m━━━━━━━━━━━━━━━━━━━━\u001b[0m\u001b[37m\u001b[0m \u001b[1m0s\u001b[0m 3ms/step - binary_accuracy: 0.6808 - loss: 0.5510 - val_binary_accuracy: 0.8000 - val_loss: 0.4932\n",
      "Epoch 27/1000\n",
      "\u001b[1m70/70\u001b[0m \u001b[32m━━━━━━━━━━━━━━━━━━━━\u001b[0m\u001b[37m\u001b[0m \u001b[1m0s\u001b[0m 3ms/step - binary_accuracy: 0.6469 - loss: 0.5520 - val_binary_accuracy: 0.8000 - val_loss: 0.4970\n",
      "Epoch 28/1000\n",
      "\u001b[1m70/70\u001b[0m \u001b[32m━━━━━━━━━━━━━━━━━━━━\u001b[0m\u001b[37m\u001b[0m \u001b[1m0s\u001b[0m 3ms/step - binary_accuracy: 0.7161 - loss: 0.4787 - val_binary_accuracy: 0.8000 - val_loss: 0.4910\n",
      "Epoch 29/1000\n",
      "\u001b[1m70/70\u001b[0m \u001b[32m━━━━━━━━━━━━━━━━━━━━\u001b[0m\u001b[37m\u001b[0m \u001b[1m0s\u001b[0m 3ms/step - binary_accuracy: 0.6489 - loss: 0.5270 - val_binary_accuracy: 0.8000 - val_loss: 0.4844\n",
      "Epoch 30/1000\n",
      "\u001b[1m70/70\u001b[0m \u001b[32m━━━━━━━━━━━━━━━━━━━━\u001b[0m\u001b[37m\u001b[0m \u001b[1m0s\u001b[0m 3ms/step - binary_accuracy: 0.6170 - loss: 0.5594 - val_binary_accuracy: 0.8000 - val_loss: 0.4837\n",
      "Epoch 31/1000\n",
      "\u001b[1m70/70\u001b[0m \u001b[32m━━━━━━━━━━━━━━━━━━━━\u001b[0m\u001b[37m\u001b[0m \u001b[1m0s\u001b[0m 3ms/step - binary_accuracy: 0.6312 - loss: 0.5503 - val_binary_accuracy: 0.8000 - val_loss: 0.4806\n",
      "Epoch 32/1000\n",
      "\u001b[1m70/70\u001b[0m \u001b[32m━━━━━━━━━━━━━━━━━━━━\u001b[0m\u001b[37m\u001b[0m \u001b[1m0s\u001b[0m 3ms/step - binary_accuracy: 0.6527 - loss: 0.5941 - val_binary_accuracy: 0.8000 - val_loss: 0.4709\n",
      "Epoch 33/1000\n",
      "\u001b[1m70/70\u001b[0m \u001b[32m━━━━━━━━━━━━━━━━━━━━\u001b[0m\u001b[37m\u001b[0m \u001b[1m0s\u001b[0m 3ms/step - binary_accuracy: 0.6741 - loss: 0.5324 - val_binary_accuracy: 0.8000 - val_loss: 0.4712\n",
      "Epoch 34/1000\n",
      "\u001b[1m70/70\u001b[0m \u001b[32m━━━━━━━━━━━━━━━━━━━━\u001b[0m\u001b[37m\u001b[0m \u001b[1m0s\u001b[0m 3ms/step - binary_accuracy: 0.7058 - loss: 0.4954 - val_binary_accuracy: 0.8000 - val_loss: 0.4656\n",
      "Epoch 35/1000\n",
      "\u001b[1m70/70\u001b[0m \u001b[32m━━━━━━━━━━━━━━━━━━━━\u001b[0m\u001b[37m\u001b[0m \u001b[1m0s\u001b[0m 3ms/step - binary_accuracy: 0.7157 - loss: 0.5221 - val_binary_accuracy: 0.8000 - val_loss: 0.4646\n",
      "Epoch 36/1000\n",
      "\u001b[1m70/70\u001b[0m \u001b[32m━━━━━━━━━━━━━━━━━━━━\u001b[0m\u001b[37m\u001b[0m \u001b[1m0s\u001b[0m 3ms/step - binary_accuracy: 0.6928 - loss: 0.5602 - val_binary_accuracy: 0.8667 - val_loss: 0.4780\n",
      "Epoch 37/1000\n",
      "\u001b[1m70/70\u001b[0m \u001b[32m━━━━━━━━━━━━━━━━━━━━\u001b[0m\u001b[37m\u001b[0m \u001b[1m0s\u001b[0m 3ms/step - binary_accuracy: 0.6350 - loss: 0.5528 - val_binary_accuracy: 0.8000 - val_loss: 0.4608\n",
      "Epoch 38/1000\n",
      "\u001b[1m70/70\u001b[0m \u001b[32m━━━━━━━━━━━━━━━━━━━━\u001b[0m\u001b[37m\u001b[0m \u001b[1m0s\u001b[0m 3ms/step - binary_accuracy: 0.7749 - loss: 0.4557 - val_binary_accuracy: 0.8333 - val_loss: 0.4624\n",
      "Epoch 39/1000\n",
      "\u001b[1m70/70\u001b[0m \u001b[32m━━━━━━━━━━━━━━━━━━━━\u001b[0m\u001b[37m\u001b[0m \u001b[1m0s\u001b[0m 3ms/step - binary_accuracy: 0.7416 - loss: 0.4606 - val_binary_accuracy: 0.8333 - val_loss: 0.4546\n",
      "Epoch 40/1000\n",
      "\u001b[1m70/70\u001b[0m \u001b[32m━━━━━━━━━━━━━━━━━━━━\u001b[0m\u001b[37m\u001b[0m \u001b[1m0s\u001b[0m 4ms/step - binary_accuracy: 0.7677 - loss: 0.4621 - val_binary_accuracy: 0.8333 - val_loss: 0.4506\n",
      "Epoch 41/1000\n",
      "\u001b[1m70/70\u001b[0m \u001b[32m━━━━━━━━━━━━━━━━━━━━\u001b[0m\u001b[37m\u001b[0m \u001b[1m0s\u001b[0m 3ms/step - binary_accuracy: 0.6680 - loss: 0.5465 - val_binary_accuracy: 0.8333 - val_loss: 0.4442\n",
      "Epoch 42/1000\n",
      "\u001b[1m70/70\u001b[0m \u001b[32m━━━━━━━━━━━━━━━━━━━━\u001b[0m\u001b[37m\u001b[0m \u001b[1m0s\u001b[0m 3ms/step - binary_accuracy: 0.8358 - loss: 0.4142 - val_binary_accuracy: 0.8333 - val_loss: 0.4422\n",
      "Epoch 43/1000\n",
      "\u001b[1m70/70\u001b[0m \u001b[32m━━━━━━━━━━━━━━━━━━━━\u001b[0m\u001b[37m\u001b[0m \u001b[1m0s\u001b[0m 3ms/step - binary_accuracy: 0.7086 - loss: 0.5163 - val_binary_accuracy: 0.8333 - val_loss: 0.4420\n",
      "Epoch 44/1000\n",
      "\u001b[1m70/70\u001b[0m \u001b[32m━━━━━━━━━━━━━━━━━━━━\u001b[0m\u001b[37m\u001b[0m \u001b[1m0s\u001b[0m 3ms/step - binary_accuracy: 0.7144 - loss: 0.5267 - val_binary_accuracy: 0.8333 - val_loss: 0.4346\n",
      "Epoch 45/1000\n",
      "\u001b[1m70/70\u001b[0m \u001b[32m━━━━━━━━━━━━━━━━━━━━\u001b[0m\u001b[37m\u001b[0m \u001b[1m0s\u001b[0m 3ms/step - binary_accuracy: 0.7430 - loss: 0.5090 - val_binary_accuracy: 0.8667 - val_loss: 0.4460\n",
      "Epoch 46/1000\n",
      "\u001b[1m70/70\u001b[0m \u001b[32m━━━━━━━━━━━━━━━━━━━━\u001b[0m\u001b[37m\u001b[0m \u001b[1m0s\u001b[0m 3ms/step - binary_accuracy: 0.7211 - loss: 0.4811 - val_binary_accuracy: 0.8333 - val_loss: 0.4303\n",
      "Epoch 47/1000\n",
      "\u001b[1m70/70\u001b[0m \u001b[32m━━━━━━━━━━━━━━━━━━━━\u001b[0m\u001b[37m\u001b[0m \u001b[1m0s\u001b[0m 3ms/step - binary_accuracy: 0.7112 - loss: 0.5007 - val_binary_accuracy: 0.8333 - val_loss: 0.4281\n",
      "Epoch 48/1000\n",
      "\u001b[1m70/70\u001b[0m \u001b[32m━━━━━━━━━━━━━━━━━━━━\u001b[0m\u001b[37m\u001b[0m \u001b[1m0s\u001b[0m 3ms/step - binary_accuracy: 0.8090 - loss: 0.3961 - val_binary_accuracy: 0.8667 - val_loss: 0.4304\n",
      "Epoch 49/1000\n",
      "\u001b[1m70/70\u001b[0m \u001b[32m━━━━━━━━━━━━━━━━━━━━\u001b[0m\u001b[37m\u001b[0m \u001b[1m0s\u001b[0m 3ms/step - binary_accuracy: 0.7502 - loss: 0.4586 - val_binary_accuracy: 0.8333 - val_loss: 0.4214\n",
      "Epoch 50/1000\n",
      "\u001b[1m70/70\u001b[0m \u001b[32m━━━━━━━━━━━━━━━━━━━━\u001b[0m\u001b[37m\u001b[0m \u001b[1m0s\u001b[0m 3ms/step - binary_accuracy: 0.7989 - loss: 0.4202 - val_binary_accuracy: 0.8667 - val_loss: 0.4215\n",
      "Epoch 51/1000\n",
      "\u001b[1m70/70\u001b[0m \u001b[32m━━━━━━━━━━━━━━━━━━━━\u001b[0m\u001b[37m\u001b[0m \u001b[1m0s\u001b[0m 3ms/step - binary_accuracy: 0.7686 - loss: 0.4362 - val_binary_accuracy: 0.8333 - val_loss: 0.4078\n",
      "Epoch 52/1000\n",
      "\u001b[1m70/70\u001b[0m \u001b[32m━━━━━━━━━━━━━━━━━━━━\u001b[0m\u001b[37m\u001b[0m \u001b[1m0s\u001b[0m 3ms/step - binary_accuracy: 0.7303 - loss: 0.4347 - val_binary_accuracy: 0.8333 - val_loss: 0.4083\n",
      "Epoch 53/1000\n",
      "\u001b[1m70/70\u001b[0m \u001b[32m━━━━━━━━━━━━━━━━━━━━\u001b[0m\u001b[37m\u001b[0m \u001b[1m0s\u001b[0m 3ms/step - binary_accuracy: 0.7385 - loss: 0.4677 - val_binary_accuracy: 0.8667 - val_loss: 0.4078\n",
      "Epoch 54/1000\n",
      "\u001b[1m70/70\u001b[0m \u001b[32m━━━━━━━━━━━━━━━━━━━━\u001b[0m\u001b[37m\u001b[0m \u001b[1m0s\u001b[0m 4ms/step - binary_accuracy: 0.8306 - loss: 0.3952 - val_binary_accuracy: 0.8667 - val_loss: 0.4095\n",
      "Epoch 55/1000\n",
      "\u001b[1m70/70\u001b[0m \u001b[32m━━━━━━━━━━━━━━━━━━━━\u001b[0m\u001b[37m\u001b[0m \u001b[1m0s\u001b[0m 4ms/step - binary_accuracy: 0.7725 - loss: 0.4862 - val_binary_accuracy: 0.8667 - val_loss: 0.4135\n",
      "Epoch 56/1000\n",
      "\u001b[1m70/70\u001b[0m \u001b[32m━━━━━━━━━━━━━━━━━━━━\u001b[0m\u001b[37m\u001b[0m \u001b[1m0s\u001b[0m 4ms/step - binary_accuracy: 0.7373 - loss: 0.4836 - val_binary_accuracy: 0.8667 - val_loss: 0.4099\n",
      "Epoch 57/1000\n",
      "\u001b[1m70/70\u001b[0m \u001b[32m━━━━━━━━━━━━━━━━━━━━\u001b[0m\u001b[37m\u001b[0m \u001b[1m0s\u001b[0m 3ms/step - binary_accuracy: 0.8164 - loss: 0.3932 - val_binary_accuracy: 0.8667 - val_loss: 0.3992\n",
      "Epoch 58/1000\n",
      "\u001b[1m70/70\u001b[0m \u001b[32m━━━━━━━━━━━━━━━━━━━━\u001b[0m\u001b[37m\u001b[0m \u001b[1m0s\u001b[0m 3ms/step - binary_accuracy: 0.7896 - loss: 0.4464 - val_binary_accuracy: 0.8667 - val_loss: 0.4114\n",
      "Epoch 59/1000\n",
      "\u001b[1m70/70\u001b[0m \u001b[32m━━━━━━━━━━━━━━━━━━━━\u001b[0m\u001b[37m\u001b[0m \u001b[1m0s\u001b[0m 3ms/step - binary_accuracy: 0.8116 - loss: 0.3825 - val_binary_accuracy: 0.8667 - val_loss: 0.4017\n",
      "Epoch 60/1000\n",
      "\u001b[1m70/70\u001b[0m \u001b[32m━━━━━━━━━━━━━━━━━━━━\u001b[0m\u001b[37m\u001b[0m \u001b[1m0s\u001b[0m 5ms/step - binary_accuracy: 0.7003 - loss: 0.4939 - val_binary_accuracy: 0.8667 - val_loss: 0.3964\n",
      "Epoch 61/1000\n",
      "\u001b[1m70/70\u001b[0m \u001b[32m━━━━━━━━━━━━━━━━━━━━\u001b[0m\u001b[37m\u001b[0m \u001b[1m0s\u001b[0m 4ms/step - binary_accuracy: 0.8038 - loss: 0.4371 - val_binary_accuracy: 0.8667 - val_loss: 0.4014\n",
      "Epoch 62/1000\n",
      "\u001b[1m70/70\u001b[0m \u001b[32m━━━━━━━━━━━━━━━━━━━━\u001b[0m\u001b[37m\u001b[0m \u001b[1m1s\u001b[0m 3ms/step - binary_accuracy: 0.8200 - loss: 0.3658 - val_binary_accuracy: 0.8667 - val_loss: 0.3949\n",
      "Epoch 63/1000\n",
      "\u001b[1m70/70\u001b[0m \u001b[32m━━━━━━━━━━━━━━━━━━━━\u001b[0m\u001b[37m\u001b[0m \u001b[1m0s\u001b[0m 3ms/step - binary_accuracy: 0.6626 - loss: 0.4871 - val_binary_accuracy: 0.8667 - val_loss: 0.4027\n",
      "Epoch 64/1000\n",
      "\u001b[1m70/70\u001b[0m \u001b[32m━━━━━━━━━━━━━━━━━━━━\u001b[0m\u001b[37m\u001b[0m \u001b[1m0s\u001b[0m 3ms/step - binary_accuracy: 0.7396 - loss: 0.5142 - val_binary_accuracy: 0.8667 - val_loss: 0.3876\n",
      "Epoch 65/1000\n",
      "\u001b[1m70/70\u001b[0m \u001b[32m━━━━━━━━━━━━━━━━━━━━\u001b[0m\u001b[37m\u001b[0m \u001b[1m0s\u001b[0m 2ms/step - binary_accuracy: 0.7082 - loss: 0.4629 - val_binary_accuracy: 0.8667 - val_loss: 0.3758\n",
      "Epoch 66/1000\n",
      "\u001b[1m70/70\u001b[0m \u001b[32m━━━━━━━━━━━━━━━━━━━━\u001b[0m\u001b[37m\u001b[0m \u001b[1m0s\u001b[0m 3ms/step - binary_accuracy: 0.8477 - loss: 0.3889 - val_binary_accuracy: 0.8667 - val_loss: 0.3756\n",
      "Epoch 67/1000\n",
      "\u001b[1m70/70\u001b[0m \u001b[32m━━━━━━━━━━━━━━━━━━━━\u001b[0m\u001b[37m\u001b[0m \u001b[1m0s\u001b[0m 3ms/step - binary_accuracy: 0.8219 - loss: 0.3959 - val_binary_accuracy: 0.8667 - val_loss: 0.3822\n",
      "Epoch 68/1000\n",
      "\u001b[1m70/70\u001b[0m \u001b[32m━━━━━━━━━━━━━━━━━━━━\u001b[0m\u001b[37m\u001b[0m \u001b[1m0s\u001b[0m 3ms/step - binary_accuracy: 0.8294 - loss: 0.4344 - val_binary_accuracy: 0.8667 - val_loss: 0.3703\n",
      "Epoch 69/1000\n",
      "\u001b[1m70/70\u001b[0m \u001b[32m━━━━━━━━━━━━━━━━━━━━\u001b[0m\u001b[37m\u001b[0m \u001b[1m0s\u001b[0m 3ms/step - binary_accuracy: 0.7964 - loss: 0.4355 - val_binary_accuracy: 0.8667 - val_loss: 0.3789\n",
      "Epoch 70/1000\n",
      "\u001b[1m70/70\u001b[0m \u001b[32m━━━━━━━━━━━━━━━━━━━━\u001b[0m\u001b[37m\u001b[0m \u001b[1m0s\u001b[0m 2ms/step - binary_accuracy: 0.8223 - loss: 0.4294 - val_binary_accuracy: 0.8667 - val_loss: 0.3618\n",
      "Epoch 71/1000\n",
      "\u001b[1m70/70\u001b[0m \u001b[32m━━━━━━━━━━━━━━━━━━━━\u001b[0m\u001b[37m\u001b[0m \u001b[1m0s\u001b[0m 3ms/step - binary_accuracy: 0.8098 - loss: 0.3956 - val_binary_accuracy: 0.8667 - val_loss: 0.3700\n",
      "Epoch 72/1000\n",
      "\u001b[1m70/70\u001b[0m \u001b[32m━━━━━━━━━━━━━━━━━━━━\u001b[0m\u001b[37m\u001b[0m \u001b[1m0s\u001b[0m 2ms/step - binary_accuracy: 0.8770 - loss: 0.3353 - val_binary_accuracy: 0.8667 - val_loss: 0.3789\n",
      "Epoch 73/1000\n",
      "\u001b[1m70/70\u001b[0m \u001b[32m━━━━━━━━━━━━━━━━━━━━\u001b[0m\u001b[37m\u001b[0m \u001b[1m0s\u001b[0m 3ms/step - binary_accuracy: 0.7601 - loss: 0.4592 - val_binary_accuracy: 0.8667 - val_loss: 0.3597\n",
      "Epoch 74/1000\n",
      "\u001b[1m70/70\u001b[0m \u001b[32m━━━━━━━━━━━━━━━━━━━━\u001b[0m\u001b[37m\u001b[0m \u001b[1m0s\u001b[0m 3ms/step - binary_accuracy: 0.8538 - loss: 0.3730 - val_binary_accuracy: 0.8667 - val_loss: 0.3674\n",
      "Epoch 75/1000\n",
      "\u001b[1m70/70\u001b[0m \u001b[32m━━━━━━━━━━━━━━━━━━━━\u001b[0m\u001b[37m\u001b[0m \u001b[1m0s\u001b[0m 2ms/step - binary_accuracy: 0.8527 - loss: 0.3629 - val_binary_accuracy: 0.8667 - val_loss: 0.3768\n",
      "Epoch 76/1000\n",
      "\u001b[1m70/70\u001b[0m \u001b[32m━━━━━━━━━━━━━━━━━━━━\u001b[0m\u001b[37m\u001b[0m \u001b[1m0s\u001b[0m 3ms/step - binary_accuracy: 0.8437 - loss: 0.3993 - val_binary_accuracy: 0.8667 - val_loss: 0.3663\n",
      "Epoch 77/1000\n",
      "\u001b[1m70/70\u001b[0m \u001b[32m━━━━━━━━━━━━━━━━━━━━\u001b[0m\u001b[37m\u001b[0m \u001b[1m0s\u001b[0m 3ms/step - binary_accuracy: 0.8131 - loss: 0.3993 - val_binary_accuracy: 0.8667 - val_loss: 0.3500\n",
      "Epoch 78/1000\n",
      "\u001b[1m70/70\u001b[0m \u001b[32m━━━━━━━━━━━━━━━━━━━━\u001b[0m\u001b[37m\u001b[0m \u001b[1m0s\u001b[0m 3ms/step - binary_accuracy: 0.8659 - loss: 0.3994 - val_binary_accuracy: 0.8667 - val_loss: 0.3511\n",
      "Epoch 79/1000\n",
      "\u001b[1m70/70\u001b[0m \u001b[32m━━━━━━━━━━━━━━━━━━━━\u001b[0m\u001b[37m\u001b[0m \u001b[1m0s\u001b[0m 3ms/step - binary_accuracy: 0.8271 - loss: 0.4323 - val_binary_accuracy: 0.8667 - val_loss: 0.3503\n",
      "Epoch 80/1000\n",
      "\u001b[1m70/70\u001b[0m \u001b[32m━━━━━━━━━━━━━━━━━━━━\u001b[0m\u001b[37m\u001b[0m \u001b[1m0s\u001b[0m 3ms/step - binary_accuracy: 0.7845 - loss: 0.4467 - val_binary_accuracy: 0.8667 - val_loss: 0.3489\n",
      "Epoch 81/1000\n",
      "\u001b[1m70/70\u001b[0m \u001b[32m━━━━━━━━━━━━━━━━━━━━\u001b[0m\u001b[37m\u001b[0m \u001b[1m0s\u001b[0m 3ms/step - binary_accuracy: 0.8709 - loss: 0.3652 - val_binary_accuracy: 0.8667 - val_loss: 0.3614\n",
      "Epoch 82/1000\n",
      "\u001b[1m70/70\u001b[0m \u001b[32m━━━━━━━━━━━━━━━━━━━━\u001b[0m\u001b[37m\u001b[0m \u001b[1m0s\u001b[0m 5ms/step - binary_accuracy: 0.8733 - loss: 0.3771 - val_binary_accuracy: 0.8667 - val_loss: 0.3402\n",
      "Epoch 83/1000\n",
      "\u001b[1m70/70\u001b[0m \u001b[32m━━━━━━━━━━━━━━━━━━━━\u001b[0m\u001b[37m\u001b[0m \u001b[1m0s\u001b[0m 3ms/step - binary_accuracy: 0.8525 - loss: 0.3979 - val_binary_accuracy: 0.8667 - val_loss: 0.3489\n",
      "Epoch 84/1000\n",
      "\u001b[1m70/70\u001b[0m \u001b[32m━━━━━━━━━━━━━━━━━━━━\u001b[0m\u001b[37m\u001b[0m \u001b[1m0s\u001b[0m 3ms/step - binary_accuracy: 0.7912 - loss: 0.4234 - val_binary_accuracy: 0.8667 - val_loss: 0.3346\n",
      "Epoch 85/1000\n",
      "\u001b[1m70/70\u001b[0m \u001b[32m━━━━━━━━━━━━━━━━━━━━\u001b[0m\u001b[37m\u001b[0m \u001b[1m0s\u001b[0m 3ms/step - binary_accuracy: 0.8450 - loss: 0.3681 - val_binary_accuracy: 0.8667 - val_loss: 0.3405\n",
      "Epoch 86/1000\n",
      "\u001b[1m70/70\u001b[0m \u001b[32m━━━━━━━━━━━━━━━━━━━━\u001b[0m\u001b[37m\u001b[0m \u001b[1m0s\u001b[0m 3ms/step - binary_accuracy: 0.7978 - loss: 0.4069 - val_binary_accuracy: 0.9000 - val_loss: 0.3352\n",
      "Epoch 87/1000\n",
      "\u001b[1m70/70\u001b[0m \u001b[32m━━━━━━━━━━━━━━━━━━━━\u001b[0m\u001b[37m\u001b[0m \u001b[1m0s\u001b[0m 3ms/step - binary_accuracy: 0.8662 - loss: 0.3543 - val_binary_accuracy: 0.9000 - val_loss: 0.3449\n",
      "Epoch 88/1000\n",
      "\u001b[1m70/70\u001b[0m \u001b[32m━━━━━━━━━━━━━━━━━━━━\u001b[0m\u001b[37m\u001b[0m \u001b[1m0s\u001b[0m 3ms/step - binary_accuracy: 0.8652 - loss: 0.3489 - val_binary_accuracy: 0.9000 - val_loss: 0.3245\n",
      "Epoch 89/1000\n",
      "\u001b[1m70/70\u001b[0m \u001b[32m━━━━━━━━━━━━━━━━━━━━\u001b[0m\u001b[37m\u001b[0m \u001b[1m0s\u001b[0m 3ms/step - binary_accuracy: 0.7589 - loss: 0.4437 - val_binary_accuracy: 0.9000 - val_loss: 0.3184\n",
      "Epoch 90/1000\n",
      "\u001b[1m70/70\u001b[0m \u001b[32m━━━━━━━━━━━━━━━━━━━━\u001b[0m\u001b[37m\u001b[0m \u001b[1m0s\u001b[0m 3ms/step - binary_accuracy: 0.7602 - loss: 0.4551 - val_binary_accuracy: 0.9000 - val_loss: 0.3241\n",
      "Epoch 91/1000\n",
      "\u001b[1m70/70\u001b[0m \u001b[32m━━━━━━━━━━━━━━━━━━━━\u001b[0m\u001b[37m\u001b[0m \u001b[1m0s\u001b[0m 2ms/step - binary_accuracy: 0.7967 - loss: 0.4967 - val_binary_accuracy: 0.9000 - val_loss: 0.3261\n",
      "Epoch 92/1000\n",
      "\u001b[1m70/70\u001b[0m \u001b[32m━━━━━━━━━━━━━━━━━━━━\u001b[0m\u001b[37m\u001b[0m \u001b[1m0s\u001b[0m 3ms/step - binary_accuracy: 0.8126 - loss: 0.4175 - val_binary_accuracy: 0.9000 - val_loss: 0.3198\n",
      "Epoch 93/1000\n",
      "\u001b[1m70/70\u001b[0m \u001b[32m━━━━━━━━━━━━━━━━━━━━\u001b[0m\u001b[37m\u001b[0m \u001b[1m0s\u001b[0m 3ms/step - binary_accuracy: 0.8618 - loss: 0.3311 - val_binary_accuracy: 0.9000 - val_loss: 0.3115\n",
      "Epoch 94/1000\n",
      "\u001b[1m70/70\u001b[0m \u001b[32m━━━━━━━━━━━━━━━━━━━━\u001b[0m\u001b[37m\u001b[0m \u001b[1m0s\u001b[0m 3ms/step - binary_accuracy: 0.8629 - loss: 0.3697 - val_binary_accuracy: 0.9000 - val_loss: 0.3174\n",
      "Epoch 95/1000\n",
      "\u001b[1m70/70\u001b[0m \u001b[32m━━━━━━━━━━━━━━━━━━━━\u001b[0m\u001b[37m\u001b[0m \u001b[1m0s\u001b[0m 3ms/step - binary_accuracy: 0.8523 - loss: 0.3415 - val_binary_accuracy: 0.9000 - val_loss: 0.2939\n",
      "Epoch 96/1000\n",
      "\u001b[1m70/70\u001b[0m \u001b[32m━━━━━━━━━━━━━━━━━━━━\u001b[0m\u001b[37m\u001b[0m \u001b[1m0s\u001b[0m 3ms/step - binary_accuracy: 0.8655 - loss: 0.3706 - val_binary_accuracy: 0.9000 - val_loss: 0.2992\n",
      "Epoch 97/1000\n",
      "\u001b[1m70/70\u001b[0m \u001b[32m━━━━━━━━━━━━━━━━━━━━\u001b[0m\u001b[37m\u001b[0m \u001b[1m0s\u001b[0m 3ms/step - binary_accuracy: 0.8024 - loss: 0.3823 - val_binary_accuracy: 0.9000 - val_loss: 0.2929\n",
      "Epoch 98/1000\n",
      "\u001b[1m70/70\u001b[0m \u001b[32m━━━━━━━━━━━━━━━━━━━━\u001b[0m\u001b[37m\u001b[0m \u001b[1m0s\u001b[0m 4ms/step - binary_accuracy: 0.8362 - loss: 0.3391 - val_binary_accuracy: 0.9000 - val_loss: 0.3032\n",
      "Epoch 99/1000\n",
      "\u001b[1m70/70\u001b[0m \u001b[32m━━━━━━━━━━━━━━━━━━━━\u001b[0m\u001b[37m\u001b[0m \u001b[1m0s\u001b[0m 3ms/step - binary_accuracy: 0.8862 - loss: 0.3319 - val_binary_accuracy: 0.9000 - val_loss: 0.2975\n",
      "Epoch 100/1000\n",
      "\u001b[1m70/70\u001b[0m \u001b[32m━━━━━━━━━━━━━━━━━━━━\u001b[0m\u001b[37m\u001b[0m \u001b[1m0s\u001b[0m 3ms/step - binary_accuracy: 0.8163 - loss: 0.3979 - val_binary_accuracy: 0.9000 - val_loss: 0.2997\n",
      "Epoch 101/1000\n",
      "\u001b[1m70/70\u001b[0m \u001b[32m━━━━━━━━━━━━━━━━━━━━\u001b[0m\u001b[37m\u001b[0m \u001b[1m0s\u001b[0m 3ms/step - binary_accuracy: 0.9218 - loss: 0.3090 - val_binary_accuracy: 0.9000 - val_loss: 0.2926\n",
      "Epoch 102/1000\n",
      "\u001b[1m70/70\u001b[0m \u001b[32m━━━━━━━━━━━━━━━━━━━━\u001b[0m\u001b[37m\u001b[0m \u001b[1m0s\u001b[0m 3ms/step - binary_accuracy: 0.8728 - loss: 0.3390 - val_binary_accuracy: 0.9000 - val_loss: 0.2936\n",
      "Epoch 103/1000\n",
      "\u001b[1m70/70\u001b[0m \u001b[32m━━━━━━━━━━━━━━━━━━━━\u001b[0m\u001b[37m\u001b[0m \u001b[1m0s\u001b[0m 3ms/step - binary_accuracy: 0.9021 - loss: 0.3862 - val_binary_accuracy: 0.9000 - val_loss: 0.2933\n",
      "Epoch 104/1000\n",
      "\u001b[1m70/70\u001b[0m \u001b[32m━━━━━━━━━━━━━━━━━━━━\u001b[0m\u001b[37m\u001b[0m \u001b[1m0s\u001b[0m 4ms/step - binary_accuracy: 0.8753 - loss: 0.3180 - val_binary_accuracy: 0.9000 - val_loss: 0.2942\n",
      "Epoch 105/1000\n",
      "\u001b[1m70/70\u001b[0m \u001b[32m━━━━━━━━━━━━━━━━━━━━\u001b[0m\u001b[37m\u001b[0m \u001b[1m0s\u001b[0m 3ms/step - binary_accuracy: 0.8534 - loss: 0.3373 - val_binary_accuracy: 0.8667 - val_loss: 0.2933\n",
      "Epoch 106/1000\n",
      "\u001b[1m70/70\u001b[0m \u001b[32m━━━━━━━━━━━━━━━━━━━━\u001b[0m\u001b[37m\u001b[0m \u001b[1m0s\u001b[0m 3ms/step - binary_accuracy: 0.7852 - loss: 0.4006 - val_binary_accuracy: 0.9000 - val_loss: 0.2787\n",
      "Epoch 107/1000\n",
      "\u001b[1m70/70\u001b[0m \u001b[32m━━━━━━━━━━━━━━━━━━━━\u001b[0m\u001b[37m\u001b[0m \u001b[1m0s\u001b[0m 3ms/step - binary_accuracy: 0.8726 - loss: 0.2972 - val_binary_accuracy: 0.8667 - val_loss: 0.2864\n",
      "Epoch 108/1000\n",
      "\u001b[1m70/70\u001b[0m \u001b[32m━━━━━━━━━━━━━━━━━━━━\u001b[0m\u001b[37m\u001b[0m \u001b[1m0s\u001b[0m 3ms/step - binary_accuracy: 0.7634 - loss: 0.4157 - val_binary_accuracy: 0.8667 - val_loss: 0.2795\n",
      "Epoch 109/1000\n",
      "\u001b[1m70/70\u001b[0m \u001b[32m━━━━━━━━━━━━━━━━━━━━\u001b[0m\u001b[37m\u001b[0m \u001b[1m1s\u001b[0m 6ms/step - binary_accuracy: 0.8858 - loss: 0.2909 - val_binary_accuracy: 0.8667 - val_loss: 0.2811\n",
      "Epoch 110/1000\n",
      "\u001b[1m70/70\u001b[0m \u001b[32m━━━━━━━━━━━━━━━━━━━━\u001b[0m\u001b[37m\u001b[0m \u001b[1m0s\u001b[0m 4ms/step - binary_accuracy: 0.8616 - loss: 0.3595 - val_binary_accuracy: 0.8667 - val_loss: 0.2759\n",
      "Epoch 111/1000\n",
      "\u001b[1m70/70\u001b[0m \u001b[32m━━━━━━━━━━━━━━━━━━━━\u001b[0m\u001b[37m\u001b[0m \u001b[1m0s\u001b[0m 4ms/step - binary_accuracy: 0.8536 - loss: 0.3980 - val_binary_accuracy: 0.8667 - val_loss: 0.2752\n",
      "Epoch 112/1000\n",
      "\u001b[1m70/70\u001b[0m \u001b[32m━━━━━━━━━━━━━━━━━━━━\u001b[0m\u001b[37m\u001b[0m \u001b[1m0s\u001b[0m 3ms/step - binary_accuracy: 0.8473 - loss: 0.3665 - val_binary_accuracy: 0.8667 - val_loss: 0.2635\n",
      "Epoch 113/1000\n",
      "\u001b[1m70/70\u001b[0m \u001b[32m━━━━━━━━━━━━━━━━━━━━\u001b[0m\u001b[37m\u001b[0m \u001b[1m0s\u001b[0m 2ms/step - binary_accuracy: 0.8988 - loss: 0.2624 - val_binary_accuracy: 0.8667 - val_loss: 0.2852\n",
      "Epoch 114/1000\n",
      "\u001b[1m70/70\u001b[0m \u001b[32m━━━━━━━━━━━━━━━━━━━━\u001b[0m\u001b[37m\u001b[0m \u001b[1m0s\u001b[0m 3ms/step - binary_accuracy: 0.9081 - loss: 0.3181 - val_binary_accuracy: 0.8667 - val_loss: 0.2735\n",
      "Epoch 115/1000\n",
      "\u001b[1m70/70\u001b[0m \u001b[32m━━━━━━━━━━━━━━━━━━━━\u001b[0m\u001b[37m\u001b[0m \u001b[1m0s\u001b[0m 2ms/step - binary_accuracy: 0.8283 - loss: 0.3575 - val_binary_accuracy: 0.8667 - val_loss: 0.2559\n",
      "Epoch 116/1000\n",
      "\u001b[1m70/70\u001b[0m \u001b[32m━━━━━━━━━━━━━━━━━━━━\u001b[0m\u001b[37m\u001b[0m \u001b[1m0s\u001b[0m 3ms/step - binary_accuracy: 0.8881 - loss: 0.3056 - val_binary_accuracy: 0.9000 - val_loss: 0.2805\n",
      "Epoch 117/1000\n",
      "\u001b[1m70/70\u001b[0m \u001b[32m━━━━━━━━━━━━━━━━━━━━\u001b[0m\u001b[37m\u001b[0m \u001b[1m0s\u001b[0m 3ms/step - binary_accuracy: 0.8985 - loss: 0.2814 - val_binary_accuracy: 0.8667 - val_loss: 0.2635\n",
      "Epoch 118/1000\n",
      "\u001b[1m70/70\u001b[0m \u001b[32m━━━━━━━━━━━━━━━━━━━━\u001b[0m\u001b[37m\u001b[0m \u001b[1m0s\u001b[0m 3ms/step - binary_accuracy: 0.8876 - loss: 0.3071 - val_binary_accuracy: 0.9000 - val_loss: 0.2822\n",
      "Epoch 119/1000\n",
      "\u001b[1m70/70\u001b[0m \u001b[32m━━━━━━━━━━━━━━━━━━━━\u001b[0m\u001b[37m\u001b[0m \u001b[1m0s\u001b[0m 3ms/step - binary_accuracy: 0.8728 - loss: 0.2960 - val_binary_accuracy: 0.8667 - val_loss: 0.2649\n",
      "Epoch 120/1000\n",
      "\u001b[1m70/70\u001b[0m \u001b[32m━━━━━━━━━━━━━━━━━━━━\u001b[0m\u001b[37m\u001b[0m \u001b[1m0s\u001b[0m 3ms/step - binary_accuracy: 0.8674 - loss: 0.3493 - val_binary_accuracy: 0.8667 - val_loss: 0.2599\n",
      "Epoch 121/1000\n",
      "\u001b[1m70/70\u001b[0m \u001b[32m━━━━━━━━━━━━━━━━━━━━\u001b[0m\u001b[37m\u001b[0m \u001b[1m0s\u001b[0m 3ms/step - binary_accuracy: 0.9078 - loss: 0.2890 - val_binary_accuracy: 0.9000 - val_loss: 0.2709\n",
      "Epoch 122/1000\n",
      "\u001b[1m70/70\u001b[0m \u001b[32m━━━━━━━━━━━━━━━━━━━━\u001b[0m\u001b[37m\u001b[0m \u001b[1m0s\u001b[0m 3ms/step - binary_accuracy: 0.8876 - loss: 0.3032 - val_binary_accuracy: 0.9000 - val_loss: 0.2732\n",
      "Epoch 123/1000\n",
      "\u001b[1m70/70\u001b[0m \u001b[32m━━━━━━━━━━━━━━━━━━━━\u001b[0m\u001b[37m\u001b[0m \u001b[1m0s\u001b[0m 2ms/step - binary_accuracy: 0.8747 - loss: 0.3723 - val_binary_accuracy: 0.9000 - val_loss: 0.2568\n",
      "Epoch 124/1000\n",
      "\u001b[1m70/70\u001b[0m \u001b[32m━━━━━━━━━━━━━━━━━━━━\u001b[0m\u001b[37m\u001b[0m \u001b[1m0s\u001b[0m 2ms/step - binary_accuracy: 0.9158 - loss: 0.2581 - val_binary_accuracy: 0.9000 - val_loss: 0.2525\n",
      "Epoch 125/1000\n",
      "\u001b[1m70/70\u001b[0m \u001b[32m━━━━━━━━━━━━━━━━━━━━\u001b[0m\u001b[37m\u001b[0m \u001b[1m0s\u001b[0m 3ms/step - binary_accuracy: 0.8861 - loss: 0.3658 - val_binary_accuracy: 0.8667 - val_loss: 0.2558\n",
      "Epoch 126/1000\n",
      "\u001b[1m70/70\u001b[0m \u001b[32m━━━━━━━━━━━━━━━━━━━━\u001b[0m\u001b[37m\u001b[0m \u001b[1m0s\u001b[0m 3ms/step - binary_accuracy: 0.9173 - loss: 0.2791 - val_binary_accuracy: 0.9000 - val_loss: 0.2608\n",
      "Epoch 127/1000\n",
      "\u001b[1m70/70\u001b[0m \u001b[32m━━━━━━━━━━━━━━━━━━━━\u001b[0m\u001b[37m\u001b[0m \u001b[1m0s\u001b[0m 3ms/step - binary_accuracy: 0.9253 - loss: 0.2706 - val_binary_accuracy: 0.9000 - val_loss: 0.2483\n",
      "Epoch 128/1000\n",
      "\u001b[1m70/70\u001b[0m \u001b[32m━━━━━━━━━━━━━━━━━━━━\u001b[0m\u001b[37m\u001b[0m \u001b[1m0s\u001b[0m 2ms/step - binary_accuracy: 0.8681 - loss: 0.3139 - val_binary_accuracy: 0.9000 - val_loss: 0.2361\n",
      "Epoch 129/1000\n",
      "\u001b[1m70/70\u001b[0m \u001b[32m━━━━━━━━━━━━━━━━━━━━\u001b[0m\u001b[37m\u001b[0m \u001b[1m0s\u001b[0m 3ms/step - binary_accuracy: 0.9267 - loss: 0.2789 - val_binary_accuracy: 0.9000 - val_loss: 0.2471\n",
      "Epoch 130/1000\n",
      "\u001b[1m70/70\u001b[0m \u001b[32m━━━━━━━━━━━━━━━━━━━━\u001b[0m\u001b[37m\u001b[0m \u001b[1m0s\u001b[0m 3ms/step - binary_accuracy: 0.9219 - loss: 0.2704 - val_binary_accuracy: 0.9000 - val_loss: 0.2596\n",
      "Epoch 131/1000\n",
      "\u001b[1m70/70\u001b[0m \u001b[32m━━━━━━━━━━━━━━━━━━━━\u001b[0m\u001b[37m\u001b[0m \u001b[1m0s\u001b[0m 3ms/step - binary_accuracy: 0.9309 - loss: 0.2665 - val_binary_accuracy: 0.9000 - val_loss: 0.2580\n",
      "Epoch 132/1000\n",
      "\u001b[1m70/70\u001b[0m \u001b[32m━━━━━━━━━━━━━━━━━━━━\u001b[0m\u001b[37m\u001b[0m \u001b[1m0s\u001b[0m 3ms/step - binary_accuracy: 0.9271 - loss: 0.2746 - val_binary_accuracy: 0.9000 - val_loss: 0.2585\n",
      "Epoch 133/1000\n",
      "\u001b[1m70/70\u001b[0m \u001b[32m━━━━━━━━━━━━━━━━━━━━\u001b[0m\u001b[37m\u001b[0m \u001b[1m0s\u001b[0m 3ms/step - binary_accuracy: 0.9206 - loss: 0.2955 - val_binary_accuracy: 0.9000 - val_loss: 0.2394\n",
      "Epoch 134/1000\n",
      "\u001b[1m70/70\u001b[0m \u001b[32m━━━━━━━━━━━━━━━━━━━━\u001b[0m\u001b[37m\u001b[0m \u001b[1m0s\u001b[0m 2ms/step - binary_accuracy: 0.9012 - loss: 0.2735 - val_binary_accuracy: 0.9000 - val_loss: 0.2544\n",
      "Epoch 135/1000\n",
      "\u001b[1m70/70\u001b[0m \u001b[32m━━━━━━━━━━━━━━━━━━━━\u001b[0m\u001b[37m\u001b[0m \u001b[1m0s\u001b[0m 3ms/step - binary_accuracy: 0.9129 - loss: 0.2932 - val_binary_accuracy: 0.9000 - val_loss: 0.2506\n",
      "Epoch 136/1000\n",
      "\u001b[1m70/70\u001b[0m \u001b[32m━━━━━━━━━━━━━━━━━━━━\u001b[0m\u001b[37m\u001b[0m \u001b[1m0s\u001b[0m 4ms/step - binary_accuracy: 0.9396 - loss: 0.2964 - val_binary_accuracy: 0.9000 - val_loss: 0.2586\n",
      "Epoch 137/1000\n",
      "\u001b[1m70/70\u001b[0m \u001b[32m━━━━━━━━━━━━━━━━━━━━\u001b[0m\u001b[37m\u001b[0m \u001b[1m0s\u001b[0m 3ms/step - binary_accuracy: 0.9185 - loss: 0.2913 - val_binary_accuracy: 0.9000 - val_loss: 0.2529\n",
      "Epoch 138/1000\n",
      "\u001b[1m70/70\u001b[0m \u001b[32m━━━━━━━━━━━━━━━━━━━━\u001b[0m\u001b[37m\u001b[0m \u001b[1m0s\u001b[0m 3ms/step - binary_accuracy: 0.8851 - loss: 0.3110 - val_binary_accuracy: 0.8667 - val_loss: 0.2542\n"
     ]
    }
   ],
   "source": [
    "early_stopping = keras.callbacks.EarlyStopping(\n",
    "    patience=10,\n",
    "    min_delta=0.001,\n",
    "    restore_best_weights=True,\n",
    ")\n",
    "\n",
    "history = model.fit(\n",
    "    X_train, y_train,\n",
    "    validation_data=(X_valid, y_valid),\n",
    "    batch_size=1,\n",
    "    epochs=1000,\n",
    "    callbacks=[early_stopping],\n",
    "    verbose=1, # 0 to hide the output\n",
    ")"
   ]
  },
  {
   "cell_type": "code",
   "execution_count": 262,
   "id": "a3af2a80",
   "metadata": {
    "execution": {
     "iopub.execute_input": "2024-03-13T04:55:51.350018Z",
     "iopub.status.busy": "2024-03-13T04:55:51.349587Z",
     "iopub.status.idle": "2024-03-13T04:55:52.014431Z",
     "shell.execute_reply": "2024-03-13T04:55:52.012879Z"
    },
    "papermill": {
     "duration": 0.76685,
     "end_time": "2024-03-13T04:55:52.017446",
     "exception": false,
     "start_time": "2024-03-13T04:55:51.250596",
     "status": "completed"
    },
    "tags": []
   },
   "outputs": [
    {
     "name": "stdout",
     "output_type": "stream",
     "text": [
      "Best Validation Loss: 0.2361\n",
      "Best Validation Accuracy: 0.9000\n"
     ]
    },
    {
     "data": {
      "image/png": "[encoded data removed]",
      "text/plain": [
       "<Figure size 640x480 with 1 Axes>"
      ]
     },
     "metadata": {},
     "output_type": "display_data"
    },
    {
     "data": {
      "image/png": "[encoded data removed]",
      "text/plain": [
       "<Figure size 640x480 with 1 Axes>"
      ]
     },
     "metadata": {},
     "output_type": "display_data"
    }
   ],
   "source": [
    "history_df = pd.DataFrame(history.history)\n",
    "# Start the plot at epoch 5\n",
    "history_df.loc[5:, ['loss', 'val_loss']].plot()\n",
    "history_df.loc[5:, ['binary_accuracy', 'val_binary_accuracy']].plot()\n",
    "\n",
    "print((\"Best Validation Loss: {:0.4f}\" +\\\n",
    "      \"\\nBest Validation Accuracy: {:0.4f}\")\\\n",
    "      .format(history_df['val_loss'].min(), \n",
    "              history_df['val_binary_accuracy'].max()))"
   ]
  },
  {
   "cell_type": "markdown",
   "id": "a3c749c2",
   "metadata": {
    "papermill": {
     "duration": 0.096945,
     "end_time": "2024-03-13T04:55:52.213169",
     "exception": false,
     "start_time": "2024-03-13T04:55:52.116224",
     "status": "completed"
    },
    "tags": []
   },
   "source": [
    "# 3) Predictions & Actual #"
   ]
  },
  {
   "cell_type": "code",
   "execution_count": 263,
   "id": "75a0782b",
   "metadata": {
    "execution": {
     "iopub.execute_input": "2024-03-13T04:55:52.409329Z",
     "iopub.status.busy": "2024-03-13T04:55:52.408879Z",
     "iopub.status.idle": "2024-03-13T04:55:52.608556Z",
     "shell.execute_reply": "2024-03-13T04:55:52.606998Z"
    },
    "papermill": {
     "duration": 0.300646,
     "end_time": "2024-03-13T04:55:52.611165",
     "exception": false,
     "start_time": "2024-03-13T04:55:52.310519",
     "status": "completed"
    },
    "tags": []
   },
   "outputs": [
    {
     "name": "stdout",
     "output_type": "stream",
     "text": [
      "\u001b[1m1/1\u001b[0m \u001b[32m━━━━━━━━━━━━━━━━━━━━\u001b[0m\u001b[37m\u001b[0m \u001b[1m0s\u001b[0m 152ms/step\n"
     ]
    },
    {
     "data": {
      "text/html": [
       "<div>\n",
       "<style scoped>\n",
       "    .dataframe tbody tr th:only-of-type {\n",
       "        vertical-align: middle;\n",
       "    }\n",
       "\n",
       "    .dataframe tbody tr th {\n",
       "        vertical-align: top;\n",
       "    }\n",
       "\n",
       "    .dataframe thead th {\n",
       "        text-align: right;\n",
       "    }\n",
       "</style>\n",
       "<table border=\"1\" class=\"dataframe\">\n",
       "  <thead>\n",
       "    <tr style=\"text-align: right;\">\n",
       "      <th></th>\n",
       "      <th>Predictions</th>\n",
       "      <th>Actual</th>\n",
       "    </tr>\n",
       "  </thead>\n",
       "  <tbody>\n",
       "    <tr>\n",
       "      <th>8</th>\n",
       "      <td>1</td>\n",
       "      <td>1</td>\n",
       "    </tr>\n",
       "    <tr>\n",
       "      <th>7</th>\n",
       "      <td>1</td>\n",
       "      <td>1</td>\n",
       "    </tr>\n",
       "    <tr>\n",
       "      <th>32</th>\n",
       "      <td>1</td>\n",
       "      <td>1</td>\n",
       "    </tr>\n",
       "    <tr>\n",
       "      <th>96</th>\n",
       "      <td>1</td>\n",
       "      <td>1</td>\n",
       "    </tr>\n",
       "    <tr>\n",
       "      <th>84</th>\n",
       "      <td>0</td>\n",
       "      <td>1</td>\n",
       "    </tr>\n",
       "  </tbody>\n",
       "</table>\n",
       "</div>"
      ],
      "text/plain": [
       "    Predictions  Actual\n",
       "8             1       1\n",
       "7             1       1\n",
       "32            1       1\n",
       "96            1       1\n",
       "84            0       1"
      ]
     },
     "execution_count": 263,
     "metadata": {},
     "output_type": "execute_result"
    }
   ],
   "source": [
    "import numpy as np\n",
    "\n",
    "# Dự đoán trên tập validation\n",
    "y_pred = model.predict(X_valid)\n",
    "\n",
    "# Áp đặt ngưỡng\n",
    "threshold = 0.5\n",
    "\n",
    "# Chuyển đổi dự đoán thành các nhãn nhị phân (0 hoặc 1)\n",
    "binary_predictions = np.where(y_pred >= threshold, 1, 0)\n",
    "\n",
    "\n",
    "# Tạo DataFrame từ binary_predictions và y_valid\n",
    "df = pd.DataFrame({'Predictions': binary_predictions.flatten(), 'Actual': y_valid})\n",
    "\n",
    "# In ra DataFrame\n",
    "df.head()"
   ]
  },
  {
   "cell_type": "markdown",
   "id": "cb45078f",
   "metadata": {
    "papermill": {
     "duration": 0.103723,
     "end_time": "2024-03-13T04:55:53.086045",
     "exception": false,
     "start_time": "2024-03-13T04:55:52.982322",
     "status": "completed"
    },
    "tags": []
   },
   "source": [
    "# 4) Prediction a sample #"
   ]
  },
  {
   "cell_type": "code",
   "execution_count": 264,
   "id": "242adbbb",
   "metadata": {
    "execution": {
     "iopub.execute_input": "2024-03-13T04:55:53.289084Z",
     "iopub.status.busy": "2024-03-13T04:55:53.288631Z",
     "iopub.status.idle": "2024-03-13T04:55:53.412006Z",
     "shell.execute_reply": "2024-03-13T04:55:53.411019Z"
    },
    "papermill": {
     "duration": 0.228021,
     "end_time": "2024-03-13T04:55:53.414559",
     "exception": false,
     "start_time": "2024-03-13T04:55:53.186538",
     "status": "completed"
    },
    "tags": []
   },
   "outputs": [
    {
     "name": "stdout",
     "output_type": "stream",
     "text": [
      "\u001b[1m1/1\u001b[0m \u001b[32m━━━━━━━━━━━━━━━━━━━━\u001b[0m\u001b[37m\u001b[0m \u001b[1m0s\u001b[0m 98ms/step\n"
     ]
    },
    {
     "data": {
      "text/html": [
       "<div>\n",
       "<style scoped>\n",
       "    .dataframe tbody tr th:only-of-type {\n",
       "        vertical-align: middle;\n",
       "    }\n",
       "\n",
       "    .dataframe tbody tr th {\n",
       "        vertical-align: top;\n",
       "    }\n",
       "\n",
       "    .dataframe thead th {\n",
       "        text-align: right;\n",
       "    }\n",
       "</style>\n",
       "<table border=\"1\" class=\"dataframe\">\n",
       "  <thead>\n",
       "    <tr style=\"text-align: right;\">\n",
       "      <th></th>\n",
       "      <th>Feature 1</th>\n",
       "      <th>Feature 2</th>\n",
       "      <th>Prediction</th>\n",
       "    </tr>\n",
       "  </thead>\n",
       "  <tbody>\n",
       "    <tr>\n",
       "      <th>0</th>\n",
       "      <td>4</td>\n",
       "      <td>9</td>\n",
       "      <td>1</td>\n",
       "    </tr>\n",
       "  </tbody>\n",
       "</table>\n",
       "</div>"
      ],
      "text/plain": [
       "   Feature 1  Feature 2  Prediction\n",
       "0          4          9           1"
      ]
     },
     "execution_count": 264,
     "metadata": {},
     "output_type": "execute_result"
    }
   ],
   "source": [
    "# Cho trước hai đặc trưng (ví dụ: đặc trưng 1 và đặc trưng 2)\n",
    "sample = np.array([[4, 9]])\n",
    "\n",
    "# Dự đoán kết quả\n",
    "pred = model.predict(sample)\n",
    "\n",
    "pred = 1 if pred >= 0.5 else 0\n",
    "\n",
    "# In ra kết quả dự đoán\n",
    "df = pd.DataFrame({'Feature 1': [sample[0][0]], 'Feature 2': [sample[0][1]], 'Prediction': [pred]})\n",
    "df"
   ]
  }
 ],
 "metadata": {
  "kaggle": {
   "accelerator": "none",
   "dataSources": [
    {
     "datasetId": 4588352,
     "sourceId": 7829434,
     "sourceType": "datasetVersion"
    }
   ],
   "dockerImageVersionId": 30664,
   "isGpuEnabled": false,
   "isInternetEnabled": true,
   "language": "python",
   "sourceType": "notebook"
  },
  "kernelspec": {
   "display_name": "Python 3",
   "language": "python",
   "name": "python3"
  },
  "language_info": {
   "codemirror_mode": {
    "name": "ipython",
    "version": 3
   },
   "file_extension": ".py",
   "mimetype": "text/x-python",
   "name": "python",
   "nbconvert_exporter": "python",
   "pygments_lexer": "ipython3",
   "version": "3.10.0"
  },
  "papermill": {
   "default_parameters": {},
   "duration": 78.318398,
   "end_time": "2024-03-13T04:55:56.752991",
   "environment_variables": {},
   "exception": null,
   "input_path": "__notebook__.ipynb",
   "output_path": "__notebook__.ipynb",
   "parameters": {},
   "start_time": "2024-03-13T04:54:38.434593",
   "version": "2.5.0"
  }
 },
 "nbformat": 4,
 "nbformat_minor": 5
}
