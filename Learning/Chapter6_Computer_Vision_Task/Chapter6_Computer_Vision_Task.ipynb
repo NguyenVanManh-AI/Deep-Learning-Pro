{
 "cells": [
  {
   "cell_type": "markdown",
   "metadata": {},
   "source": [
    "# Chapter6_Computer_Vision_Task"
   ]
  }
 ],
 "metadata": {
  "language_info": {
   "name": "python"
  }
 },
 "nbformat": 4,
 "nbformat_minor": 2
}
